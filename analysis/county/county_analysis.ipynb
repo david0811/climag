{
 "cells": [
  {
   "cell_type": "markdown",
   "metadata": {},
   "source": [
    "# County-level yield analysis"
   ]
  },
  {
   "cell_type": "code",
   "execution_count": null,
   "metadata": {},
   "outputs": [],
   "source": [
    "###################### 2D plot"
   ]
  },
  {
   "cell_type": "code",
   "execution_count": 112,
   "metadata": {},
   "outputs": [
    {
     "data": {
      "text/html": [
       "<div>\n",
       "<style scoped>\n",
       "    .dataframe tbody tr th:only-of-type {\n",
       "        vertical-align: middle;\n",
       "    }\n",
       "\n",
       "    .dataframe tbody tr th {\n",
       "        vertical-align: top;\n",
       "    }\n",
       "\n",
       "    .dataframe thead th {\n",
       "        text-align: right;\n",
       "    }\n",
       "</style>\n",
       "<table border=\"1\" class=\"dataframe\">\n",
       "  <thead>\n",
       "    <tr style=\"text-align: right;\">\n",
       "      <th></th>\n",
       "      <th>year</th>\n",
       "      <th>asd_code</th>\n",
       "      <th>Value</th>\n",
       "      <th>area</th>\n",
       "      <th>log_Value</th>\n",
       "      <th>lowess_log_Value</th>\n",
       "      <th>target_Value</th>\n",
       "      <th>GEOID</th>\n",
       "    </tr>\n",
       "  </thead>\n",
       "  <tbody>\n",
       "    <tr>\n",
       "      <th>0</th>\n",
       "      <td>1950</td>\n",
       "      <td>40</td>\n",
       "      <td>17.0</td>\n",
       "      <td>29600.0</td>\n",
       "      <td>2.833213</td>\n",
       "      <td>2.922636</td>\n",
       "      <td>-0.089422</td>\n",
       "      <td>01001</td>\n",
       "    </tr>\n",
       "    <tr>\n",
       "      <th>1</th>\n",
       "      <td>1950</td>\n",
       "      <td>40</td>\n",
       "      <td>11.0</td>\n",
       "      <td>24200.0</td>\n",
       "      <td>2.397895</td>\n",
       "      <td>2.684326</td>\n",
       "      <td>-0.286430</td>\n",
       "      <td>01011</td>\n",
       "    </tr>\n",
       "    <tr>\n",
       "      <th>2</th>\n",
       "      <td>1950</td>\n",
       "      <td>40</td>\n",
       "      <td>13.0</td>\n",
       "      <td>44200.0</td>\n",
       "      <td>2.564949</td>\n",
       "      <td>2.724326</td>\n",
       "      <td>-0.159377</td>\n",
       "      <td>01047</td>\n",
       "    </tr>\n",
       "    <tr>\n",
       "      <th>3</th>\n",
       "      <td>1950</td>\n",
       "      <td>40</td>\n",
       "      <td>23.0</td>\n",
       "      <td>38900.0</td>\n",
       "      <td>3.135494</td>\n",
       "      <td>3.057709</td>\n",
       "      <td>0.077785</td>\n",
       "      <td>01051</td>\n",
       "    </tr>\n",
       "    <tr>\n",
       "      <th>4</th>\n",
       "      <td>1950</td>\n",
       "      <td>40</td>\n",
       "      <td>16.0</td>\n",
       "      <td>23900.0</td>\n",
       "      <td>2.772589</td>\n",
       "      <td>2.724703</td>\n",
       "      <td>0.047885</td>\n",
       "      <td>01063</td>\n",
       "    </tr>\n",
       "  </tbody>\n",
       "</table>\n",
       "</div>"
      ],
      "text/plain": [
       "   year asd_code  Value     area  log_Value  lowess_log_Value  target_Value  \\\n",
       "0  1950       40   17.0  29600.0   2.833213          2.922636     -0.089422   \n",
       "1  1950       40   11.0  24200.0   2.397895          2.684326     -0.286430   \n",
       "2  1950       40   13.0  44200.0   2.564949          2.724326     -0.159377   \n",
       "3  1950       40   23.0  38900.0   3.135494          3.057709      0.077785   \n",
       "4  1950       40   16.0  23900.0   2.772589          2.724703      0.047885   \n",
       "\n",
       "   GEOID  \n",
       "0  01001  \n",
       "1  01011  \n",
       "2  01047  \n",
       "3  01051  \n",
       "4  01063  "
      ]
     },
     "execution_count": 112,
     "metadata": {},
     "output_type": "execute_result"
    }
   ],
   "source": [
    "usda.head()"
   ]
  },
  {
   "cell_type": "code",
   "execution_count": 113,
   "metadata": {},
   "outputs": [],
   "source": [
    "usdad = usda.set_index([\"GEOID\", \"year\"]).query(\"Value > 0.0 and year >= 1950\").filter([\"target_Value\"])"
   ]
  },
  {
   "cell_type": "code",
   "execution_count": 114,
   "metadata": {},
   "outputs": [
    {
     "data": {
      "text/html": [
       "<div>\n",
       "<style scoped>\n",
       "    .dataframe tbody tr th:only-of-type {\n",
       "        vertical-align: middle;\n",
       "    }\n",
       "\n",
       "    .dataframe tbody tr th {\n",
       "        vertical-align: top;\n",
       "    }\n",
       "\n",
       "    .dataframe thead th {\n",
       "        text-align: right;\n",
       "    }\n",
       "</style>\n",
       "<table border=\"1\" class=\"dataframe\">\n",
       "  <thead>\n",
       "    <tr style=\"text-align: right;\">\n",
       "      <th></th>\n",
       "      <th></th>\n",
       "      <th>target_Value</th>\n",
       "    </tr>\n",
       "    <tr>\n",
       "      <th>GEOID</th>\n",
       "      <th>year</th>\n",
       "      <th></th>\n",
       "    </tr>\n",
       "  </thead>\n",
       "  <tbody>\n",
       "    <tr>\n",
       "      <th>01001</th>\n",
       "      <th>1950</th>\n",
       "      <td>-0.089422</td>\n",
       "    </tr>\n",
       "    <tr>\n",
       "      <th>01011</th>\n",
       "      <th>1950</th>\n",
       "      <td>-0.286430</td>\n",
       "    </tr>\n",
       "    <tr>\n",
       "      <th>01047</th>\n",
       "      <th>1950</th>\n",
       "      <td>-0.159377</td>\n",
       "    </tr>\n",
       "    <tr>\n",
       "      <th>01051</th>\n",
       "      <th>1950</th>\n",
       "      <td>0.077785</td>\n",
       "    </tr>\n",
       "    <tr>\n",
       "      <th>01063</th>\n",
       "      <th>1950</th>\n",
       "      <td>0.047885</td>\n",
       "    </tr>\n",
       "  </tbody>\n",
       "</table>\n",
       "</div>"
      ],
      "text/plain": [
       "            target_Value\n",
       "GEOID year              \n",
       "01001 1950     -0.089422\n",
       "01011 1950     -0.286430\n",
       "01047 1950     -0.159377\n",
       "01051 1950      0.077785\n",
       "01063 1950      0.047885"
      ]
     },
     "execution_count": 114,
     "metadata": {},
     "output_type": "execute_result"
    }
   ],
   "source": [
    "usdad.head()"
   ]
  },
  {
   "cell_type": "code",
   "execution_count": 117,
   "metadata": {},
   "outputs": [],
   "source": [
    "def analyse_rmse_nSD(data):\n",
    "    # Merge with USDA\n",
    "    data_all = pd.merge(data.reset_index(), usda.filter([\"target_Value\", \"GEOID\", \"year\", \"Value\"]), left_on = [\"GEOID\", \"Year\"], right_on = [\"GEOID\", \"year\"], how = \"inner\", copy = False)\n",
    "#     data_all = pd.merge(data.reset_index(), usdad.reset_index(), left_on = [\"GEOID\", \"Year\"], right_on = [\"GEOID\", \"year\"], how = \"inner\", copy = False)\n",
    "\n",
    "    del data_all[\"year\"]\n",
    "    data_all.set_index([\"GEOID\",\"Year\"], inplace = True)\n",
    "    \n",
    "    # Create new geopandas dataframe for analysis. Only take counties with non-zero yield reported\n",
    "    data_all = data_all.query(\"Value > 0.0\")\n",
    "    del data_all[\"Value\"]\n",
    "    data_all[\"count\"] = 1\n",
    "\n",
    "    # Calculate RMSE and SD\n",
    "    models = np.delete(data_all.columns.values, [np.where(data_all.columns.values == \"count\")])\n",
    "    for model in models:\n",
    "        model_RMSE = model + \"_RMSE\"\n",
    "        model_nSD = model + \"_nSD\"\n",
    "        data_all[model_RMSE] = (data_all[model] - data_all[\"target_Value\"])**2\n",
    "        data_all[model_nSD] = (data_all[model] - data_all[model].mean(level = [\"GEOID\"]))**2\n",
    "        del data_all[model]\n",
    "    \n",
    "    data_an = data_all.groupby([\"GEOID\"]).sum()\n",
    "    data_an = data_an.query(\"count >= 40\")\n",
    "    \n",
    "    for model in models:\n",
    "        model_RMSE = model + \"_RMSE\"\n",
    "        model_nSD = model + \"_nSD\"\n",
    "        data_an[model_RMSE] = data_an[model_RMSE] / data_an[\"count\"]\n",
    "        data_an[model_RMSE] = np.sqrt(data_an[model_RMSE])\n",
    "        \n",
    "        data_an[model_nSD] = data_an[model_nSD] / data_an[\"target_Value_nSD\"]\n",
    "        data_an[model_nSD] = np.sqrt(data_an[model_nSD])\n",
    "    \n",
    "    del data_an[\"count\"]\n",
    "    del data_an[\"target_Value_RMSE\"]\n",
    "    del data_an[\"target_Value_nSD\"]\n",
    "    \n",
    "    return data_an"
   ]
  },
  {
   "cell_type": "code",
   "execution_count": 31,
   "metadata": {},
   "outputs": [],
   "source": [
    "# Stats calulator\n",
    "def analyse_RMSE_gmfd(data):\n",
    "    # Merge with gmfd\n",
    "    data_all = pd.merge(data.query(\"Year <= 2005\").reset_index(), usda.filter([\"year\",\"GEOID\",\"target_Value\"]).query(\"year <= 2005\").reset_index(), left_on = [\"GEOID\",\"Year\"], right_on = [\"GEOID\",\"year\"], how = \"inner\", copy = False)\n",
    "\n",
    "    data_all.set_index([\"GEOID\",\"Year\"], inplace = True)\n",
    "    data_all[\"count\"] = 1\n",
    "    \n",
    "    # Calculate RMSE and SD\n",
    "    models = np.delete(data_all.columns.values, [np.where(data_all.columns.values == \"count\")])\n",
    "    for model in models:\n",
    "        model_RMSE = model + \"_RMSE\"\n",
    "        model_nSD = model + \"_nSD\"\n",
    "        data_all[model_RMSE] = (data_all[model] - data_all[\"target_Value\"])**2\n",
    "        data_all[model_nSD] = (data_all[model] - data_all[model].mean(level = [\"GEOID\"]))**2\n",
    "        del data_all[model]\n",
    "        \n",
    "    data_an = data_all.groupby([\"GEOID\"]).sum()\n",
    "    \n",
    "    for model in models:\n",
    "        model_RMSE = model + \"_RMSE\"\n",
    "        model_nSD = model + \"_nSD\"\n",
    "        data_an[model_RMSE] = data_an[model_RMSE] / data_an[\"count\"]\n",
    "        data_an[model_RMSE] = np.sqrt(data_an[model_RMSE])\n",
    "        \n",
    "        data_an[model_nSD] = data_an[model_nSD] / data_an[\"target_Value_nSD\"]\n",
    "        data_an[model_nSD] = np.sqrt(data_an[model_nSD])\n",
    "    \n",
    "    del data_an[\"count\"]\n",
    "    del data_an[\"target_Value_RMSE\"]\n",
    "    del data_an[\"target_Value_nSD\"]\n",
    "    \n",
    "    return data_an"
   ]
  },
  {
   "cell_type": "code",
   "execution_count": 62,
   "metadata": {},
   "outputs": [],
   "source": [
    "cmipd = cmip.diff().dropna()"
   ]
  },
  {
   "cell_type": "code",
   "execution_count": 63,
   "metadata": {},
   "outputs": [],
   "source": [
    "nexd = nex.diff().dropna()"
   ]
  },
  {
   "cell_type": "code",
   "execution_count": 68,
   "metadata": {},
   "outputs": [
    {
     "name": "stderr",
     "output_type": "stream",
     "text": [
      "/Users/davidlafferty/anaconda3/lib/python3.7/site-packages/ipykernel_launcher.py:29: SettingWithCopyWarning: \n",
      "A value is trying to be set on a copy of a slice from a DataFrame.\n",
      "Try using .loc[row_indexer,col_indexer] = value instead\n",
      "\n",
      "See the caveats in the documentation: http://pandas.pydata.org/pandas-docs/stable/indexing.html#indexing-view-versus-copy\n",
      "/Users/davidlafferty/anaconda3/lib/python3.7/site-packages/ipykernel_launcher.py:30: SettingWithCopyWarning: \n",
      "A value is trying to be set on a copy of a slice from a DataFrame.\n",
      "Try using .loc[row_indexer,col_indexer] = value instead\n",
      "\n",
      "See the caveats in the documentation: http://pandas.pydata.org/pandas-docs/stable/indexing.html#indexing-view-versus-copy\n",
      "/Users/davidlafferty/anaconda3/lib/python3.7/site-packages/ipykernel_launcher.py:32: SettingWithCopyWarning: \n",
      "A value is trying to be set on a copy of a slice from a DataFrame.\n",
      "Try using .loc[row_indexer,col_indexer] = value instead\n",
      "\n",
      "See the caveats in the documentation: http://pandas.pydata.org/pandas-docs/stable/indexing.html#indexing-view-versus-copy\n",
      "/Users/davidlafferty/anaconda3/lib/python3.7/site-packages/ipykernel_launcher.py:33: SettingWithCopyWarning: \n",
      "A value is trying to be set on a copy of a slice from a DataFrame.\n",
      "Try using .loc[row_indexer,col_indexer] = value instead\n",
      "\n",
      "See the caveats in the documentation: http://pandas.pydata.org/pandas-docs/stable/indexing.html#indexing-view-versus-copy\n"
     ]
    }
   ],
   "source": [
    "cmip_an = analyse_rmse_nSD(cmipd)\n",
    "nex_an = analyse_rmse_nSD(nexd)"
   ]
  },
  {
   "cell_type": "code",
   "execution_count": 69,
   "metadata": {},
   "outputs": [],
   "source": [
    "usda_weights = pd.read_csv(\"../national/usda_county_to_national_weights.csv\")\n",
    "usda_weights[\"GEOID\"] = usda_weights[\"GEOID\"].astype(str).str.zfill(5)"
   ]
  },
  {
   "cell_type": "code",
   "execution_count": 70,
   "metadata": {},
   "outputs": [],
   "source": [
    "nex_all = pd.merge(nex_an.reset_index(), usda_weights.groupby(\"GEOID\").mean().filter([\"GEOID\",\"national_weight\"]), on = [\"GEOID\"], how = \"inner\", copy = False).drop_duplicates()\n",
    "cmip_all = pd.merge(cmip_an.reset_index(), usda_weights.groupby(\"GEOID\").mean().filter([\"GEOID\",\"national_weight\"]), left_on = [\"GEOID\"], right_on = [\"GEOID\"], how = \"inner\", copy = False).drop_duplicates()"
   ]
  },
  {
   "cell_type": "code",
   "execution_count": 71,
   "metadata": {},
   "outputs": [
    {
     "data": {
      "text/html": [
       "<div>\n",
       "<style scoped>\n",
       "    .dataframe tbody tr th:only-of-type {\n",
       "        vertical-align: middle;\n",
       "    }\n",
       "\n",
       "    .dataframe tbody tr th {\n",
       "        vertical-align: top;\n",
       "    }\n",
       "\n",
       "    .dataframe thead th {\n",
       "        text-align: right;\n",
       "    }\n",
       "</style>\n",
       "<table border=\"1\" class=\"dataframe\">\n",
       "  <thead>\n",
       "    <tr style=\"text-align: right;\">\n",
       "      <th></th>\n",
       "      <th>GEOID</th>\n",
       "      <th>ACCESS1-0_RMSE</th>\n",
       "      <th>ACCESS1-0_nSD</th>\n",
       "      <th>BNU-ESM_RMSE</th>\n",
       "      <th>BNU-ESM_nSD</th>\n",
       "      <th>CCSM4_RMSE</th>\n",
       "      <th>CCSM4_nSD</th>\n",
       "      <th>CESM1-BGC_RMSE</th>\n",
       "      <th>CESM1-BGC_nSD</th>\n",
       "      <th>CNRM-CM5_RMSE</th>\n",
       "      <th>...</th>\n",
       "      <th>MRI-CGCM3_nSD</th>\n",
       "      <th>NorESM1-M_RMSE</th>\n",
       "      <th>NorESM1-M_nSD</th>\n",
       "      <th>bcc-csm1-1_RMSE</th>\n",
       "      <th>bcc-csm1-1_nSD</th>\n",
       "      <th>inmcm4_RMSE</th>\n",
       "      <th>inmcm4_nSD</th>\n",
       "      <th>ensemble_mean_RMSE</th>\n",
       "      <th>ensemble_mean_nSD</th>\n",
       "      <th>national_weight</th>\n",
       "    </tr>\n",
       "  </thead>\n",
       "  <tbody>\n",
       "    <tr>\n",
       "      <th>0</th>\n",
       "      <td>01001</td>\n",
       "      <td>0.562127</td>\n",
       "      <td>0.536706</td>\n",
       "      <td>0.545228</td>\n",
       "      <td>0.456063</td>\n",
       "      <td>0.543311</td>\n",
       "      <td>0.424668</td>\n",
       "      <td>0.523885</td>\n",
       "      <td>0.410827</td>\n",
       "      <td>0.604742</td>\n",
       "      <td>...</td>\n",
       "      <td>0.373986</td>\n",
       "      <td>0.685615</td>\n",
       "      <td>0.500483</td>\n",
       "      <td>0.622591</td>\n",
       "      <td>0.475436</td>\n",
       "      <td>0.639414</td>\n",
       "      <td>0.667676</td>\n",
       "      <td>0.536571</td>\n",
       "      <td>0.122789</td>\n",
       "      <td>0.000055</td>\n",
       "    </tr>\n",
       "    <tr>\n",
       "      <th>1</th>\n",
       "      <td>01003</td>\n",
       "      <td>0.436161</td>\n",
       "      <td>0.540139</td>\n",
       "      <td>0.437508</td>\n",
       "      <td>0.486052</td>\n",
       "      <td>0.452478</td>\n",
       "      <td>0.507390</td>\n",
       "      <td>0.445385</td>\n",
       "      <td>0.583042</td>\n",
       "      <td>0.501426</td>\n",
       "      <td>...</td>\n",
       "      <td>0.550661</td>\n",
       "      <td>0.531906</td>\n",
       "      <td>0.646695</td>\n",
       "      <td>0.479020</td>\n",
       "      <td>0.519153</td>\n",
       "      <td>0.473756</td>\n",
       "      <td>0.734230</td>\n",
       "      <td>0.408610</td>\n",
       "      <td>0.181092</td>\n",
       "      <td>0.000209</td>\n",
       "    </tr>\n",
       "    <tr>\n",
       "      <th>2</th>\n",
       "      <td>01005</td>\n",
       "      <td>0.508076</td>\n",
       "      <td>0.529549</td>\n",
       "      <td>0.487350</td>\n",
       "      <td>0.474082</td>\n",
       "      <td>0.552246</td>\n",
       "      <td>0.515815</td>\n",
       "      <td>0.488646</td>\n",
       "      <td>0.468207</td>\n",
       "      <td>0.592903</td>\n",
       "      <td>...</td>\n",
       "      <td>0.361335</td>\n",
       "      <td>0.643369</td>\n",
       "      <td>0.541521</td>\n",
       "      <td>0.580271</td>\n",
       "      <td>0.528430</td>\n",
       "      <td>0.554034</td>\n",
       "      <td>0.717951</td>\n",
       "      <td>0.484338</td>\n",
       "      <td>0.143192</td>\n",
       "      <td>0.000099</td>\n",
       "    </tr>\n",
       "    <tr>\n",
       "      <th>3</th>\n",
       "      <td>01007</td>\n",
       "      <td>0.586363</td>\n",
       "      <td>0.480452</td>\n",
       "      <td>0.523959</td>\n",
       "      <td>0.433869</td>\n",
       "      <td>0.549986</td>\n",
       "      <td>0.383603</td>\n",
       "      <td>0.569061</td>\n",
       "      <td>0.361214</td>\n",
       "      <td>0.598059</td>\n",
       "      <td>...</td>\n",
       "      <td>0.423589</td>\n",
       "      <td>0.712004</td>\n",
       "      <td>0.511477</td>\n",
       "      <td>0.624728</td>\n",
       "      <td>0.444684</td>\n",
       "      <td>0.639029</td>\n",
       "      <td>0.610188</td>\n",
       "      <td>0.554858</td>\n",
       "      <td>0.119100</td>\n",
       "      <td>0.000020</td>\n",
       "    </tr>\n",
       "    <tr>\n",
       "      <th>4</th>\n",
       "      <td>01009</td>\n",
       "      <td>0.450927</td>\n",
       "      <td>0.551383</td>\n",
       "      <td>0.433289</td>\n",
       "      <td>0.441449</td>\n",
       "      <td>0.458118</td>\n",
       "      <td>0.425064</td>\n",
       "      <td>0.449669</td>\n",
       "      <td>0.384663</td>\n",
       "      <td>0.483122</td>\n",
       "      <td>...</td>\n",
       "      <td>0.464708</td>\n",
       "      <td>0.545504</td>\n",
       "      <td>0.494615</td>\n",
       "      <td>0.471134</td>\n",
       "      <td>0.438264</td>\n",
       "      <td>0.490921</td>\n",
       "      <td>0.617134</td>\n",
       "      <td>0.418140</td>\n",
       "      <td>0.132594</td>\n",
       "      <td>0.000102</td>\n",
       "    </tr>\n",
       "  </tbody>\n",
       "</table>\n",
       "<p>5 rows × 46 columns</p>\n",
       "</div>"
      ],
      "text/plain": [
       "   GEOID  ACCESS1-0_RMSE  ACCESS1-0_nSD  BNU-ESM_RMSE  BNU-ESM_nSD  \\\n",
       "0  01001        0.562127       0.536706      0.545228     0.456063   \n",
       "1  01003        0.436161       0.540139      0.437508     0.486052   \n",
       "2  01005        0.508076       0.529549      0.487350     0.474082   \n",
       "3  01007        0.586363       0.480452      0.523959     0.433869   \n",
       "4  01009        0.450927       0.551383      0.433289     0.441449   \n",
       "\n",
       "   CCSM4_RMSE  CCSM4_nSD  CESM1-BGC_RMSE  CESM1-BGC_nSD  CNRM-CM5_RMSE  ...  \\\n",
       "0    0.543311   0.424668        0.523885       0.410827       0.604742  ...   \n",
       "1    0.452478   0.507390        0.445385       0.583042       0.501426  ...   \n",
       "2    0.552246   0.515815        0.488646       0.468207       0.592903  ...   \n",
       "3    0.549986   0.383603        0.569061       0.361214       0.598059  ...   \n",
       "4    0.458118   0.425064        0.449669       0.384663       0.483122  ...   \n",
       "\n",
       "   MRI-CGCM3_nSD  NorESM1-M_RMSE  NorESM1-M_nSD  bcc-csm1-1_RMSE  \\\n",
       "0       0.373986        0.685615       0.500483         0.622591   \n",
       "1       0.550661        0.531906       0.646695         0.479020   \n",
       "2       0.361335        0.643369       0.541521         0.580271   \n",
       "3       0.423589        0.712004       0.511477         0.624728   \n",
       "4       0.464708        0.545504       0.494615         0.471134   \n",
       "\n",
       "   bcc-csm1-1_nSD  inmcm4_RMSE  inmcm4_nSD  ensemble_mean_RMSE  \\\n",
       "0        0.475436     0.639414    0.667676            0.536571   \n",
       "1        0.519153     0.473756    0.734230            0.408610   \n",
       "2        0.528430     0.554034    0.717951            0.484338   \n",
       "3        0.444684     0.639029    0.610188            0.554858   \n",
       "4        0.438264     0.490921    0.617134            0.418140   \n",
       "\n",
       "   ensemble_mean_nSD  national_weight  \n",
       "0           0.122789         0.000055  \n",
       "1           0.181092         0.000209  \n",
       "2           0.143192         0.000099  \n",
       "3           0.119100         0.000020  \n",
       "4           0.132594         0.000102  \n",
       "\n",
       "[5 rows x 46 columns]"
      ]
     },
     "execution_count": 71,
     "metadata": {},
     "output_type": "execute_result"
    }
   ],
   "source": [
    "nex_all.head()"
   ]
  },
  {
   "cell_type": "code",
   "execution_count": 72,
   "metadata": {},
   "outputs": [],
   "source": [
    "for model in nex_all.columns.drop([\"GEOID\", \"national_weight\"]):\n",
    "    nex_all[model] = nex_all[model] * nex_all[\"national_weight\"]"
   ]
  },
  {
   "cell_type": "code",
   "execution_count": 73,
   "metadata": {},
   "outputs": [],
   "source": [
    "for model in cmip_all.columns.drop([\"GEOID\", \"national_weight\"]):\n",
    "    cmip_all[model] = cmip_all[model] * cmip_all[\"national_weight\"]"
   ]
  },
  {
   "cell_type": "code",
   "execution_count": 74,
   "metadata": {},
   "outputs": [],
   "source": [
    "nex_res = nex_all.sum()[1:-1]"
   ]
  },
  {
   "cell_type": "code",
   "execution_count": 74,
   "metadata": {},
   "outputs": [
    {
     "name": "stderr",
     "output_type": "stream",
     "text": [
      "/Users/davidlafferty/anaconda3/envs/geoP/lib/python3.7/site-packages/ipykernel_launcher.py:1: FutureWarning: The signature of `Series.to_csv` was aligned to that of `DataFrame.to_csv`, and argument 'header' will change its default value from False to True: please pass an explicit value to suppress this warning.\n",
      "  \"\"\"Entry point for launching an IPython kernel.\n"
     ]
    }
   ],
   "source": [
    "nex_res.to_csv(\"./output/data/nex_yield_stats.csv\")"
   ]
  },
  {
   "cell_type": "code",
   "execution_count": 77,
   "metadata": {},
   "outputs": [],
   "source": [
    "cmip_res = cmip_all.sum()[1:-1]"
   ]
  },
  {
   "cell_type": "code",
   "execution_count": 75,
   "metadata": {},
   "outputs": [
    {
     "name": "stderr",
     "output_type": "stream",
     "text": [
      "/Users/davidlafferty/anaconda3/envs/geoP/lib/python3.7/site-packages/ipykernel_launcher.py:1: FutureWarning: The signature of `Series.to_csv` was aligned to that of `DataFrame.to_csv`, and argument 'header' will change its default value from False to True: please pass an explicit value to suppress this warning.\n",
      "  \"\"\"Entry point for launching an IPython kernel.\n"
     ]
    }
   ],
   "source": [
    "cmip_res.to_csv(\"./output/data/cmip_yield_stats.csv\")"
   ]
  },
  {
   "cell_type": "code",
   "execution_count": 72,
   "metadata": {},
   "outputs": [
    {
     "data": {
      "image/png": "[encoded data removed]",
      "text/plain": [
       "<Figure size 720x720 with 1 Axes>"
      ]
     },
     "metadata": {
      "needs_background": "light"
     },
     "output_type": "display_data"
    }
   ],
   "source": [
    "# Plot improvement\n",
    "fig, ax = plt.subplots(1,1, figsize = (10,10))\n",
    "plt.scatter(cmip_res[:-2:2],cmip_res[1:-2:2],c = \"C3\",s=80,zorder=2)\n",
    "plt.scatter(nex_res[:-2:2],nex_res[1:-2:2],c = \"C2\",s=80,zorder=2)\n",
    "\n",
    "plt.scatter(cmip_res[-2],cmip_res[-1],c = \"C3\",s=80,marker=\"s\",zorder=2)\n",
    "plt.scatter(nex_res[-2],nex_res[-1],c = \"C2\",s=80,marker=\"s\",zorder=2)\n",
    "for i in range(int(len(cmip_res)/2)):\n",
    "    ax.arrow(cmip_res[::2][i], cmip_res[1::2][i], -cmip_res[::2][i]+nex_res[::2][i], -cmip_res[1::2][i]+nex_res[1::2][i],color=\"grey\",zorder=1,alpha=0.6)\n",
    "ax.set_xlabel(\"RMSE\")\n",
    "ax.set_ylabel(\"STD ratio\")\n",
    "plt.show()"
   ]
  },
  {
   "cell_type": "code",
   "execution_count": 96,
   "metadata": {},
   "outputs": [
    {
     "data": {
      "image/png": "[encoded data removed]",
      "text/plain": [
       "<Figure size 720x720 with 1 Axes>"
      ]
     },
     "metadata": {
      "needs_background": "light"
     },
     "output_type": "display_data"
    }
   ],
   "source": [
    "# Plot improvement\n",
    "fig, ax = plt.subplots(1,1, figsize = (10,10))\n",
    "plt.scatter(cmip_res[:-2:2],cmip_res[1:-2:2],c = \"C3\",s=80,zorder=2)\n",
    "plt.scatter(nex_res[:-2:2],nex_res[1:-2:2],c = \"C2\",s=80,zorder=2)\n",
    "\n",
    "plt.scatter(gmfd_final[\"projected_offset_RMSE\"],gmfd_final[\"projected_offset_nSD\"],c = \"C5\",s=80,zorder=2)\n",
    "\n",
    "plt.scatter(cmip_res[-2],cmip_res[-1],c = \"C3\",s=80,marker=\"s\",zorder=2)\n",
    "plt.scatter(nex_res[-2],nex_res[-1],c = \"C2\",s=80,marker=\"s\",zorder=2)\n",
    "for i in range(int(len(cmip_res)/2)):\n",
    "    ax.arrow(cmip_res[::2][i], cmip_res[1::2][i], -cmip_res[::2][i]+nex_res[::2][i], -cmip_res[1::2][i]+nex_res[1::2][i],color=\"grey\",zorder=1,alpha=0.6)\n",
    "ax.set_xlabel(\"RMSE\")\n",
    "ax.set_ylabel(\"STD ratio\")\n",
    "plt.show()"
   ]
  },
  {
   "cell_type": "code",
   "execution_count": 99,
   "metadata": {},
   "outputs": [],
   "source": [
    "gmfd.set_index([\"GEOID\", \"Year\"], inplace = True)"
   ]
  },
  {
   "cell_type": "code",
   "execution_count": 100,
   "metadata": {},
   "outputs": [],
   "source": [
    "gmfdd = gmfd.diff().dropna()"
   ]
  },
  {
   "cell_type": "code",
   "execution_count": 120,
   "metadata": {
    "scrolled": true
   },
   "outputs": [
    {
     "name": "stderr",
     "output_type": "stream",
     "text": [
      "/Users/davidlafferty/anaconda3/lib/python3.7/site-packages/ipykernel_launcher.py:29: SettingWithCopyWarning: \n",
      "A value is trying to be set on a copy of a slice from a DataFrame.\n",
      "Try using .loc[row_indexer,col_indexer] = value instead\n",
      "\n",
      "See the caveats in the documentation: http://pandas.pydata.org/pandas-docs/stable/indexing.html#indexing-view-versus-copy\n",
      "/Users/davidlafferty/anaconda3/lib/python3.7/site-packages/ipykernel_launcher.py:30: SettingWithCopyWarning: \n",
      "A value is trying to be set on a copy of a slice from a DataFrame.\n",
      "Try using .loc[row_indexer,col_indexer] = value instead\n",
      "\n",
      "See the caveats in the documentation: http://pandas.pydata.org/pandas-docs/stable/indexing.html#indexing-view-versus-copy\n",
      "/Users/davidlafferty/anaconda3/lib/python3.7/site-packages/ipykernel_launcher.py:32: SettingWithCopyWarning: \n",
      "A value is trying to be set on a copy of a slice from a DataFrame.\n",
      "Try using .loc[row_indexer,col_indexer] = value instead\n",
      "\n",
      "See the caveats in the documentation: http://pandas.pydata.org/pandas-docs/stable/indexing.html#indexing-view-versus-copy\n",
      "/Users/davidlafferty/anaconda3/lib/python3.7/site-packages/ipykernel_launcher.py:33: SettingWithCopyWarning: \n",
      "A value is trying to be set on a copy of a slice from a DataFrame.\n",
      "Try using .loc[row_indexer,col_indexer] = value instead\n",
      "\n",
      "See the caveats in the documentation: http://pandas.pydata.org/pandas-docs/stable/indexing.html#indexing-view-versus-copy\n"
     ]
    }
   ],
   "source": [
    "gmfd_an = analyse_rmse_nSD(gmfd)"
   ]
  },
  {
   "cell_type": "code",
   "execution_count": 121,
   "metadata": {},
   "outputs": [],
   "source": [
    "gmfd_all = pd.merge(gmfd_an.reset_index(), usda_weights.groupby(\"GEOID\").mean().filter([\"GEOID\",\"national_weight\"]), on = [\"GEOID\"], how = \"inner\", copy = False).drop_duplicates()"
   ]
  },
  {
   "cell_type": "code",
   "execution_count": 122,
   "metadata": {},
   "outputs": [
    {
     "data": {
      "text/html": [
       "<div>\n",
       "<style scoped>\n",
       "    .dataframe tbody tr th:only-of-type {\n",
       "        vertical-align: middle;\n",
       "    }\n",
       "\n",
       "    .dataframe tbody tr th {\n",
       "        vertical-align: top;\n",
       "    }\n",
       "\n",
       "    .dataframe thead th {\n",
       "        text-align: right;\n",
       "    }\n",
       "</style>\n",
       "<table border=\"1\" class=\"dataframe\">\n",
       "  <thead>\n",
       "    <tr style=\"text-align: right;\">\n",
       "      <th></th>\n",
       "      <th>GEOID</th>\n",
       "      <th>projected_offset_RMSE</th>\n",
       "      <th>projected_offset_nSD</th>\n",
       "      <th>national_weight</th>\n",
       "    </tr>\n",
       "  </thead>\n",
       "  <tbody>\n",
       "    <tr>\n",
       "      <th>0</th>\n",
       "      <td>01001</td>\n",
       "      <td>0.313353</td>\n",
       "      <td>0.413559</td>\n",
       "      <td>0.000055</td>\n",
       "    </tr>\n",
       "    <tr>\n",
       "      <th>1</th>\n",
       "      <td>01003</td>\n",
       "      <td>0.243177</td>\n",
       "      <td>0.640664</td>\n",
       "      <td>0.000209</td>\n",
       "    </tr>\n",
       "    <tr>\n",
       "      <th>2</th>\n",
       "      <td>01005</td>\n",
       "      <td>0.263001</td>\n",
       "      <td>0.538017</td>\n",
       "      <td>0.000099</td>\n",
       "    </tr>\n",
       "    <tr>\n",
       "      <th>3</th>\n",
       "      <td>01007</td>\n",
       "      <td>0.337002</td>\n",
       "      <td>0.410655</td>\n",
       "      <td>0.000020</td>\n",
       "    </tr>\n",
       "    <tr>\n",
       "      <th>4</th>\n",
       "      <td>01009</td>\n",
       "      <td>0.218143</td>\n",
       "      <td>0.477634</td>\n",
       "      <td>0.000102</td>\n",
       "    </tr>\n",
       "  </tbody>\n",
       "</table>\n",
       "</div>"
      ],
      "text/plain": [
       "   GEOID  projected_offset_RMSE  projected_offset_nSD  national_weight\n",
       "0  01001               0.313353              0.413559         0.000055\n",
       "1  01003               0.243177              0.640664         0.000209\n",
       "2  01005               0.263001              0.538017         0.000099\n",
       "3  01007               0.337002              0.410655         0.000020\n",
       "4  01009               0.218143              0.477634         0.000102"
      ]
     },
     "execution_count": 122,
     "metadata": {},
     "output_type": "execute_result"
    }
   ],
   "source": [
    "gmfd_all.head()"
   ]
  },
  {
   "cell_type": "code",
   "execution_count": 123,
   "metadata": {},
   "outputs": [],
   "source": [
    "gmfd_all[\"projected_offset_nSD\"] = gmfd_all[\"projected_offset_nSD\"] * gmfd_all[\"national_weight\"]\n",
    "gmfd_all[\"projected_offset_RMSE\"] = gmfd_all[\"projected_offset_RMSE\"] * gmfd_all[\"national_weight\"]"
   ]
  },
  {
   "cell_type": "code",
   "execution_count": 124,
   "metadata": {},
   "outputs": [],
   "source": [
    "gmfd_final = gmfd_all.sum()[1:-1]"
   ]
  },
  {
   "cell_type": "code",
   "execution_count": 125,
   "metadata": {},
   "outputs": [
    {
     "data": {
      "text/plain": [
       "projected_offset_RMSE    0.159644\n",
       "projected_offset_nSD     0.562052\n",
       "dtype: float64"
      ]
     },
     "execution_count": 125,
     "metadata": {},
     "output_type": "execute_result"
    }
   ],
   "source": [
    "gmfd_final"
   ]
  },
  {
   "cell_type": "code",
   "execution_count": null,
   "metadata": {},
   "outputs": [],
   "source": []
  }
 ],
 "metadata": {
  "kernelspec": {
   "display_name": "Python 3",
   "language": "python",
   "name": "python3"
  },
  "language_info": {
   "codemirror_mode": {
    "name": "ipython",
    "version": 3
   },
   "file_extension": ".py",
   "mimetype": "text/x-python",
   "name": "python",
   "nbconvert_exporter": "python",
   "pygments_lexer": "ipython3",
   "version": "3.7.3"
  }
 },
 "nbformat": 4,
 "nbformat_minor": 4
}
