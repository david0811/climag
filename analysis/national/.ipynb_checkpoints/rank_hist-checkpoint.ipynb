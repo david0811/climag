{
 "cells": [
  {
   "cell_type": "markdown",
   "metadata": {},
   "source": [
    "# Rank histogram"
   ]
  },
  {
   "cell_type": "code",
   "execution_count": 3,
   "metadata": {},
   "outputs": [],
   "source": [
    "# Read data\n",
    "cmip = pd.read_csv(\"./output/data/cmip_agvar_all.csv\")\n",
    "cmip[\"GEOID\"] = cmip[\"GEOID\"].astype(str).str.zfill(5)\n",
    "cmip.set_index([\"AgVar\",\"GEOID\",\"Year\"], inplace = True)\n",
    "\n",
    "nex = pd.read_csv(\"./output/data/nex_agvar_all.csv\")\n",
    "nex[\"GEOID\"] = nex[\"GEOID\"].astype(str).str.zfill(5)\n",
    "nex.set_index([\"AgVar\",\"GEOID\",\"Year\"], inplace = True)\n",
    "\n",
    "gmfd = pd.read_csv(\"./output/data/gmfd_agvar_all.csv\")\n",
    "gmfd[\"GEOID\"] = gmfd[\"GEOID\"].astype(str).str.zfill(5)\n",
    "gmfd.set_index([\"AgVar\",\"GEOID\",\"Year\"], inplace = True)"
   ]
  },
  {
   "cell_type": "code",
   "execution_count": 126,
   "metadata": {},
   "outputs": [
    {
     "name": "stdout",
     "output_type": "stream",
     "text": [
      "CPU times: user 11.3 s, sys: 535 ms, total: 11.9 s\n",
      "Wall time: 8.89 s\n"
     ]
    }
   ],
   "source": [
    "# Get CMIP p-values of chi square test of rank-histogram uniformity\n",
    "cmip_pvals = gmfd.groupby([\"AgVar\",\"GEOID\"]).sum()\n",
    "cmip_pvals.rename(columns = {\"GMFD\" : \"pVal\"}, inplace = True)\n",
    "\n",
    "for agvar in gmfd.index.unique(level = \"AgVar\"):\n",
    "    for geoid in gmfd.index.unique(level = \"GEOID\")[:10]:\n",
    "        cmipString = \"AgVar == '\" + agvar + \"' and GEOID == '\" + geoid + \"' and Year <= 2005 and Year >= 1956\"\n",
    "        gmfdString = \"AgVar == '\" + agvar + \"' and GEOID == '\" + geoid + \"' and Year <= 2005\"\n",
    "        \n",
    "        cmip_ens = cmip.query(cmipString).T.values.reshape((21,50,1))\n",
    "        gmfd_obs = gmfd.query(gmfdString).values\n",
    "        pval = chisquare(rankz(gmfd_obs, cmip_ens)[0])[1]\n",
    "\n",
    "        cmip_pvals.loc[agvar,geoid] = pval"
   ]
  },
  {
   "cell_type": "code",
   "execution_count": null,
   "metadata": {},
   "outputs": [],
   "source": [
    "# Get NEX p-values of chi square test of rank-histogram uniformity\n",
    "nex_pvals = gmfd.groupby([\"AgVar\",\"GEOID\"]).sum()\n",
    "nex_pvals.rename(columns = {\"GMFD\" : \"pVal\"}, inplace = True)\n",
    "\n",
    "for agvar in gmfd.index.unique(level = \"AgVar\"):\n",
    "    for geoid in gmfd.index.unique(level = \"GEOID\"):\n",
    "        nexString = \"AgVar == '\" + agvar + \"' and GEOID == '\" + geoid + \"' and Year <= 2005 and Year >= 1956\"\n",
    "        gmfdString = \"AgVar == '\" + agvar + \"' and GEOID == '\" + geoid + \"' and Year <= 2005\"\n",
    "        \n",
    "        nex_ens = nex.query(nexString).T.values.reshape((21,50,1))\n",
    "        gmfd_obs = gmfd.query(gmfdString).values\n",
    "        pval = chisquare(rankz(gmfd_obs, nex_ens)[0])[1]\n",
    "    \n",
    "        nex_pvals.loc[agvar,geoid] = pval"
   ]
  },
  {
   "cell_type": "code",
   "execution_count": 31,
   "metadata": {},
   "outputs": [
    {
     "data": {
      "image/png": "[encoded data removed]",
      "text/plain": [
       "<Figure size 432x288 with 1 Axes>"
      ]
     },
     "metadata": {
      "needs_background": "light"
     },
     "output_type": "display_data"
    }
   ],
   "source": [
    "cmip_ens = cmip.query(\"AgVar == 'gdd' and GEOID == '19049' and Year <= 2005 and Year >= 1956\").T.values.reshape((21,50,1))\n",
    "gmfd_obs = gmfd.query(\"AgVar == 'gdd' and GEOID == '19049' and Year <= 2005\").values\n",
    "cmip_res = rankz(gmfd_obs, cmip_ens)\n",
    "\n",
    "plt.bar(range(1,cmip_ens.shape[0]+2), cmip_res[0])\n",
    "plt.show()"
   ]
  },
  {
   "cell_type": "code",
   "execution_count": 41,
   "metadata": {},
   "outputs": [
    {
     "data": {
      "image/png": "[encoded data removed]",
      "text/plain": [
       "<Figure size 432x288 with 1 Axes>"
      ]
     },
     "metadata": {
      "needs_background": "light"
     },
     "output_type": "display_data"
    }
   ],
   "source": [
    "cmip_ens = cmip.query(\"AgVar == 'egdd' and GEOID == '38013' and Year <= 2005 and Year >= 1956\").T.values.reshape((21,50,1))\n",
    "gmfd_obs = gmfd.query(\"AgVar == 'egdd' and GEOID == '38013' and Year <= 2005\").values\n",
    "cmip_res = rankz(gmfd_obs, cmip_ens)\n",
    "\n",
    "plt.bar(range(1,cmip_ens.shape[0]+2), cmip_res[0])\n",
    "plt.show()"
   ]
  },
  {
   "cell_type": "code",
   "execution_count": 129,
   "metadata": {},
   "outputs": [
    {
     "data": {
      "text/plain": [
       "Power_divergenceResult(statistic=73.19999999999996, pvalue=1.0689572891878458e-07)"
      ]
     },
     "execution_count": 129,
     "metadata": {},
     "output_type": "execute_result"
    }
   ],
   "source": [
    "chisquare(cmip_res[0])"
   ]
  },
  {
   "cell_type": "code",
   "execution_count": 16,
   "metadata": {},
   "outputs": [
    {
     "data": {
      "image/png": "[encoded data removed]",
      "text/plain": [
       "<Figure size 504x360 with 1 Axes>"
      ]
     },
     "metadata": {
      "needs_background": "light"
     },
     "output_type": "display_data"
    }
   ],
   "source": [
    "nex_ens = nex.query(\"AgVar == 'egdd' and GEOID == '31107' and Year <= 2005 and Year >= 1956\").T.values.reshape((21,50,1))\n",
    "gmfd_obs = gmfd.query(\"AgVar == 'egdd' and GEOID == '31107' and Year <= 2005\").values\n",
    "nex_res = rankz(gmfd_obs, nex_ens)\n",
    "\n",
    "fig, ax = plt.subplots(1,1, figsize = (7,5), sharex = True)\n",
    "\n",
    "ax.bar(range(1,nex_ens.shape[0]+2), nex_res[0])\n",
    "ax.arrow(0., 1/22. * 50, 22.5, 0., color=\"gray\", ls = \"--\")\n",
    "\n",
    "ax.set_title(\"NEX eGDD\")\n",
    "\n",
    "ax.set_xlim([0.5,22.5])\n",
    "\n",
    "ax.set_xlabel(\"Rank\")\n",
    "\n",
    "ax.set_ylabel(\"Frequency\")\n",
    "\n",
    "plt.tight_layout()\n",
    "plt.savefig(\"./output/figs/egdd_rankHist_example.png\", dpi = 500)"
   ]
  },
  {
   "cell_type": "code",
   "execution_count": 33,
   "metadata": {},
   "outputs": [
    {
     "data": {
      "image/png": "[encoded data removed]",
      "text/plain": [
       "<Figure size 432x288 with 1 Axes>"
      ]
     },
     "metadata": {
      "needs_background": "light"
     },
     "output_type": "display_data"
    }
   ],
   "source": [
    "nex_ens = nex.query(\"AgVar == 'gdd' and GEOID == '19049' and Year <= 2005 and Year >= 1956\").T.values.reshape((21,50,1))\n",
    "gmfd_obs = gmfd.query(\"AgVar == 'gdd' and GEOID == '19049' and Year <= 2005\").values\n",
    "nex_res = rankz(gmfd_obs, nex_ens)\n",
    "\n",
    "plt.bar(range(1,nex_ens.shape[0]+2), nex_res[0])\n",
    "plt.show()"
   ]
  },
  {
   "cell_type": "code",
   "execution_count": 36,
   "metadata": {},
   "outputs": [
    {
     "data": {
      "text/plain": [
       "Power_divergenceResult(statistic=11.6, pvalue=0.9497925334775601)"
      ]
     },
     "execution_count": 36,
     "metadata": {},
     "output_type": "execute_result"
    }
   ],
   "source": [
    "chisquare(nex_res[0])"
   ]
  },
  {
   "cell_type": "code",
   "execution_count": null,
   "metadata": {},
   "outputs": [],
   "source": [
    "#######################"
   ]
  },
  {
   "cell_type": "code",
   "execution_count": 55,
   "metadata": {},
   "outputs": [
    {
     "data": {
      "image/png": "[encoded data removed]",
      "text/plain": [
       "<Figure size 432x288 with 1 Axes>"
      ]
     },
     "metadata": {
      "needs_background": "light"
     },
     "output_type": "display_data"
    }
   ],
   "source": [
    "cmip_ens = cmip.query(\"AgVar == 'gdd' and Year <= 2005 and Year >= 1956\").groupby([\"Year\"]).mean().T.values.reshape((21,50,1))\n",
    "gmfd_obs = gmfd.query(\"AgVar == 'gdd' and Year <= 2005\").groupby([\"Year\"]).mean().values\n",
    "cmip_gdd = rankz(gmfd_obs, cmip_ens)\n",
    "\n",
    "plt.bar(range(1,cmip_ens.shape[0]+2), cmip_res[0])\n",
    "plt.show()"
   ]
  },
  {
   "cell_type": "code",
   "execution_count": 52,
   "metadata": {},
   "outputs": [
    {
     "data": {
      "image/png": "[encoded data removed]",
      "text/plain": [
       "<Figure size 432x288 with 1 Axes>"
      ]
     },
     "metadata": {
      "needs_background": "light"
     },
     "output_type": "display_data"
    }
   ],
   "source": [
    "nex_ens = nex.query(\"AgVar == 'egdd' and Year <= 2005 and Year >= 1956\").groupby([\"Year\"]).mean().T.values.reshape((21,50,1))\n",
    "gmfd_obs = gmfd.query(\"AgVar == 'egdd' and Year <= 2005\").groupby([\"Year\"]).mean().values\n",
    "nex_egdd = rankz(gmfd_obs, nex_ens)\n",
    "\n",
    "plt.bar(range(1,nex_ens.shape[0]+2), nex_res[0])\n",
    "plt.show()"
   ]
  },
  {
   "cell_type": "code",
   "execution_count": 46,
   "metadata": {},
   "outputs": [
    {
     "data": {
      "text/plain": [
       "Power_divergenceResult(statistic=50.31999999999999, pvalue=0.000329199388771565)"
      ]
     },
     "execution_count": 46,
     "metadata": {},
     "output_type": "execute_result"
    }
   ],
   "source": [
    "chisquare(nex_res[0])"
   ]
  },
  {
   "cell_type": "code",
   "execution_count": 77,
   "metadata": {},
   "outputs": [
    {
     "data": {
      "image/png": "[encoded data removed]",
      "text/plain": [
       "<Figure size 504x720 with 2 Axes>"
      ]
     },
     "metadata": {
      "needs_background": "light"
     },
     "output_type": "display_data"
    }
   ],
   "source": [
    "fig, ax = plt.subplots(2,1, figsize = (7,10), sharex = True)\n",
    "\n",
    "ax[0].bar(range(1,cmip_ens.shape[0]+2), cmip_egdd[0])\n",
    "ax[0].arrow(0., 1/22. * 50, 22.5, 0., color=\"gray\", ls = \"--\")\n",
    "ax[1].bar(range(1,nex_ens.shape[0]+2), nex_egdd[0])\n",
    "ax[1].arrow(0., 1/22. * 50, 22.5, 0., color=\"gray\", ls = \"--\")\n",
    "\n",
    "ax[0].set_title(\"CMIP eGDD\")\n",
    "ax[1].set_title(\"NEX eGDD\")\n",
    "\n",
    "ax[0].set_xlim([0.5,22.5])\n",
    "\n",
    "ax[1].set_xlabel(\"Rank\")\n",
    "\n",
    "ax[0].set_ylabel(\"Frequency\")\n",
    "ax[1].set_ylabel(\"Frequency\")\n",
    "\n",
    "plt.tight_layout()\n",
    "plt.savefig(\"./output/figs/egdd_rankHist.png\", dpi = 500)"
   ]
  },
  {
   "cell_type": "code",
   "execution_count": null,
   "metadata": {},
   "outputs": [],
   "source": []
  }
 ],
 "metadata": {
  "kernelspec": {
   "display_name": "Python 3",
   "language": "python",
   "name": "python3"
  },
  "language_info": {
   "codemirror_mode": {
    "name": "ipython",
    "version": 3
   },
   "file_extension": ".py",
   "mimetype": "text/x-python",
   "name": "python",
   "nbconvert_exporter": "python",
   "pygments_lexer": "ipython3",
   "version": "3.7.6"
  },
  "pycharm": {
   "stem_cell": {
    "cell_type": "raw",
    "metadata": {
     "collapsed": false
    },
    "source": []
   }
  }
 },
 "nbformat": 4,
 "nbformat_minor": 4
}
