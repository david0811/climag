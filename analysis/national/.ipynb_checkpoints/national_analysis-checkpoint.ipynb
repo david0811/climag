{
 "cells": [
  {
   "cell_type": "code",
   "execution_count": 1,
   "metadata": {},
   "outputs": [],
   "source": [
    "import pandas as pd\n",
    "import matplotlib.pyplot as plt\n",
    "import numpy as np\n",
    "import sys\n",
    "import statsmodels.api as sm\n",
    "\n",
    "import seaborn as sns\n",
    "sns.set()\n",
    "\n",
    "%matplotlib inline\n",
    "plt.rcParams.update({'font.size': 24})"
   ]
  },
  {
   "cell_type": "markdown",
   "metadata": {},
   "source": [
    "## USDA"
   ]
  },
  {
   "cell_type": "code",
   "execution_count": 26,
   "metadata": {},
   "outputs": [],
   "source": [
    "# Read in USDA data\n",
    "usda = pd.read_csv(\"../../model_results/output/USDA_county_yields_w_state_trends.csv\")\n",
    "usda[\"GEOID\"] = usda[\"GEOID\"].astype(str).str.zfill(5)\n",
    "usda.set_index([\"GEOID\", \"year\"], inplace = True)"
   ]
  },
  {
   "cell_type": "code",
   "execution_count": 11,
   "metadata": {},
   "outputs": [
    {
     "data": {
      "text/html": [
       "<div>\n",
       "<style scoped>\n",
       "    .dataframe tbody tr th:only-of-type {\n",
       "        vertical-align: middle;\n",
       "    }\n",
       "\n",
       "    .dataframe tbody tr th {\n",
       "        vertical-align: top;\n",
       "    }\n",
       "\n",
       "    .dataframe thead th {\n",
       "        text-align: right;\n",
       "    }\n",
       "</style>\n",
       "<table border=\"1\" class=\"dataframe\">\n",
       "  <thead>\n",
       "    <tr style=\"text-align: right;\">\n",
       "      <th></th>\n",
       "      <th></th>\n",
       "      <th>state_fips_code</th>\n",
       "      <th>county_code</th>\n",
       "      <th>asd_code</th>\n",
       "      <th>Value</th>\n",
       "      <th>area</th>\n",
       "      <th>Log_value</th>\n",
       "      <th>state_Value</th>\n",
       "      <th>lowess_log_state_Value</th>\n",
       "      <th>target_Value</th>\n",
       "    </tr>\n",
       "    <tr>\n",
       "      <th>GEOID</th>\n",
       "      <th>year</th>\n",
       "      <th></th>\n",
       "      <th></th>\n",
       "      <th></th>\n",
       "      <th></th>\n",
       "      <th></th>\n",
       "      <th></th>\n",
       "      <th></th>\n",
       "      <th></th>\n",
       "      <th></th>\n",
       "    </tr>\n",
       "  </thead>\n",
       "  <tbody>\n",
       "    <tr>\n",
       "      <th>01001</th>\n",
       "      <th>1950</th>\n",
       "      <td>1</td>\n",
       "      <td>1</td>\n",
       "      <td>40</td>\n",
       "      <td>17.0</td>\n",
       "      <td>29600.0</td>\n",
       "      <td>2.833213</td>\n",
       "      <td>21.5</td>\n",
       "      <td>3.033747</td>\n",
       "      <td>-0.200534</td>\n",
       "    </tr>\n",
       "    <tr>\n",
       "      <th>01011</th>\n",
       "      <th>1950</th>\n",
       "      <td>1</td>\n",
       "      <td>11</td>\n",
       "      <td>40</td>\n",
       "      <td>11.0</td>\n",
       "      <td>24200.0</td>\n",
       "      <td>2.397895</td>\n",
       "      <td>21.5</td>\n",
       "      <td>3.033747</td>\n",
       "      <td>-0.635852</td>\n",
       "    </tr>\n",
       "    <tr>\n",
       "      <th>01047</th>\n",
       "      <th>1950</th>\n",
       "      <td>1</td>\n",
       "      <td>47</td>\n",
       "      <td>40</td>\n",
       "      <td>13.0</td>\n",
       "      <td>44200.0</td>\n",
       "      <td>2.564949</td>\n",
       "      <td>21.5</td>\n",
       "      <td>3.033747</td>\n",
       "      <td>-0.468798</td>\n",
       "    </tr>\n",
       "    <tr>\n",
       "      <th>01051</th>\n",
       "      <th>1950</th>\n",
       "      <td>1</td>\n",
       "      <td>51</td>\n",
       "      <td>40</td>\n",
       "      <td>23.0</td>\n",
       "      <td>38900.0</td>\n",
       "      <td>3.135494</td>\n",
       "      <td>21.5</td>\n",
       "      <td>3.033747</td>\n",
       "      <td>0.101747</td>\n",
       "    </tr>\n",
       "    <tr>\n",
       "      <th>01063</th>\n",
       "      <th>1950</th>\n",
       "      <td>1</td>\n",
       "      <td>63</td>\n",
       "      <td>40</td>\n",
       "      <td>16.0</td>\n",
       "      <td>23900.0</td>\n",
       "      <td>2.772589</td>\n",
       "      <td>21.5</td>\n",
       "      <td>3.033747</td>\n",
       "      <td>-0.261158</td>\n",
       "    </tr>\n",
       "  </tbody>\n",
       "</table>\n",
       "</div>"
      ],
      "text/plain": [
       "            state_fips_code  county_code  asd_code  Value     area  Log_value  \\\n",
       "GEOID year                                                                      \n",
       "01001 1950                1            1        40   17.0  29600.0   2.833213   \n",
       "01011 1950                1           11        40   11.0  24200.0   2.397895   \n",
       "01047 1950                1           47        40   13.0  44200.0   2.564949   \n",
       "01051 1950                1           51        40   23.0  38900.0   3.135494   \n",
       "01063 1950                1           63        40   16.0  23900.0   2.772589   \n",
       "\n",
       "            state_Value  lowess_log_state_Value  target_Value  \n",
       "GEOID year                                                     \n",
       "01001 1950         21.5                3.033747     -0.200534  \n",
       "01011 1950         21.5                3.033747     -0.635852  \n",
       "01047 1950         21.5                3.033747     -0.468798  \n",
       "01051 1950         21.5                3.033747      0.101747  \n",
       "01063 1950         21.5                3.033747     -0.261158  "
      ]
     },
     "execution_count": 11,
     "metadata": {},
     "output_type": "execute_result"
    }
   ],
   "source": [
    "usda.head()"
   ]
  },
  {
   "cell_type": "code",
   "execution_count": 27,
   "metadata": {},
   "outputs": [],
   "source": [
    "# Tidy\n",
    "del usda[\"state_fips_code\"]\n",
    "del usda[\"county_code\"]\n",
    "del usda[\"asd_code\"]\n",
    "del usda[\"Log_value\"]\n",
    "del usda[\"state_Value\"]\n",
    "del usda[\"lowess_log_state_Value\"]\n",
    "del usda[\"target_Value\"]"
   ]
  },
  {
   "cell_type": "code",
   "execution_count": 28,
   "metadata": {},
   "outputs": [],
   "source": [
    "# Construct county -> national weights\n",
    "usda[\"national_weight\"] = usda[\"area\"] * usda[\"Value\"]\n",
    "usda_norm = usda.groupby(\"year\").sum().drop(columns = [\"Value\", \"area\"])\n",
    "\n",
    "usda = pd.merge(usda.reset_index(), usda_norm.reset_index(), on = \"year\", how = \"outer\")\n",
    "\n",
    "usda[\"national_weight\"] = usda[\"national_weight_x\"] / usda[\"national_weight_y\"]\n",
    "del usda[\"national_weight_x\"]\n",
    "del usda[\"national_weight_y\"]"
   ]
  },
  {
   "cell_type": "code",
   "execution_count": 37,
   "metadata": {},
   "outputs": [
    {
     "data": {
      "text/html": [
       "<div>\n",
       "<style scoped>\n",
       "    .dataframe tbody tr th:only-of-type {\n",
       "        vertical-align: middle;\n",
       "    }\n",
       "\n",
       "    .dataframe tbody tr th {\n",
       "        vertical-align: top;\n",
       "    }\n",
       "\n",
       "    .dataframe thead th {\n",
       "        text-align: right;\n",
       "    }\n",
       "</style>\n",
       "<table border=\"1\" class=\"dataframe\">\n",
       "  <thead>\n",
       "    <tr style=\"text-align: right;\">\n",
       "      <th></th>\n",
       "      <th>GEOID</th>\n",
       "      <th>year</th>\n",
       "      <th>Value</th>\n",
       "      <th>area</th>\n",
       "      <th>national_weight</th>\n",
       "    </tr>\n",
       "  </thead>\n",
       "  <tbody>\n",
       "    <tr>\n",
       "      <th>0</th>\n",
       "      <td>01001</td>\n",
       "      <td>1950</td>\n",
       "      <td>17.0</td>\n",
       "      <td>29600.0</td>\n",
       "      <td>0.000129</td>\n",
       "    </tr>\n",
       "    <tr>\n",
       "      <th>1</th>\n",
       "      <td>01011</td>\n",
       "      <td>1950</td>\n",
       "      <td>11.0</td>\n",
       "      <td>24200.0</td>\n",
       "      <td>0.000068</td>\n",
       "    </tr>\n",
       "    <tr>\n",
       "      <th>2</th>\n",
       "      <td>01047</td>\n",
       "      <td>1950</td>\n",
       "      <td>13.0</td>\n",
       "      <td>44200.0</td>\n",
       "      <td>0.000147</td>\n",
       "    </tr>\n",
       "    <tr>\n",
       "      <th>3</th>\n",
       "      <td>01051</td>\n",
       "      <td>1950</td>\n",
       "      <td>23.0</td>\n",
       "      <td>38900.0</td>\n",
       "      <td>0.000230</td>\n",
       "    </tr>\n",
       "    <tr>\n",
       "      <th>4</th>\n",
       "      <td>01063</td>\n",
       "      <td>1950</td>\n",
       "      <td>16.0</td>\n",
       "      <td>23900.0</td>\n",
       "      <td>0.000098</td>\n",
       "    </tr>\n",
       "  </tbody>\n",
       "</table>\n",
       "</div>"
      ],
      "text/plain": [
       "   GEOID  year  Value     area  national_weight\n",
       "0  01001  1950   17.0  29600.0         0.000129\n",
       "1  01011  1950   11.0  24200.0         0.000068\n",
       "2  01047  1950   13.0  44200.0         0.000147\n",
       "3  01051  1950   23.0  38900.0         0.000230\n",
       "4  01063  1950   16.0  23900.0         0.000098"
      ]
     },
     "execution_count": 37,
     "metadata": {},
     "output_type": "execute_result"
    }
   ],
   "source": [
    "usda.head()"
   ]
  },
  {
   "cell_type": "code",
   "execution_count": 39,
   "metadata": {},
   "outputs": [],
   "source": [
    "# Save weights\n",
    "usda.to_csv(\"./usda_county_to_national_weights.csv\", index = False)"
   ]
  },
  {
   "cell_type": "markdown",
   "metadata": {},
   "source": [
    "# GMFD national"
   ]
  },
  {
   "cell_type": "code",
   "execution_count": 50,
   "metadata": {},
   "outputs": [],
   "source": [
    "# USDA\n",
    "usda = pd.read_csv(\"./usda_county_to_national_weights.csv\")\n",
    "usda[\"GEOID\"] = usda[\"GEOID\"].astype(str).str.zfill(5)"
   ]
  },
  {
   "cell_type": "code",
   "execution_count": 51,
   "metadata": {},
   "outputs": [],
   "source": [
    "# GMFD\n",
    "gmfd = pd.read_csv(\"../../model_results/output/yield_historical_gmfd_offset.csv\")\n",
    "gmfd[\"GEOID\"] = gmfd[\"GEOID\"].astype(str).str.zfill(5)"
   ]
  },
  {
   "cell_type": "code",
   "execution_count": 45,
   "metadata": {},
   "outputs": [
    {
     "data": {
      "text/html": [
       "<div>\n",
       "<style scoped>\n",
       "    .dataframe tbody tr th:only-of-type {\n",
       "        vertical-align: middle;\n",
       "    }\n",
       "\n",
       "    .dataframe tbody tr th {\n",
       "        vertical-align: top;\n",
       "    }\n",
       "\n",
       "    .dataframe thead th {\n",
       "        text-align: right;\n",
       "    }\n",
       "</style>\n",
       "<table border=\"1\" class=\"dataframe\">\n",
       "  <thead>\n",
       "    <tr style=\"text-align: right;\">\n",
       "      <th></th>\n",
       "      <th></th>\n",
       "      <th>projected</th>\n",
       "      <th>projected_offset</th>\n",
       "    </tr>\n",
       "    <tr>\n",
       "      <th>GEOID</th>\n",
       "      <th>Year</th>\n",
       "      <th></th>\n",
       "      <th></th>\n",
       "    </tr>\n",
       "  </thead>\n",
       "  <tbody>\n",
       "    <tr>\n",
       "      <th rowspan=\"5\" valign=\"top\">01001</th>\n",
       "      <th>1960</th>\n",
       "      <td>0.320877</td>\n",
       "      <td>-0.333677</td>\n",
       "    </tr>\n",
       "    <tr>\n",
       "      <th>1961</th>\n",
       "      <td>0.572987</td>\n",
       "      <td>-0.081567</td>\n",
       "    </tr>\n",
       "    <tr>\n",
       "      <th>1962</th>\n",
       "      <td>0.098347</td>\n",
       "      <td>-0.556207</td>\n",
       "    </tr>\n",
       "    <tr>\n",
       "      <th>1963</th>\n",
       "      <td>0.348475</td>\n",
       "      <td>-0.306078</td>\n",
       "    </tr>\n",
       "    <tr>\n",
       "      <th>1964</th>\n",
       "      <td>0.413410</td>\n",
       "      <td>-0.241144</td>\n",
       "    </tr>\n",
       "  </tbody>\n",
       "</table>\n",
       "</div>"
      ],
      "text/plain": [
       "            projected  projected_offset\n",
       "GEOID Year                             \n",
       "01001 1960   0.320877         -0.333677\n",
       "      1961   0.572987         -0.081567\n",
       "      1962   0.098347         -0.556207\n",
       "      1963   0.348475         -0.306078\n",
       "      1964   0.413410         -0.241144"
      ]
     },
     "execution_count": 45,
     "metadata": {},
     "output_type": "execute_result"
    }
   ],
   "source": [
    "gmfd.head()"
   ]
  },
  {
   "cell_type": "code",
   "execution_count": 49,
   "metadata": {},
   "outputs": [
    {
     "data": {
      "text/html": [
       "<div>\n",
       "<style scoped>\n",
       "    .dataframe tbody tr th:only-of-type {\n",
       "        vertical-align: middle;\n",
       "    }\n",
       "\n",
       "    .dataframe tbody tr th {\n",
       "        vertical-align: top;\n",
       "    }\n",
       "\n",
       "    .dataframe thead th {\n",
       "        text-align: right;\n",
       "    }\n",
       "</style>\n",
       "<table border=\"1\" class=\"dataframe\">\n",
       "  <thead>\n",
       "    <tr style=\"text-align: right;\">\n",
       "      <th></th>\n",
       "      <th></th>\n",
       "      <th>Value</th>\n",
       "      <th>area</th>\n",
       "      <th>national_weight</th>\n",
       "    </tr>\n",
       "    <tr>\n",
       "      <th>GEOID</th>\n",
       "      <th>year</th>\n",
       "      <th></th>\n",
       "      <th></th>\n",
       "      <th></th>\n",
       "    </tr>\n",
       "  </thead>\n",
       "  <tbody>\n",
       "    <tr>\n",
       "      <th>01001</th>\n",
       "      <th>1950</th>\n",
       "      <td>17.0</td>\n",
       "      <td>29600.0</td>\n",
       "      <td>0.000129</td>\n",
       "    </tr>\n",
       "    <tr>\n",
       "      <th>01011</th>\n",
       "      <th>1950</th>\n",
       "      <td>11.0</td>\n",
       "      <td>24200.0</td>\n",
       "      <td>0.000068</td>\n",
       "    </tr>\n",
       "    <tr>\n",
       "      <th>01047</th>\n",
       "      <th>1950</th>\n",
       "      <td>13.0</td>\n",
       "      <td>44200.0</td>\n",
       "      <td>0.000147</td>\n",
       "    </tr>\n",
       "    <tr>\n",
       "      <th>01051</th>\n",
       "      <th>1950</th>\n",
       "      <td>23.0</td>\n",
       "      <td>38900.0</td>\n",
       "      <td>0.000230</td>\n",
       "    </tr>\n",
       "    <tr>\n",
       "      <th>01063</th>\n",
       "      <th>1950</th>\n",
       "      <td>16.0</td>\n",
       "      <td>23900.0</td>\n",
       "      <td>0.000098</td>\n",
       "    </tr>\n",
       "  </tbody>\n",
       "</table>\n",
       "</div>"
      ],
      "text/plain": [
       "            Value     area  national_weight\n",
       "GEOID year                                 \n",
       "01001 1950   17.0  29600.0         0.000129\n",
       "01011 1950   11.0  24200.0         0.000068\n",
       "01047 1950   13.0  44200.0         0.000147\n",
       "01051 1950   23.0  38900.0         0.000230\n",
       "01063 1950   16.0  23900.0         0.000098"
      ]
     },
     "execution_count": 49,
     "metadata": {},
     "output_type": "execute_result"
    }
   ],
   "source": [
    "usda.head()"
   ]
  },
  {
   "cell_type": "code",
   "execution_count": 56,
   "metadata": {},
   "outputs": [],
   "source": [
    "# Merge\n",
    "gmfd_all = pd.merge(gmfd, usda, left_on = [\"GEOID\", \"Year\"], right_on = [\"GEOID\", \"year\"], how = \"inner\")"
   ]
  },
  {
   "cell_type": "code",
   "execution_count": 61,
   "metadata": {},
   "outputs": [
    {
     "data": {
      "text/html": [
       "<div>\n",
       "<style scoped>\n",
       "    .dataframe tbody tr th:only-of-type {\n",
       "        vertical-align: middle;\n",
       "    }\n",
       "\n",
       "    .dataframe tbody tr th {\n",
       "        vertical-align: top;\n",
       "    }\n",
       "\n",
       "    .dataframe thead th {\n",
       "        text-align: right;\n",
       "    }\n",
       "</style>\n",
       "<table border=\"1\" class=\"dataframe\">\n",
       "  <thead>\n",
       "    <tr style=\"text-align: right;\">\n",
       "      <th></th>\n",
       "      <th>GEOID</th>\n",
       "      <th>Year</th>\n",
       "      <th>projected</th>\n",
       "      <th>projected_offset</th>\n",
       "      <th>year</th>\n",
       "      <th>Value</th>\n",
       "      <th>area</th>\n",
       "      <th>national_weight</th>\n",
       "    </tr>\n",
       "  </thead>\n",
       "  <tbody>\n",
       "    <tr>\n",
       "      <th>0</th>\n",
       "      <td>01001</td>\n",
       "      <td>1960</td>\n",
       "      <td>0.320877</td>\n",
       "      <td>-0.333677</td>\n",
       "      <td>1960</td>\n",
       "      <td>28.0</td>\n",
       "      <td>20100.0</td>\n",
       "      <td>0.000096</td>\n",
       "    </tr>\n",
       "    <tr>\n",
       "      <th>1</th>\n",
       "      <td>01001</td>\n",
       "      <td>1961</td>\n",
       "      <td>0.572987</td>\n",
       "      <td>-0.081567</td>\n",
       "      <td>1961</td>\n",
       "      <td>32.0</td>\n",
       "      <td>16700.0</td>\n",
       "      <td>0.000102</td>\n",
       "    </tr>\n",
       "    <tr>\n",
       "      <th>2</th>\n",
       "      <td>01001</td>\n",
       "      <td>1962</td>\n",
       "      <td>0.098347</td>\n",
       "      <td>-0.556207</td>\n",
       "      <td>1962</td>\n",
       "      <td>25.0</td>\n",
       "      <td>15450.0</td>\n",
       "      <td>0.000072</td>\n",
       "    </tr>\n",
       "    <tr>\n",
       "      <th>3</th>\n",
       "      <td>01001</td>\n",
       "      <td>1963</td>\n",
       "      <td>0.348475</td>\n",
       "      <td>-0.306078</td>\n",
       "      <td>1963</td>\n",
       "      <td>36.0</td>\n",
       "      <td>16000.0</td>\n",
       "      <td>0.000100</td>\n",
       "    </tr>\n",
       "    <tr>\n",
       "      <th>4</th>\n",
       "      <td>01001</td>\n",
       "      <td>1964</td>\n",
       "      <td>0.413410</td>\n",
       "      <td>-0.241144</td>\n",
       "      <td>1964</td>\n",
       "      <td>33.0</td>\n",
       "      <td>16100.0</td>\n",
       "      <td>0.000112</td>\n",
       "    </tr>\n",
       "  </tbody>\n",
       "</table>\n",
       "</div>"
      ],
      "text/plain": [
       "   GEOID  Year  projected  projected_offset  year  Value     area  \\\n",
       "0  01001  1960   0.320877         -0.333677  1960   28.0  20100.0   \n",
       "1  01001  1961   0.572987         -0.081567  1961   32.0  16700.0   \n",
       "2  01001  1962   0.098347         -0.556207  1962   25.0  15450.0   \n",
       "3  01001  1963   0.348475         -0.306078  1963   36.0  16000.0   \n",
       "4  01001  1964   0.413410         -0.241144  1964   33.0  16100.0   \n",
       "\n",
       "   national_weight  \n",
       "0         0.000096  \n",
       "1         0.000102  \n",
       "2         0.000072  \n",
       "3         0.000100  \n",
       "4         0.000112  "
      ]
     },
     "execution_count": 61,
     "metadata": {},
     "output_type": "execute_result"
    }
   ],
   "source": [
    "gmfd_all.head()"
   ]
  },
  {
   "cell_type": "code",
   "execution_count": null,
   "metadata": {},
   "outputs": [],
   "source": [
    "# WHAT is happening here?"
   ]
  },
  {
   "cell_type": "code",
   "execution_count": 63,
   "metadata": {},
   "outputs": [
    {
     "data": {
      "text/plain": [
       "301359"
      ]
     },
     "execution_count": 63,
     "metadata": {},
     "output_type": "execute_result"
    }
   ],
   "source": [
    "len(usda.drop_duplicates())"
   ]
  },
  {
   "cell_type": "code",
   "execution_count": 66,
   "metadata": {},
   "outputs": [
    {
     "data": {
      "text/plain": [
       "316210"
      ]
     },
     "execution_count": 66,
     "metadata": {},
     "output_type": "execute_result"
    }
   ],
   "source": [
    "len(usda)"
   ]
  },
  {
   "cell_type": "code",
   "execution_count": 64,
   "metadata": {},
   "outputs": [
    {
     "data": {
      "text/plain": [
       "177555"
      ]
     },
     "execution_count": 64,
     "metadata": {},
     "output_type": "execute_result"
    }
   ],
   "source": [
    "len(gmfd.drop_duplicates())"
   ]
  },
  {
   "cell_type": "code",
   "execution_count": 65,
   "metadata": {},
   "outputs": [
    {
     "data": {
      "text/plain": [
       "177555"
      ]
     },
     "execution_count": 65,
     "metadata": {},
     "output_type": "execute_result"
    }
   ],
   "source": [
    "len(gmfd)"
   ]
  },
  {
   "cell_type": "code",
   "execution_count": 67,
   "metadata": {},
   "outputs": [
    {
     "data": {
      "text/plain": [
       "268186"
      ]
     },
     "execution_count": 67,
     "metadata": {},
     "output_type": "execute_result"
    }
   ],
   "source": [
    "len(gmfd_all)"
   ]
  },
  {
   "cell_type": "code",
   "execution_count": 68,
   "metadata": {},
   "outputs": [
    {
     "data": {
      "text/plain": [
       "254727"
      ]
     },
     "execution_count": 68,
     "metadata": {},
     "output_type": "execute_result"
    }
   ],
   "source": [
    "len(gmfd_all.drop_duplicates())"
   ]
  },
  {
   "cell_type": "code",
   "execution_count": 69,
   "metadata": {},
   "outputs": [],
   "source": [
    "# Calculate weighted yields\n",
    "gmfd_all[\"projected_offset_nationally_weighted\"] = gmfd_all[\"projected_offset\"] * gmfd_all[\"national_weight\"]"
   ]
  },
  {
   "cell_type": "code",
   "execution_count": 73,
   "metadata": {},
   "outputs": [],
   "source": [
    "# Per year\n",
    "gmfd_national = gmfd_all.groupby(\"Year\").sum().drop(columns = \"year\")"
   ]
  },
  {
   "cell_type": "code",
   "execution_count": 74,
   "metadata": {},
   "outputs": [
    {
     "data": {
      "text/html": [
       "<div>\n",
       "<style scoped>\n",
       "    .dataframe tbody tr th:only-of-type {\n",
       "        vertical-align: middle;\n",
       "    }\n",
       "\n",
       "    .dataframe tbody tr th {\n",
       "        vertical-align: top;\n",
       "    }\n",
       "\n",
       "    .dataframe thead th {\n",
       "        text-align: right;\n",
       "    }\n",
       "</style>\n",
       "<table border=\"1\" class=\"dataframe\">\n",
       "  <thead>\n",
       "    <tr style=\"text-align: right;\">\n",
       "      <th></th>\n",
       "      <th>projected</th>\n",
       "      <th>projected_offset</th>\n",
       "      <th>Value</th>\n",
       "      <th>area</th>\n",
       "      <th>national_weight</th>\n",
       "      <th>projected_offset_nationally_weighted</th>\n",
       "    </tr>\n",
       "    <tr>\n",
       "      <th>Year</th>\n",
       "      <th></th>\n",
       "      <th></th>\n",
       "      <th></th>\n",
       "      <th></th>\n",
       "      <th></th>\n",
       "      <th></th>\n",
       "    </tr>\n",
       "  </thead>\n",
       "  <tbody>\n",
       "    <tr>\n",
       "      <th>1960</th>\n",
       "      <td>1594.570343</td>\n",
       "      <td>-2340.695796</td>\n",
       "      <td>156352.8</td>\n",
       "      <td>1.038851e+08</td>\n",
       "      <td>0.999999</td>\n",
       "      <td>0.012570</td>\n",
       "    </tr>\n",
       "    <tr>\n",
       "      <th>1961</th>\n",
       "      <td>1710.213295</td>\n",
       "      <td>-2233.264145</td>\n",
       "      <td>173824.6</td>\n",
       "      <td>8.460654e+07</td>\n",
       "      <td>0.999999</td>\n",
       "      <td>-0.051317</td>\n",
       "    </tr>\n",
       "    <tr>\n",
       "      <th>1962</th>\n",
       "      <td>1604.371170</td>\n",
       "      <td>-2308.684447</td>\n",
       "      <td>177632.2</td>\n",
       "      <td>8.109913e+07</td>\n",
       "      <td>0.999998</td>\n",
       "      <td>0.048265</td>\n",
       "    </tr>\n",
       "    <tr>\n",
       "      <th>1963</th>\n",
       "      <td>1548.736005</td>\n",
       "      <td>-2677.439912</td>\n",
       "      <td>196031.5</td>\n",
       "      <td>8.617302e+07</td>\n",
       "      <td>0.999998</td>\n",
       "      <td>-0.047210</td>\n",
       "    </tr>\n",
       "    <tr>\n",
       "      <th>1964</th>\n",
       "      <td>1388.751060</td>\n",
       "      <td>-2533.914690</td>\n",
       "      <td>173975.5</td>\n",
       "      <td>7.634698e+07</td>\n",
       "      <td>0.999999</td>\n",
       "      <td>-0.101288</td>\n",
       "    </tr>\n",
       "  </tbody>\n",
       "</table>\n",
       "</div>"
      ],
      "text/plain": [
       "        projected  projected_offset     Value          area  national_weight  \\\n",
       "Year                                                                           \n",
       "1960  1594.570343      -2340.695796  156352.8  1.038851e+08         0.999999   \n",
       "1961  1710.213295      -2233.264145  173824.6  8.460654e+07         0.999999   \n",
       "1962  1604.371170      -2308.684447  177632.2  8.109913e+07         0.999998   \n",
       "1963  1548.736005      -2677.439912  196031.5  8.617302e+07         0.999998   \n",
       "1964  1388.751060      -2533.914690  173975.5  7.634698e+07         0.999999   \n",
       "\n",
       "      projected_offset_nationally_weighted  \n",
       "Year                                        \n",
       "1960                              0.012570  \n",
       "1961                             -0.051317  \n",
       "1962                              0.048265  \n",
       "1963                             -0.047210  \n",
       "1964                             -0.101288  "
      ]
     },
     "execution_count": 74,
     "metadata": {},
     "output_type": "execute_result"
    }
   ],
   "source": [
    "gmfd_national.head()"
   ]
  },
  {
   "cell_type": "code",
   "execution_count": 76,
   "metadata": {},
   "outputs": [],
   "source": [
    "# Read in USDA trends\n",
    "usda_trends = pd.read_csv(\"../../model_results/output/USDA_county_yields_w_state_trends.csv\")\n",
    "usda_trends[\"GEOID\"] = usda[\"GEOID\"].astype(str).str.zfill(5)"
   ]
  },
  {
   "cell_type": "code",
   "execution_count": 77,
   "metadata": {},
   "outputs": [
    {
     "data": {
      "text/html": [
       "<div>\n",
       "<style scoped>\n",
       "    .dataframe tbody tr th:only-of-type {\n",
       "        vertical-align: middle;\n",
       "    }\n",
       "\n",
       "    .dataframe tbody tr th {\n",
       "        vertical-align: top;\n",
       "    }\n",
       "\n",
       "    .dataframe thead th {\n",
       "        text-align: right;\n",
       "    }\n",
       "</style>\n",
       "<table border=\"1\" class=\"dataframe\">\n",
       "  <thead>\n",
       "    <tr style=\"text-align: right;\">\n",
       "      <th></th>\n",
       "      <th>GEOID</th>\n",
       "      <th>year</th>\n",
       "      <th>state_fips_code</th>\n",
       "      <th>county_code</th>\n",
       "      <th>asd_code</th>\n",
       "      <th>Value</th>\n",
       "      <th>area</th>\n",
       "      <th>Log_value</th>\n",
       "      <th>state_Value</th>\n",
       "      <th>lowess_log_state_Value</th>\n",
       "      <th>target_Value</th>\n",
       "    </tr>\n",
       "  </thead>\n",
       "  <tbody>\n",
       "    <tr>\n",
       "      <th>0</th>\n",
       "      <td>01001</td>\n",
       "      <td>1950</td>\n",
       "      <td>1</td>\n",
       "      <td>1</td>\n",
       "      <td>40</td>\n",
       "      <td>17.0</td>\n",
       "      <td>29600.0</td>\n",
       "      <td>2.833213</td>\n",
       "      <td>21.5</td>\n",
       "      <td>3.033747</td>\n",
       "      <td>-0.200534</td>\n",
       "    </tr>\n",
       "    <tr>\n",
       "      <th>1</th>\n",
       "      <td>01011</td>\n",
       "      <td>1950</td>\n",
       "      <td>1</td>\n",
       "      <td>11</td>\n",
       "      <td>40</td>\n",
       "      <td>11.0</td>\n",
       "      <td>24200.0</td>\n",
       "      <td>2.397895</td>\n",
       "      <td>21.5</td>\n",
       "      <td>3.033747</td>\n",
       "      <td>-0.635852</td>\n",
       "    </tr>\n",
       "    <tr>\n",
       "      <th>2</th>\n",
       "      <td>01047</td>\n",
       "      <td>1950</td>\n",
       "      <td>1</td>\n",
       "      <td>47</td>\n",
       "      <td>40</td>\n",
       "      <td>13.0</td>\n",
       "      <td>44200.0</td>\n",
       "      <td>2.564949</td>\n",
       "      <td>21.5</td>\n",
       "      <td>3.033747</td>\n",
       "      <td>-0.468798</td>\n",
       "    </tr>\n",
       "    <tr>\n",
       "      <th>3</th>\n",
       "      <td>01051</td>\n",
       "      <td>1950</td>\n",
       "      <td>1</td>\n",
       "      <td>51</td>\n",
       "      <td>40</td>\n",
       "      <td>23.0</td>\n",
       "      <td>38900.0</td>\n",
       "      <td>3.135494</td>\n",
       "      <td>21.5</td>\n",
       "      <td>3.033747</td>\n",
       "      <td>0.101747</td>\n",
       "    </tr>\n",
       "    <tr>\n",
       "      <th>4</th>\n",
       "      <td>01063</td>\n",
       "      <td>1950</td>\n",
       "      <td>1</td>\n",
       "      <td>63</td>\n",
       "      <td>40</td>\n",
       "      <td>16.0</td>\n",
       "      <td>23900.0</td>\n",
       "      <td>2.772589</td>\n",
       "      <td>21.5</td>\n",
       "      <td>3.033747</td>\n",
       "      <td>-0.261158</td>\n",
       "    </tr>\n",
       "  </tbody>\n",
       "</table>\n",
       "</div>"
      ],
      "text/plain": [
       "   GEOID  year  state_fips_code  county_code  asd_code  Value     area  \\\n",
       "0  01001  1950                1            1        40   17.0  29600.0   \n",
       "1  01011  1950                1           11        40   11.0  24200.0   \n",
       "2  01047  1950                1           47        40   13.0  44200.0   \n",
       "3  01051  1950                1           51        40   23.0  38900.0   \n",
       "4  01063  1950                1           63        40   16.0  23900.0   \n",
       "\n",
       "   Log_value  state_Value  lowess_log_state_Value  target_Value  \n",
       "0   2.833213         21.5                3.033747     -0.200534  \n",
       "1   2.397895         21.5                3.033747     -0.635852  \n",
       "2   2.564949         21.5                3.033747     -0.468798  \n",
       "3   3.135494         21.5                3.033747      0.101747  \n",
       "4   2.772589         21.5                3.033747     -0.261158  "
      ]
     },
     "execution_count": 77,
     "metadata": {},
     "output_type": "execute_result"
    }
   ],
   "source": [
    "usda_trends.head()"
   ]
  },
  {
   "cell_type": "code",
   "execution_count": 88,
   "metadata": {},
   "outputs": [],
   "source": [
    "# Read in USDA national level\n",
    "usda_national = pd.read_csv(\"../../usda_yields/output/USDA_national_yields.csv\")"
   ]
  },
  {
   "cell_type": "code",
   "execution_count": 90,
   "metadata": {},
   "outputs": [],
   "source": [
    "# Do lowess filter\n",
    "lowess = sm.nonparametric.lowess\n",
    "usda_national[\"lowess_log_Value\"] = 0.0\n",
    "    \n",
    "lws_filter = lowess(usda_national[\"log_Value\"], usda_national[\"year\"], missing = \"drop\")\n",
    "    \n",
    "temp = pd.DataFrame(data = {\"lowess_log_Value_x\" : pd.Series(lws_filter[:,1], index = lws_filter[:,0].astype(int))})\n",
    "temp.index.names = [\"year\"]\n",
    "usda_national = pd.merge(usda_national, temp.reset_index(), on = [\"year\"], how = \"outer\")\n",
    "usda_national = usda_national.fillna(0)\n",
    "usda_national[\"lowess_log_Value\"] = usda_national[\"lowess_log_Value\"] + usda_national[\"lowess_log_Value_x\"]\n",
    "del usda_national[\"lowess_log_Value_x\"]"
   ]
  },
  {
   "cell_type": "code",
   "execution_count": 121,
   "metadata": {},
   "outputs": [
    {
     "data": {
      "text/html": [
       "<div>\n",
       "<style scoped>\n",
       "    .dataframe tbody tr th:only-of-type {\n",
       "        vertical-align: middle;\n",
       "    }\n",
       "\n",
       "    .dataframe tbody tr th {\n",
       "        vertical-align: top;\n",
       "    }\n",
       "\n",
       "    .dataframe thead th {\n",
       "        text-align: right;\n",
       "    }\n",
       "</style>\n",
       "<table border=\"1\" class=\"dataframe\">\n",
       "  <thead>\n",
       "    <tr style=\"text-align: right;\">\n",
       "      <th></th>\n",
       "      <th>Value</th>\n",
       "      <th>state_alpha</th>\n",
       "      <th>state_fips_code</th>\n",
       "      <th>state_name</th>\n",
       "      <th>year</th>\n",
       "      <th>log_Value</th>\n",
       "      <th>lowess_log_Value</th>\n",
       "    </tr>\n",
       "  </thead>\n",
       "  <tbody>\n",
       "    <tr>\n",
       "      <th>0</th>\n",
       "      <td>168.4</td>\n",
       "      <td>US</td>\n",
       "      <td>99</td>\n",
       "      <td>US TOTAL</td>\n",
       "      <td>2019</td>\n",
       "      <td>5.126342</td>\n",
       "      <td>5.174219</td>\n",
       "    </tr>\n",
       "    <tr>\n",
       "      <th>1</th>\n",
       "      <td>176.4</td>\n",
       "      <td>US</td>\n",
       "      <td>99</td>\n",
       "      <td>US TOTAL</td>\n",
       "      <td>2018</td>\n",
       "      <td>5.172754</td>\n",
       "      <td>5.160152</td>\n",
       "    </tr>\n",
       "    <tr>\n",
       "      <th>2</th>\n",
       "      <td>176.6</td>\n",
       "      <td>US</td>\n",
       "      <td>99</td>\n",
       "      <td>US TOTAL</td>\n",
       "      <td>2017</td>\n",
       "      <td>5.173887</td>\n",
       "      <td>5.146076</td>\n",
       "    </tr>\n",
       "    <tr>\n",
       "      <th>3</th>\n",
       "      <td>174.6</td>\n",
       "      <td>US</td>\n",
       "      <td>99</td>\n",
       "      <td>US TOTAL</td>\n",
       "      <td>2016</td>\n",
       "      <td>5.162498</td>\n",
       "      <td>5.131995</td>\n",
       "    </tr>\n",
       "    <tr>\n",
       "      <th>4</th>\n",
       "      <td>168.4</td>\n",
       "      <td>US</td>\n",
       "      <td>99</td>\n",
       "      <td>US TOTAL</td>\n",
       "      <td>2015</td>\n",
       "      <td>5.126342</td>\n",
       "      <td>5.117907</td>\n",
       "    </tr>\n",
       "  </tbody>\n",
       "</table>\n",
       "</div>"
      ],
      "text/plain": [
       "   Value state_alpha  state_fips_code state_name  year  log_Value  \\\n",
       "0  168.4          US               99   US TOTAL  2019   5.126342   \n",
       "1  176.4          US               99   US TOTAL  2018   5.172754   \n",
       "2  176.6          US               99   US TOTAL  2017   5.173887   \n",
       "3  174.6          US               99   US TOTAL  2016   5.162498   \n",
       "4  168.4          US               99   US TOTAL  2015   5.126342   \n",
       "\n",
       "   lowess_log_Value  \n",
       "0          5.174219  \n",
       "1          5.160152  \n",
       "2          5.146076  \n",
       "3          5.131995  \n",
       "4          5.117907  "
      ]
     },
     "execution_count": 121,
     "metadata": {},
     "output_type": "execute_result"
    }
   ],
   "source": [
    "usda_national.head()"
   ]
  },
  {
   "cell_type": "code",
   "execution_count": 123,
   "metadata": {},
   "outputs": [
    {
     "data": {
      "text/plain": [
       "array([4.0110403 , 4.04433639, 4.07749478, 4.11053264, 4.1434673 ,\n",
       "       4.17631683, 4.20910264, 4.2418477 , 4.27457489, 4.30729882,\n",
       "       4.33999963, 4.37254669, 4.40454697, 4.43149713, 4.45725124,\n",
       "       4.48176932, 4.50505275, 4.5271668 , 4.54821582, 4.56832367,\n",
       "       4.58760803, 4.60616823, 4.62412317, 4.64162421, 4.65879494,\n",
       "       4.67571748, 4.69245564, 4.70906792, 4.72561183, 4.74207312,\n",
       "       4.75839556, 4.77449135, 4.79028751, 4.80575392, 4.82089472,\n",
       "       4.83569394, 4.85014635, 4.86431251, 4.87827546, 4.8922563 ,\n",
       "       4.90625825, 4.92028336, 4.93433134, 4.94840123, 4.96249346,\n",
       "       4.97660687, 4.990737  , 5.00487875, 5.01902726, 5.03317799,\n",
       "       5.04732627, 5.06146657, 5.07559473, 5.08970954, 5.10381283,\n",
       "       5.11790737, 5.13199489])"
      ]
     },
     "execution_count": 123,
     "metadata": {},
     "output_type": "execute_result"
    }
   ],
   "source": [
    "usda_national.query(\"year <= 2016 and year >= 1960\")[\"lowess_log_Value\"].values[::-1]"
   ]
  },
  {
   "cell_type": "code",
   "execution_count": 127,
   "metadata": {},
   "outputs": [
    {
     "data": {
      "image/png": "[encoded data removed]",
      "text/plain": [
       "<Figure size 1080x576 with 1 Axes>"
      ]
     },
     "metadata": {
      "needs_background": "light"
     },
     "output_type": "display_data"
    }
   ],
   "source": [
    "# Plot\n",
    "fig, ax = plt.subplots(1,1, figsize = (15,8))\n",
    "plt.plot(usda_national[\"year\"], usda_national[\"log_Value\"])\n",
    "plt.plot(gmfd_national.reset_index()[\"Year\"].values, usda_national.query(\"year >= 1960 and year <= 2016\")[\"lowess_log_Value\"].values[::-1] + gmfd_national.reset_index()[\"projected_offset_nationally_weighted\"].values)\n",
    "plt.show()"
   ]
  },
  {
   "cell_type": "code",
   "execution_count": null,
   "metadata": {},
   "outputs": [],
   "source": []
  }
 ],
 "metadata": {
  "kernelspec": {
   "display_name": "Python 3",
   "language": "python",
   "name": "python3"
  },
  "language_info": {
   "codemirror_mode": {
    "name": "ipython",
    "version": 3
   },
   "file_extension": ".py",
   "mimetype": "text/x-python",
   "name": "python",
   "nbconvert_exporter": "python",
   "pygments_lexer": "ipython3",
   "version": "3.7.2"
  }
 },
 "nbformat": 4,
 "nbformat_minor": 2
}
