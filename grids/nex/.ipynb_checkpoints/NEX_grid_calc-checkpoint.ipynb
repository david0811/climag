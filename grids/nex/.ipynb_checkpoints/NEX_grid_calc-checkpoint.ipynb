{
 "cells": [
  {
   "cell_type": "markdown",
   "metadata": {},
   "source": [
    "# Calculating the NEX/county intersection grid as well as the growing area within each county"
   ]
  },
  {
   "cell_type": "code",
   "execution_count": 1,
   "metadata": {},
   "outputs": [],
   "source": [
    "import pandas as pd\n",
    "import matplotlib.pyplot as plt\n",
    "# import geopandas as gp\n",
    "# from shapely.geometry import *\n",
    "import numpy as np\n",
    "from mpl_toolkits.axes_grid1 import make_axes_locatable\n",
    "import xarray as xr"
   ]
  },
  {
   "cell_type": "code",
   "execution_count": 2,
   "metadata": {},
   "outputs": [],
   "source": [
    "# NEX data \n",
    "gdd = xr.open_dataset(\"../../../data/netCDF/GDD_10-29C_gs_GMFD.nc\")\n",
    "kdd = xr.open_dataset(\"../../../data/netCDF/GDD_29C_gs_GMFD.nc\")\n",
    "prcp = xr.open_dataset(\"../../../data/netCDF/cuml_precip_gs_GMFD.nc\")"
   ]
  },
  {
   "cell_type": "code",
   "execution_count": null,
   "metadata": {},
   "outputs": [],
   "source": [
    "nex.isel(lat = 400, lon = 1040, time = 50)"
   ]
  },
  {
   "cell_type": "markdown",
   "metadata": {},
   "source": [
    "## Calculate grid"
   ]
  },
  {
   "cell_type": "code",
   "execution_count": null,
   "metadata": {},
   "outputs": [],
   "source": [
    "nex.isel(lon = 1040)"
   ]
  },
  {
   "cell_type": "code",
   "execution_count": null,
   "metadata": {},
   "outputs": [],
   "source": [
    "# GMFD grid\n",
    "lat = nex.coords[\"lat\"].values\n",
    "lat_step = abs(lat[1] - lat[0])\n",
    "\n",
    "lon = nex.coords[\"lon\"].values\n",
    "lon_step = abs(lon[1] - lon[0])\n",
    "\n",
    "US_lat = np.intersect1d(np.argwhere(lat > 24),np.argwhere(lat < 50))\n",
    "US_lon = np.intersect1d(np.argwhere(lon > 360-125),np.argwhere(lon < 360-66))"
   ]
  },
  {
   "cell_type": "code",
   "execution_count": null,
   "metadata": {},
   "outputs": [],
   "source": [
    "# US lat/lon GeoFrame \n",
    "US_geoF = gp.GeoSeries([Point(lon[US_lon[x]]-360, lat[US_lat[y]]) for x in range(len(US_lon)) for y in range(len(US_lat))])\n",
    "US_geoF = gp.GeoSeries([Polygon([(lon[US_lon[x]]-360 + lon_step/2, lat[US_lat[y]] + lat_step/2),\n",
    "                                       (lon[US_lon[x]]-360 + lon_step/2, lat[US_lat[y]] - lat_step/2),\n",
    "                                       (lon[US_lon[x]]-360 - lon_step/2, lat[US_lat[y]] + lat_step/2),\n",
    "                                       (lon[US_lon[x]]-360 - lon_step/2, lat[US_lat[y]] - lat_step/2)])\n",
    "                               for x in range(len(US_lon)) for y in range(len(US_lat))])\n",
    "\n",
    "US_geo_lon = gp.GeoSeries([US_lon[x] for x in range(len(US_lon)) for y in range(len(US_lat))])\n",
    "US_geo_lat = gp.GeoSeries([US_lat[y] for x in range(len(US_lon)) for y in range(len(US_lat))])\n",
    "\n",
    "US_geoF = gp.GeoDataFrame({\"geometry\": US_geoF, \"latitude\": US_geo_lat, \"longitude\": US_geo_lon})\n",
    "#US_geoF[\"geometry\"] = US_geoF.geometry.buffer(d)\n",
    "US_geoF[\"geometry\"] = US_geoF.geometry.envelope\n",
    "\n",
    "US_geoF.crs = {'init' :'epsg:4269'}"
   ]
  },
  {
   "cell_type": "code",
   "execution_count": null,
   "metadata": {},
   "outputs": [],
   "source": [
    "# Read in county data\n",
    "counties = gp.read_file(\"../../../large_files/contig_county/counties_contig.shp\")"
   ]
  },
  {
   "cell_type": "code",
   "execution_count": null,
   "metadata": {},
   "outputs": [],
   "source": [
    "# Overlap\n",
    "final = gp.overlay(counties, US_geoF, how=\"intersection\")"
   ]
  },
  {
   "cell_type": "code",
   "execution_count": null,
   "metadata": {},
   "outputs": [],
   "source": [
    "final.head()"
   ]
  },
  {
   "cell_type": "code",
   "execution_count": null,
   "metadata": {},
   "outputs": [],
   "source": [
    "fig, ax = plt.subplots(1, figsize=(50,20))\n",
    "\n",
    "final.plot(edgecolor=\"black\", ax=ax, alpha=0.3)"
   ]
  },
  {
   "cell_type": "code",
   "execution_count": null,
   "metadata": {},
   "outputs": [],
   "source": [
    "# # Save shapefile\n",
    "# final.to_file(\"./output/counties_NEX_intersect.shp\")"
   ]
  },
  {
   "cell_type": "markdown",
   "metadata": {},
   "source": [
    "## Combining with raster data (growing area)"
   ]
  },
  {
   "cell_type": "code",
   "execution_count": null,
   "metadata": {},
   "outputs": [],
   "source": [
    "# County NEX intersection\n",
    "counties = gp.read_file(\"./output/counties_NEX_intersect.shp\")"
   ]
  },
  {
   "cell_type": "code",
   "execution_count": null,
   "metadata": {},
   "outputs": [],
   "source": [
    "# Area fractions\n",
    "fracs = gp.read_file(\"../../raster/output/area_fracs.shp\")"
   ]
  },
  {
   "cell_type": "code",
   "execution_count": null,
   "metadata": {},
   "outputs": [],
   "source": [
    "# Combine\n",
    "final = gp.overlay(counties, fracs, how=\"intersection\")"
   ]
  },
  {
   "cell_type": "code",
   "execution_count": null,
   "metadata": {},
   "outputs": [],
   "source": [
    "# Add areas\n",
    "final[\"area\"] = final.geometry.area"
   ]
  },
  {
   "cell_type": "code",
   "execution_count": null,
   "metadata": {},
   "outputs": [],
   "source": [
    "# There are some spurious intersections with extremely small areas... filter them out by choosing a filter that seems best\n",
    "print(len(final))\n",
    "print(len(final[(final.geometry.area > 10e-11)]))\n",
    "print(len(final[(final.geometry.area > 10e-10)]))\n",
    "print(len(final[(final.geometry.area > 10e-9)]))\n",
    "print(len(final[(final.geometry.area > 10e-8)]))\n",
    "print(len(final[(final.geometry.area > 10e-7)]))\n",
    "print(len(final[(final.geometry.area > 10e-6)]))\n",
    "print(len(final[(final.geometry.area > 10e-5)]))\n",
    "print(len(final[(final.geometry.area > 10e-4)]))\n",
    "print(len(final[(final.geometry.area > 10e-3)]))"
   ]
  },
  {
   "cell_type": "code",
   "execution_count": null,
   "metadata": {},
   "outputs": [],
   "source": [
    "# Choose 10^-11\n",
    "final = final[(final.geometry.area > 10e-11)]"
   ]
  },
  {
   "cell_type": "code",
   "execution_count": null,
   "metadata": {},
   "outputs": [],
   "source": [
    "# Add county areas \n",
    "final = pd.merge(final, final.groupby(\"GEOID\",as_index=False).sum().drop(columns = [\"latitude\", \"longitude\", \"frac\"]), on = \"GEOID\", how = \"outer\")"
   ]
  },
  {
   "cell_type": "code",
   "execution_count": null,
   "metadata": {},
   "outputs": [],
   "source": [
    "final.head()"
   ]
  },
  {
   "cell_type": "code",
   "execution_count": null,
   "metadata": {},
   "outputs": [],
   "source": [
    "# Calculate area fractions of counties\n",
    "final[\"area_frac\"] = final[\"area_x\"] / final[\"area_y\"]\n",
    "\n",
    "del final[\"area_x\"]\n",
    "del final[\"area_y\"]"
   ]
  },
  {
   "cell_type": "code",
   "execution_count": null,
   "metadata": {},
   "outputs": [],
   "source": [
    "final.head()"
   ]
  },
  {
   "cell_type": "code",
   "execution_count": null,
   "metadata": {},
   "outputs": [],
   "source": [
    "# Calculate weights within a signle county\n",
    "final[\"county_weight\"] = final[\"frac\"] * final[\"area_frac\"]\n",
    "\n",
    "del final[\"frac\"]\n",
    "del final[\"area_frac\"]"
   ]
  },
  {
   "cell_type": "code",
   "execution_count": null,
   "metadata": {},
   "outputs": [],
   "source": [
    "# Calculate normalisations\n",
    "final = pd.merge(final, final.groupby(\"GEOID\",as_index=False).sum().drop(columns = [\"latitude\", \"longitude\"]), on = \"GEOID\", how = \"outer\")"
   ]
  },
  {
   "cell_type": "code",
   "execution_count": null,
   "metadata": {},
   "outputs": [],
   "source": [
    "# Normalise\n",
    "final[\"within_county_weight\"] = final[\"county_weight_x\"] / final[\"county_weight_y\"]\n",
    "\n",
    "del final[\"county_weight_x\"]\n",
    "del final[\"county_weight_y\"]\n",
    "\n",
    "final = final.fillna(0)"
   ]
  },
  {
   "cell_type": "code",
   "execution_count": null,
   "metadata": {},
   "outputs": [],
   "source": [
    "final.head()"
   ]
  },
  {
   "cell_type": "code",
   "execution_count": null,
   "metadata": {},
   "outputs": [],
   "source": [
    "# Check\n",
    "final[final.GEOID == \"17019\"][\"within_county_weight\"].sum()"
   ]
  },
  {
   "cell_type": "code",
   "execution_count": null,
   "metadata": {
    "scrolled": false
   },
   "outputs": [],
   "source": [
    "# Check Champaign\n",
    "fig, ax = plt.subplots(1, figsize=(10,10))\n",
    "\n",
    "final[(final.GEOID == \"17019\")].plot(ax = ax, edgecolor = \"gray\", column = \"within_county_weight\", cmap = \"Greys\", legend = True)"
   ]
  },
  {
   "cell_type": "code",
   "execution_count": null,
   "metadata": {},
   "outputs": [],
   "source": [
    "# Save\n",
    "final.to_file(\"./output/counties_NEX_weighted.shp\")"
   ]
  },
  {
   "cell_type": "code",
   "execution_count": null,
   "metadata": {},
   "outputs": [],
   "source": [
    "# Save csv\n",
    "del final[\"geometry\"]\n",
    "del final[\"NAME\"]\n",
    "final = pd.DataFrame(final)\n",
    "\n",
    "final.to_csv(\"./output/counties_NEX_weighted.csv\", index = False)"
   ]
  },
  {
   "cell_type": "code",
   "execution_count": null,
   "metadata": {},
   "outputs": [],
   "source": []
  }
 ],
 "metadata": {
  "kernelspec": {
   "display_name": "Python 3",
   "language": "python",
   "name": "python3"
  },
  "language_info": {
   "codemirror_mode": {
    "name": "ipython",
    "version": 3
   },
   "file_extension": ".py",
   "mimetype": "text/x-python",
   "name": "python",
   "nbconvert_exporter": "python",
   "pygments_lexer": "ipython3",
   "version": "3.7.2"
  }
 },
 "nbformat": 4,
 "nbformat_minor": 2
}
