{
 "cells": [
  {
   "cell_type": "markdown",
   "metadata": {},
   "source": [
    "# Calculating the NEX/county intersection grid as well as the growing area within each county"
   ]
  },
  {
   "cell_type": "code",
   "execution_count": 4,
   "metadata": {},
   "outputs": [],
   "source": [
    "import pandas as pd\n",
    "import matplotlib.pyplot as plt\n",
    "import geopandas as gp\n",
    "from shapely.geometry import *\n",
    "import numpy as np\n",
    "from mpl_toolkits.axes_grid1 import make_axes_locatable\n",
    "import xarray as xr"
   ]
  },
  {
   "cell_type": "code",
   "execution_count": 5,
   "metadata": {},
   "outputs": [],
   "source": [
    "# NEX data \n",
    "prcp = xr.open_dataset(\"../../../data/netCDF/GDD_29C_gs__historical_r1i1p1_CCSM4.nc\")"
   ]
  },
  {
   "cell_type": "code",
   "execution_count": 6,
   "metadata": {},
   "outputs": [
    {
     "data": {
      "text/plain": [
       "<xarray.Dataset>\n",
       "Dimensions:  (lat: 720, lon: 1440, time: 56)\n",
       "Coordinates:\n",
       "  * lat      (lat) float64 -89.88 -89.62 -89.38 -89.12 ... 89.38 89.62 89.88\n",
       "  * lon      (lon) float64 0.125 0.375 0.625 0.875 ... 359.1 359.4 359.6 359.9\n",
       "  * time     (time) int32 1950 1951 1952 1953 1954 ... 2001 2002 2003 2004 2005\n",
       "Data variables:\n",
       "    GDD      (time, lat, lon) float64 ...\n",
       "Attributes:\n",
       "    description:  Growing degree days"
      ]
     },
     "execution_count": 6,
     "metadata": {},
     "output_type": "execute_result"
    }
   ],
   "source": [
    "prcp"
   ]
  },
  {
   "cell_type": "markdown",
   "metadata": {},
   "source": [
    "## Calculate grid"
   ]
  },
  {
   "cell_type": "code",
   "execution_count": 7,
   "metadata": {},
   "outputs": [],
   "source": [
    "# NEX grid\n",
    "lat = prcp.coords[\"lat\"].values\n",
    "lat_step = abs(lat[1] - lat[0])\n",
    "\n",
    "lon = prcp.coords[\"lon\"].values\n",
    "lon_step = abs(lon[1] - lon[0])\n",
    "\n",
    "US_lat = np.intersect1d(np.argwhere(lat > 24),np.argwhere(lat < 50))\n",
    "US_lon = np.intersect1d(np.argwhere(lon > 360-125),np.argwhere(lon < 360-66))"
   ]
  },
  {
   "cell_type": "code",
   "execution_count": 8,
   "metadata": {},
   "outputs": [],
   "source": [
    "# US lat/lon GeoFrame \n",
    "US_geoF = gp.GeoSeries([Point(lon[US_lon[x]]-360, lat[US_lat[y]]) for x in range(len(US_lon)) for y in range(len(US_lat))])\n",
    "US_geoF = gp.GeoSeries([Polygon([(lon[US_lon[x]]-360 + lon_step/2, lat[US_lat[y]] + lat_step/2),\n",
    "                                       (lon[US_lon[x]]-360 + lon_step/2, lat[US_lat[y]] - lat_step/2),\n",
    "                                       (lon[US_lon[x]]-360 - lon_step/2, lat[US_lat[y]] + lat_step/2),\n",
    "                                       (lon[US_lon[x]]-360 - lon_step/2, lat[US_lat[y]] - lat_step/2)])\n",
    "                               for x in range(len(US_lon)) for y in range(len(US_lat))])\n",
    "\n",
    "US_geo_lon = gp.GeoSeries([US_lon[x] for x in range(len(US_lon)) for y in range(len(US_lat))])\n",
    "US_geo_lat = gp.GeoSeries([US_lat[y] for x in range(len(US_lon)) for y in range(len(US_lat))])\n",
    "\n",
    "US_geoF = gp.GeoDataFrame({\"geometry\": US_geoF, \"latitude\": US_geo_lat, \"longitude\": US_geo_lon})\n",
    "#US_geoF[\"geometry\"] = US_geoF.geometry.buffer(d)\n",
    "US_geoF[\"geometry\"] = US_geoF.geometry.envelope\n",
    "\n",
    "US_geoF.crs = {'init' :'epsg:4269'}"
   ]
  },
  {
   "cell_type": "code",
   "execution_count": 9,
   "metadata": {},
   "outputs": [],
   "source": [
    "# Read in county data\n",
    "counties = gp.read_file(\"../../../large_files/contig_county/counties_contig.shp\")"
   ]
  },
  {
   "cell_type": "code",
   "execution_count": 10,
   "metadata": {},
   "outputs": [],
   "source": [
    "# Overlap\n",
    "final = gp.overlay(counties, US_geoF, how=\"intersection\")"
   ]
  },
  {
   "cell_type": "code",
   "execution_count": 11,
   "metadata": {},
   "outputs": [
    {
     "data": {
      "text/html": [
       "<div>\n",
       "<style scoped>\n",
       "    .dataframe tbody tr th:only-of-type {\n",
       "        vertical-align: middle;\n",
       "    }\n",
       "\n",
       "    .dataframe tbody tr th {\n",
       "        vertical-align: top;\n",
       "    }\n",
       "\n",
       "    .dataframe thead th {\n",
       "        text-align: right;\n",
       "    }\n",
       "</style>\n",
       "<table border=\"1\" class=\"dataframe\">\n",
       "  <thead>\n",
       "    <tr style=\"text-align: right;\">\n",
       "      <th></th>\n",
       "      <th>STATEFP</th>\n",
       "      <th>COUNTYFP</th>\n",
       "      <th>GEOID</th>\n",
       "      <th>NAME</th>\n",
       "      <th>latitude</th>\n",
       "      <th>longitude</th>\n",
       "      <th>geometry</th>\n",
       "    </tr>\n",
       "  </thead>\n",
       "  <tbody>\n",
       "    <tr>\n",
       "      <th>0</th>\n",
       "      <td>31</td>\n",
       "      <td>039</td>\n",
       "      <td>31039</td>\n",
       "      <td>Cuming</td>\n",
       "      <td>527</td>\n",
       "      <td>1053</td>\n",
       "      <td>POLYGON ((-96.5552459047619 42, -96.555241 41....</td>\n",
       "    </tr>\n",
       "    <tr>\n",
       "      <th>1</th>\n",
       "      <td>31</td>\n",
       "      <td>021</td>\n",
       "      <td>31021</td>\n",
       "      <td>Burt</td>\n",
       "      <td>527</td>\n",
       "      <td>1053</td>\n",
       "      <td>POLYGON ((-96.555155 41.915868, -96.555167 41....</td>\n",
       "    </tr>\n",
       "    <tr>\n",
       "      <th>2</th>\n",
       "      <td>31</td>\n",
       "      <td>039</td>\n",
       "      <td>31039</td>\n",
       "      <td>Cuming</td>\n",
       "      <td>528</td>\n",
       "      <td>1051</td>\n",
       "      <td>POLYGON ((-97.019516 42.004097, -97.019519 42....</td>\n",
       "    </tr>\n",
       "    <tr>\n",
       "      <th>3</th>\n",
       "      <td>31</td>\n",
       "      <td>179</td>\n",
       "      <td>31179</td>\n",
       "      <td>Wayne</td>\n",
       "      <td>528</td>\n",
       "      <td>1051</td>\n",
       "      <td>POLYGON ((-97 42.09056318969072, -97.000393 42...</td>\n",
       "    </tr>\n",
       "    <tr>\n",
       "      <th>4</th>\n",
       "      <td>31</td>\n",
       "      <td>167</td>\n",
       "      <td>31167</td>\n",
       "      <td>Stanton</td>\n",
       "      <td>528</td>\n",
       "      <td>1051</td>\n",
       "      <td>POLYGON ((-97.25 42.09079808366534, -97.249951...</td>\n",
       "    </tr>\n",
       "  </tbody>\n",
       "</table>\n",
       "</div>"
      ],
      "text/plain": [
       "  STATEFP COUNTYFP  GEOID     NAME  latitude  longitude  \\\n",
       "0      31      039  31039   Cuming       527       1053   \n",
       "1      31      021  31021     Burt       527       1053   \n",
       "2      31      039  31039   Cuming       528       1051   \n",
       "3      31      179  31179    Wayne       528       1051   \n",
       "4      31      167  31167  Stanton       528       1051   \n",
       "\n",
       "                                            geometry  \n",
       "0  POLYGON ((-96.5552459047619 42, -96.555241 41....  \n",
       "1  POLYGON ((-96.555155 41.915868, -96.555167 41....  \n",
       "2  POLYGON ((-97.019516 42.004097, -97.019519 42....  \n",
       "3  POLYGON ((-97 42.09056318969072, -97.000393 42...  \n",
       "4  POLYGON ((-97.25 42.09079808366534, -97.249951...  "
      ]
     },
     "execution_count": 11,
     "metadata": {},
     "output_type": "execute_result"
    }
   ],
   "source": [
    "final.head()"
   ]
  },
  {
   "cell_type": "code",
   "execution_count": null,
   "metadata": {},
   "outputs": [],
   "source": [
    "fig, ax = plt.subplots(1, figsize=(50,20))\n",
    "\n",
    "final.plot(edgecolor=\"black\", ax=ax, alpha=0.3)"
   ]
  },
  {
   "cell_type": "code",
   "execution_count": 8,
   "metadata": {},
   "outputs": [],
   "source": [
    "# # Save shapefile\n",
    "# final.to_file(\"./output/counties_NEX_intersect.shp\")"
   ]
  },
  {
   "cell_type": "markdown",
   "metadata": {},
   "source": [
    "## Combining with raster data (growing area)"
   ]
  },
  {
   "cell_type": "code",
   "execution_count": null,
   "metadata": {},
   "outputs": [],
   "source": [
    "# County NEX intersection\n",
    "counties = gp.read_file(\"./output/counties_NEX_intersect.shp\")"
   ]
  },
  {
   "cell_type": "code",
   "execution_count": null,
   "metadata": {},
   "outputs": [],
   "source": [
    "# Area fractions\n",
    "fracs = gp.read_file(\"../../raster/output/area_fracs.shp\")"
   ]
  },
  {
   "cell_type": "code",
   "execution_count": null,
   "metadata": {},
   "outputs": [],
   "source": [
    "# Combine\n",
    "final = gp.overlay(counties, fracs, how=\"intersection\")"
   ]
  },
  {
   "cell_type": "code",
   "execution_count": 12,
   "metadata": {},
   "outputs": [],
   "source": [
    "# Add areas\n",
    "final[\"area\"] = final.geometry.area"
   ]
  },
  {
   "cell_type": "code",
   "execution_count": 13,
   "metadata": {},
   "outputs": [
    {
     "name": "stdout",
     "output_type": "stream",
     "text": [
      "31489\n",
      "31489\n",
      "31488\n",
      "31476\n",
      "31456\n",
      "31391\n",
      "31198\n",
      "30486\n",
      "28261\n",
      "21209\n"
     ]
    }
   ],
   "source": [
    "# There are some spurious intersections with extremely small areas... filter them out by choosing a filter that seems best\n",
    "print(len(final))\n",
    "print(len(final[(final.geometry.area > 10e-11)]))\n",
    "print(len(final[(final.geometry.area > 10e-10)]))\n",
    "print(len(final[(final.geometry.area > 10e-9)]))\n",
    "print(len(final[(final.geometry.area > 10e-8)]))\n",
    "print(len(final[(final.geometry.area > 10e-7)]))\n",
    "print(len(final[(final.geometry.area > 10e-6)]))\n",
    "print(len(final[(final.geometry.area > 10e-5)]))\n",
    "print(len(final[(final.geometry.area > 10e-4)]))\n",
    "print(len(final[(final.geometry.area > 10e-3)]))"
   ]
  },
  {
   "cell_type": "code",
   "execution_count": 14,
   "metadata": {},
   "outputs": [],
   "source": [
    "# Choose 10^-11\n",
    "final = final[(final.geometry.area > 10e-11)]"
   ]
  },
  {
   "cell_type": "code",
   "execution_count": 15,
   "metadata": {},
   "outputs": [],
   "source": [
    "# Add county areas \n",
    "final = pd.merge(final, final.groupby(\"GEOID\",as_index=False).sum().drop(columns = [\"latitude\", \"longitude\"]), on = \"GEOID\", how = \"outer\")"
   ]
  },
  {
   "cell_type": "code",
   "execution_count": 16,
   "metadata": {},
   "outputs": [
    {
     "data": {
      "text/html": [
       "<div>\n",
       "<style scoped>\n",
       "    .dataframe tbody tr th:only-of-type {\n",
       "        vertical-align: middle;\n",
       "    }\n",
       "\n",
       "    .dataframe tbody tr th {\n",
       "        vertical-align: top;\n",
       "    }\n",
       "\n",
       "    .dataframe thead th {\n",
       "        text-align: right;\n",
       "    }\n",
       "</style>\n",
       "<table border=\"1\" class=\"dataframe\">\n",
       "  <thead>\n",
       "    <tr style=\"text-align: right;\">\n",
       "      <th></th>\n",
       "      <th>STATEFP</th>\n",
       "      <th>COUNTYFP</th>\n",
       "      <th>GEOID</th>\n",
       "      <th>NAME</th>\n",
       "      <th>latitude</th>\n",
       "      <th>longitude</th>\n",
       "      <th>geometry</th>\n",
       "      <th>area_x</th>\n",
       "      <th>area_y</th>\n",
       "    </tr>\n",
       "  </thead>\n",
       "  <tbody>\n",
       "    <tr>\n",
       "      <th>0</th>\n",
       "      <td>31</td>\n",
       "      <td>039</td>\n",
       "      <td>31039</td>\n",
       "      <td>Cuming</td>\n",
       "      <td>527</td>\n",
       "      <td>1053</td>\n",
       "      <td>POLYGON ((-96.5552459047619 42, -96.555241 41....</td>\n",
       "      <td>0.048699</td>\n",
       "      <td>0.161524</td>\n",
       "    </tr>\n",
       "    <tr>\n",
       "      <th>1</th>\n",
       "      <td>31</td>\n",
       "      <td>039</td>\n",
       "      <td>31039</td>\n",
       "      <td>Cuming</td>\n",
       "      <td>528</td>\n",
       "      <td>1051</td>\n",
       "      <td>POLYGON ((-97.019516 42.004097, -97.019519 42....</td>\n",
       "      <td>0.001772</td>\n",
       "      <td>0.161524</td>\n",
       "    </tr>\n",
       "    <tr>\n",
       "      <th>2</th>\n",
       "      <td>31</td>\n",
       "      <td>039</td>\n",
       "      <td>31039</td>\n",
       "      <td>Cuming</td>\n",
       "      <td>528</td>\n",
       "      <td>1052</td>\n",
       "      <td>POLYGON ((-97 42.09056318969072, -96.999907999...</td>\n",
       "      <td>0.022610</td>\n",
       "      <td>0.161524</td>\n",
       "    </tr>\n",
       "    <tr>\n",
       "      <th>3</th>\n",
       "      <td>31</td>\n",
       "      <td>039</td>\n",
       "      <td>31039</td>\n",
       "      <td>Cuming</td>\n",
       "      <td>528</td>\n",
       "      <td>1053</td>\n",
       "      <td>POLYGON ((-96.75 42.09024198125, -96.749043 42...</td>\n",
       "      <td>0.017548</td>\n",
       "      <td>0.161524</td>\n",
       "    </tr>\n",
       "    <tr>\n",
       "      <th>4</th>\n",
       "      <td>31</td>\n",
       "      <td>039</td>\n",
       "      <td>31039</td>\n",
       "      <td>Cuming</td>\n",
       "      <td>526</td>\n",
       "      <td>1051</td>\n",
       "      <td>POLYGON ((-97 41.74296411305241, -97.000305999...</td>\n",
       "      <td>0.000140</td>\n",
       "      <td>0.161524</td>\n",
       "    </tr>\n",
       "  </tbody>\n",
       "</table>\n",
       "</div>"
      ],
      "text/plain": [
       "  STATEFP COUNTYFP  GEOID    NAME  latitude  longitude  \\\n",
       "0      31      039  31039  Cuming       527       1053   \n",
       "1      31      039  31039  Cuming       528       1051   \n",
       "2      31      039  31039  Cuming       528       1052   \n",
       "3      31      039  31039  Cuming       528       1053   \n",
       "4      31      039  31039  Cuming       526       1051   \n",
       "\n",
       "                                            geometry    area_x    area_y  \n",
       "0  POLYGON ((-96.5552459047619 42, -96.555241 41....  0.048699  0.161524  \n",
       "1  POLYGON ((-97.019516 42.004097, -97.019519 42....  0.001772  0.161524  \n",
       "2  POLYGON ((-97 42.09056318969072, -96.999907999...  0.022610  0.161524  \n",
       "3  POLYGON ((-96.75 42.09024198125, -96.749043 42...  0.017548  0.161524  \n",
       "4  POLYGON ((-97 41.74296411305241, -97.000305999...  0.000140  0.161524  "
      ]
     },
     "execution_count": 16,
     "metadata": {},
     "output_type": "execute_result"
    }
   ],
   "source": [
    "final.head()"
   ]
  },
  {
   "cell_type": "code",
   "execution_count": 17,
   "metadata": {},
   "outputs": [],
   "source": [
    "# Calculate area fractions of counties\n",
    "final[\"area_frac\"] = final[\"area_x\"] / final[\"area_y\"]\n",
    "\n",
    "del final[\"area_x\"]\n",
    "del final[\"area_y\"]"
   ]
  },
  {
   "cell_type": "code",
   "execution_count": 18,
   "metadata": {},
   "outputs": [
    {
     "data": {
      "text/html": [
       "<div>\n",
       "<style scoped>\n",
       "    .dataframe tbody tr th:only-of-type {\n",
       "        vertical-align: middle;\n",
       "    }\n",
       "\n",
       "    .dataframe tbody tr th {\n",
       "        vertical-align: top;\n",
       "    }\n",
       "\n",
       "    .dataframe thead th {\n",
       "        text-align: right;\n",
       "    }\n",
       "</style>\n",
       "<table border=\"1\" class=\"dataframe\">\n",
       "  <thead>\n",
       "    <tr style=\"text-align: right;\">\n",
       "      <th></th>\n",
       "      <th>STATEFP</th>\n",
       "      <th>COUNTYFP</th>\n",
       "      <th>GEOID</th>\n",
       "      <th>NAME</th>\n",
       "      <th>latitude</th>\n",
       "      <th>longitude</th>\n",
       "      <th>geometry</th>\n",
       "      <th>area_frac</th>\n",
       "    </tr>\n",
       "  </thead>\n",
       "  <tbody>\n",
       "    <tr>\n",
       "      <th>0</th>\n",
       "      <td>31</td>\n",
       "      <td>039</td>\n",
       "      <td>31039</td>\n",
       "      <td>Cuming</td>\n",
       "      <td>527</td>\n",
       "      <td>1053</td>\n",
       "      <td>POLYGON ((-96.5552459047619 42, -96.555241 41....</td>\n",
       "      <td>0.301500</td>\n",
       "    </tr>\n",
       "    <tr>\n",
       "      <th>1</th>\n",
       "      <td>31</td>\n",
       "      <td>039</td>\n",
       "      <td>31039</td>\n",
       "      <td>Cuming</td>\n",
       "      <td>528</td>\n",
       "      <td>1051</td>\n",
       "      <td>POLYGON ((-97.019516 42.004097, -97.019519 42....</td>\n",
       "      <td>0.010968</td>\n",
       "    </tr>\n",
       "    <tr>\n",
       "      <th>2</th>\n",
       "      <td>31</td>\n",
       "      <td>039</td>\n",
       "      <td>31039</td>\n",
       "      <td>Cuming</td>\n",
       "      <td>528</td>\n",
       "      <td>1052</td>\n",
       "      <td>POLYGON ((-97 42.09056318969072, -96.999907999...</td>\n",
       "      <td>0.139981</td>\n",
       "    </tr>\n",
       "    <tr>\n",
       "      <th>3</th>\n",
       "      <td>31</td>\n",
       "      <td>039</td>\n",
       "      <td>31039</td>\n",
       "      <td>Cuming</td>\n",
       "      <td>528</td>\n",
       "      <td>1053</td>\n",
       "      <td>POLYGON ((-96.75 42.09024198125, -96.749043 42...</td>\n",
       "      <td>0.108643</td>\n",
       "    </tr>\n",
       "    <tr>\n",
       "      <th>4</th>\n",
       "      <td>31</td>\n",
       "      <td>039</td>\n",
       "      <td>31039</td>\n",
       "      <td>Cuming</td>\n",
       "      <td>526</td>\n",
       "      <td>1051</td>\n",
       "      <td>POLYGON ((-97 41.74296411305241, -97.000305999...</td>\n",
       "      <td>0.000866</td>\n",
       "    </tr>\n",
       "  </tbody>\n",
       "</table>\n",
       "</div>"
      ],
      "text/plain": [
       "  STATEFP COUNTYFP  GEOID    NAME  latitude  longitude  \\\n",
       "0      31      039  31039  Cuming       527       1053   \n",
       "1      31      039  31039  Cuming       528       1051   \n",
       "2      31      039  31039  Cuming       528       1052   \n",
       "3      31      039  31039  Cuming       528       1053   \n",
       "4      31      039  31039  Cuming       526       1051   \n",
       "\n",
       "                                            geometry  area_frac  \n",
       "0  POLYGON ((-96.5552459047619 42, -96.555241 41....   0.301500  \n",
       "1  POLYGON ((-97.019516 42.004097, -97.019519 42....   0.010968  \n",
       "2  POLYGON ((-97 42.09056318969072, -96.999907999...   0.139981  \n",
       "3  POLYGON ((-96.75 42.09024198125, -96.749043 42...   0.108643  \n",
       "4  POLYGON ((-97 41.74296411305241, -97.000305999...   0.000866  "
      ]
     },
     "execution_count": 18,
     "metadata": {},
     "output_type": "execute_result"
    }
   ],
   "source": [
    "final.head()"
   ]
  },
  {
   "cell_type": "code",
   "execution_count": 19,
   "metadata": {},
   "outputs": [
    {
     "data": {
      "text/plain": [
       "1.0"
      ]
     },
     "execution_count": 19,
     "metadata": {},
     "output_type": "execute_result"
    }
   ],
   "source": [
    "# Check\n",
    "final[final.GEOID == \"31039\"][\"area_frac\"].sum()"
   ]
  },
  {
   "cell_type": "code",
   "execution_count": null,
   "metadata": {},
   "outputs": [],
   "source": [
    "# Calculate weights within a single county\n",
    "final[\"county_weight\"] = final[\"frac\"] * final[\"area_frac\"]\n",
    "\n",
    "del final[\"frac\"]\n",
    "del final[\"area_frac\"]"
   ]
  },
  {
   "cell_type": "code",
   "execution_count": null,
   "metadata": {},
   "outputs": [],
   "source": [
    "# Calculate normalisations\n",
    "final = pd.merge(final, final.groupby(\"GEOID\",as_index=False).sum().drop(columns = [\"latitude\", \"longitude\"]), on = \"GEOID\", how = \"outer\")"
   ]
  },
  {
   "cell_type": "code",
   "execution_count": null,
   "metadata": {},
   "outputs": [],
   "source": [
    "# Normalise\n",
    "final[\"within_county_weight\"] = final[\"county_weight_x\"] / final[\"county_weight_y\"]\n",
    "\n",
    "del final[\"county_weight_x\"]\n",
    "del final[\"county_weight_y\"]\n",
    "\n",
    "final = final.fillna(0)"
   ]
  },
  {
   "cell_type": "code",
   "execution_count": null,
   "metadata": {},
   "outputs": [],
   "source": [
    "final.head()"
   ]
  },
  {
   "cell_type": "code",
   "execution_count": null,
   "metadata": {},
   "outputs": [],
   "source": [
    "# Check\n",
    "final[final.GEOID == \"17019\"][\"within_county_weight\"].sum()"
   ]
  },
  {
   "cell_type": "code",
   "execution_count": null,
   "metadata": {
    "scrolled": false
   },
   "outputs": [],
   "source": [
    "# Check Champaign\n",
    "fig, ax = plt.subplots(1, figsize=(10,10))\n",
    "\n",
    "final[(final.GEOID == \"17019\")].plot(ax = ax, edgecolor = \"gray\", column = \"within_county_weight\", cmap = \"Greys\", legend = True)"
   ]
  },
  {
   "cell_type": "code",
   "execution_count": 20,
   "metadata": {},
   "outputs": [],
   "source": [
    "# Save\n",
    "final.to_file(\"./output/counties_NEX_area.shp\")"
   ]
  },
  {
   "cell_type": "code",
   "execution_count": 21,
   "metadata": {},
   "outputs": [],
   "source": [
    "# Save csv\n",
    "del final[\"geometry\"]\n",
    "del final[\"NAME\"]\n",
    "final = pd.DataFrame(final)\n",
    "\n",
    "final.to_csv(\"./output/counties_NEX_area.csv\", index = False)"
   ]
  },
  {
   "cell_type": "code",
   "execution_count": null,
   "metadata": {},
   "outputs": [],
   "source": []
  }
 ],
 "metadata": {
  "kernelspec": {
   "display_name": "Python 3",
   "language": "python",
   "name": "python3"
  },
  "language_info": {
   "codemirror_mode": {
    "name": "ipython",
    "version": 3
   },
   "file_extension": ".py",
   "mimetype": "text/x-python",
   "name": "python",
   "nbconvert_exporter": "python",
   "pygments_lexer": "ipython3",
   "version": "3.7.3"
  }
 },
 "nbformat": 4,
 "nbformat_minor": 2
}
