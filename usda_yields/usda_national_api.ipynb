{
 "cells": [
  {
   "cell_type": "markdown",
   "metadata": {},
   "source": [
    "# A program to request and process USDA national-level corn data from the API server. "
   ]
  },
  {
   "cell_type": "code",
   "execution_count": 1,
   "metadata": {},
   "outputs": [],
   "source": [
    "import requests\n",
    "import pandas as pd\n",
    "import numpy as np\n",
    "\n",
    "import statsmodels.api as sm\n",
    "\n",
    "import matplotlib.pyplot as plt\n",
    "import matplotlib.gridspec as gridspec\n",
    "%matplotlib inline\n",
    "plt.rcParams.update({'font.size': 24})\n",
    "\n",
    "import seaborn as sns\n",
    "sns.set()"
   ]
  },
  {
   "cell_type": "code",
   "execution_count": 6,
   "metadata": {},
   "outputs": [],
   "source": [
    "def tidy(df):\n",
    "    del df[\"CV (%)\"]\n",
    "    del df[\"agg_level_desc\"]\n",
    "    del df[\"asd_desc\"]\n",
    "    del df[\"begin_code\"]\n",
    "    del df[\"class_desc\"]\n",
    "    del df[\"commodity_desc\"]\n",
    "    del df[\"congr_district_code\"]\n",
    "    del df[\"country_code\"]\n",
    "    del df[\"country_name\"]\n",
    "    del df[\"domain_desc\"]\n",
    "    del df[\"domaincat_desc\"]\n",
    "    del df[\"end_code\"]\n",
    "    del df[\"freq_desc\"]\n",
    "    del df[\"group_desc\"]\n",
    "    del df[\"load_time\"]\n",
    "    del df[\"location_desc\"]\n",
    "    del df[\"prodn_practice_desc\"]\n",
    "    del df[\"reference_period_desc\"]\n",
    "    del df[\"region_desc\"]\n",
    "    del df[\"sector_desc\"]\n",
    "    del df[\"short_desc\"]\n",
    "    del df[\"source_desc\"]\n",
    "    del df[\"statisticcat_desc\"]\n",
    "    del df[\"unit_desc\"]\n",
    "    del df[\"util_practice_desc\"]\n",
    "    del df[\"watershed_code\"]\n",
    "    del df[\"watershed_desc\"]\n",
    "    del df[\"week_ending\"]\n",
    "    del df[\"zip_5\"]\n",
    "    del df[\"county_ansi\"]\n",
    "    del df[\"state_ansi\"]\n",
    "    del df[\"asd_code\"]\n",
    "    del df[\"county_code\"]\n",
    "    del df[\"county_name\"]\n",
    "    \n",
    "    return df"
   ]
  },
  {
   "cell_type": "code",
   "execution_count": 8,
   "metadata": {},
   "outputs": [],
   "source": [
    "def get_corn():\n",
    "    print(\"Now grabbing... \")\n",
    "    dat = requests.get(\"http://quickstats.nass.usda.gov/api/api_GET/?key=210BA222-FC6E-3FB2-B4D7-DA2DAA1CC829&source_desc=SURVEY&sector_desc=CROPS&group_desc=FIELD CROPS&commodity_desc=CORN&statisticcat_desc=YIELD&util_practice_desc=GRAIN&unit_desc=BU / ACRE&agg_level_desc=NATIONAL&prodn_practice_desc=ALL PRODUCTION PRACTICES&reference_period_desc=YEAR&year__GE=1950\")\n",
    "    if dat.status_code == 200:\n",
    "        print(\"Data grabbed from USDA successfully...\")\n",
    "        dat = dat.json()\n",
    "        dat = pd.DataFrame(dat[\"data\"])\n",
    "        print(\"Filled!\")\n",
    "    else:\n",
    "        print(\"Data grabbed from USDA unsuccessfully. Error code \" + str(dat.status_code) + \". Skipping.\")\n",
    "    return tidy(dat)"
   ]
  },
  {
   "cell_type": "code",
   "execution_count": 17,
   "metadata": {},
   "outputs": [
    {
     "name": "stdout",
     "output_type": "stream",
     "text": [
      "Now grabbing... \n",
      "Data grabbed from USDA successfully...\n",
      "Filled!\n"
     ]
    }
   ],
   "source": [
    "# Get data\n",
    "usda_national = get_corn()"
   ]
  },
  {
   "cell_type": "code",
   "execution_count": 19,
   "metadata": {},
   "outputs": [],
   "source": [
    "# Add log\n",
    "usda_national[\"Value\"] = usda_national[\"Value\"].astype(float)\n",
    "usda_national[\"log_Value\"] = np.log(usda_national[\"Value\"])"
   ]
  },
  {
   "cell_type": "code",
   "execution_count": 21,
   "metadata": {},
   "outputs": [
    {
     "data": {
      "text/plain": [
       "<matplotlib.axes._subplots.AxesSubplot at 0x1c22c76240>"
      ]
     },
     "execution_count": 21,
     "metadata": {},
     "output_type": "execute_result"
    },
    {
     "data": {
      "image/png": "[encoded data removed]",
      "text/plain": [
       "<Figure size 432x288 with 1 Axes>"
      ]
     },
     "metadata": {
      "needs_background": "light"
     },
     "output_type": "display_data"
    }
   ],
   "source": [
    "usda_national.plot(x = \"year\", y = \"log_Value\")"
   ]
  },
  {
   "cell_type": "code",
   "execution_count": 23,
   "metadata": {},
   "outputs": [
    {
     "data": {
      "text/html": [
       "<div>\n",
       "<style scoped>\n",
       "    .dataframe tbody tr th:only-of-type {\n",
       "        vertical-align: middle;\n",
       "    }\n",
       "\n",
       "    .dataframe tbody tr th {\n",
       "        vertical-align: top;\n",
       "    }\n",
       "\n",
       "    .dataframe thead th {\n",
       "        text-align: right;\n",
       "    }\n",
       "</style>\n",
       "<table border=\"1\" class=\"dataframe\">\n",
       "  <thead>\n",
       "    <tr style=\"text-align: right;\">\n",
       "      <th></th>\n",
       "      <th>Value</th>\n",
       "      <th>state_alpha</th>\n",
       "      <th>state_fips_code</th>\n",
       "      <th>state_name</th>\n",
       "      <th>year</th>\n",
       "      <th>log_Value</th>\n",
       "    </tr>\n",
       "  </thead>\n",
       "  <tbody>\n",
       "    <tr>\n",
       "      <th>0</th>\n",
       "      <td>168.4</td>\n",
       "      <td>US</td>\n",
       "      <td>99</td>\n",
       "      <td>US TOTAL</td>\n",
       "      <td>2019</td>\n",
       "      <td>5.126342</td>\n",
       "    </tr>\n",
       "    <tr>\n",
       "      <th>1</th>\n",
       "      <td>176.4</td>\n",
       "      <td>US</td>\n",
       "      <td>99</td>\n",
       "      <td>US TOTAL</td>\n",
       "      <td>2018</td>\n",
       "      <td>5.172754</td>\n",
       "    </tr>\n",
       "    <tr>\n",
       "      <th>2</th>\n",
       "      <td>176.6</td>\n",
       "      <td>US</td>\n",
       "      <td>99</td>\n",
       "      <td>US TOTAL</td>\n",
       "      <td>2017</td>\n",
       "      <td>5.173887</td>\n",
       "    </tr>\n",
       "    <tr>\n",
       "      <th>3</th>\n",
       "      <td>174.6</td>\n",
       "      <td>US</td>\n",
       "      <td>99</td>\n",
       "      <td>US TOTAL</td>\n",
       "      <td>2016</td>\n",
       "      <td>5.162498</td>\n",
       "    </tr>\n",
       "    <tr>\n",
       "      <th>4</th>\n",
       "      <td>168.4</td>\n",
       "      <td>US</td>\n",
       "      <td>99</td>\n",
       "      <td>US TOTAL</td>\n",
       "      <td>2015</td>\n",
       "      <td>5.126342</td>\n",
       "    </tr>\n",
       "  </tbody>\n",
       "</table>\n",
       "</div>"
      ],
      "text/plain": [
       "   Value state_alpha state_fips_code state_name  year  log_Value\n",
       "0  168.4          US              99   US TOTAL  2019   5.126342\n",
       "1  176.4          US              99   US TOTAL  2018   5.172754\n",
       "2  176.6          US              99   US TOTAL  2017   5.173887\n",
       "3  174.6          US              99   US TOTAL  2016   5.162498\n",
       "4  168.4          US              99   US TOTAL  2015   5.126342"
      ]
     },
     "execution_count": 23,
     "metadata": {},
     "output_type": "execute_result"
    }
   ],
   "source": [
    "usda_national.head()"
   ]
  },
  {
   "cell_type": "code",
   "execution_count": 24,
   "metadata": {},
   "outputs": [],
   "source": [
    "usda_national.to_csv(\"./output/USDA_national_yields.csv\", index = False)"
   ]
  },
  {
   "cell_type": "code",
   "execution_count": null,
   "metadata": {},
   "outputs": [],
   "source": []
  }
 ],
 "metadata": {
  "kernelspec": {
   "display_name": "Python 3",
   "language": "python",
   "name": "python3"
  },
  "language_info": {
   "codemirror_mode": {
    "name": "ipython",
    "version": 3
   },
   "file_extension": ".py",
   "mimetype": "text/x-python",
   "name": "python",
   "nbconvert_exporter": "python",
   "pygments_lexer": "ipython3",
   "version": "3.7.2"
  }
 },
 "nbformat": 4,
 "nbformat_minor": 2
}
