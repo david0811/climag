{
 "cells": [
  {
   "cell_type": "markdown",
   "metadata": {},
   "source": [
    "# Yield calculation"
   ]
  },
  {
   "cell_type": "code",
   "execution_count": 1,
   "metadata": {},
   "outputs": [],
   "source": [
    "import numpy as np\n",
    "import pandas as pd\n",
    "import matplotlib as mpl\n",
    "import matplotlib.pyplot as plt\n",
    "\n",
    "from sklearn.metrics import r2_score\n",
    "import sklearn.preprocessing as sklp\n",
    "\n",
    "%matplotlib inline\n",
    "plt.rcParams.update({'font.size': 20})\n",
    "mpl.style.use('fivethirtyeight')"
   ]
  },
  {
   "cell_type": "markdown",
   "metadata": {},
   "source": [
    "### Regression coefficients"
   ]
  },
  {
   "cell_type": "code",
   "execution_count": 2,
   "metadata": {},
   "outputs": [],
   "source": [
    "# Get coefficients\n",
    "coeff = pd.read_csv('../GMFD_all/fitting/gmfd_regression_res_60-05_n5k.csv')\n",
    "coeff['GEOID'] = coeff['GEOID'].astype(str).str.zfill(5)\n",
    "good_counties = coeff.query('pval < 0.05')['GEOID'].values"
   ]
  },
  {
   "cell_type": "code",
   "execution_count": 3,
   "metadata": {},
   "outputs": [
    {
     "data": {
      "text/html": [
       "<div>\n",
       "<style scoped>\n",
       "    .dataframe tbody tr th:only-of-type {\n",
       "        vertical-align: middle;\n",
       "    }\n",
       "\n",
       "    .dataframe tbody tr th {\n",
       "        vertical-align: top;\n",
       "    }\n",
       "\n",
       "    .dataframe thead th {\n",
       "        text-align: right;\n",
       "    }\n",
       "</style>\n",
       "<table border=\"1\" class=\"dataframe\">\n",
       "  <thead>\n",
       "    <tr style=\"text-align: right;\">\n",
       "      <th></th>\n",
       "      <th>GEOID</th>\n",
       "      <th>GDDc</th>\n",
       "      <th>KDDc</th>\n",
       "      <th>Pc</th>\n",
       "      <th>P2c</th>\n",
       "      <th>R2</th>\n",
       "      <th>pval</th>\n",
       "    </tr>\n",
       "  </thead>\n",
       "  <tbody>\n",
       "    <tr>\n",
       "      <th>0</th>\n",
       "      <td>01001</td>\n",
       "      <td>0.000250</td>\n",
       "      <td>-0.008723</td>\n",
       "      <td>0.703101</td>\n",
       "      <td>-0.407163</td>\n",
       "      <td>0.422681</td>\n",
       "      <td>7.485535e-05</td>\n",
       "    </tr>\n",
       "    <tr>\n",
       "      <th>1</th>\n",
       "      <td>01003</td>\n",
       "      <td>0.000007</td>\n",
       "      <td>-0.002706</td>\n",
       "      <td>0.382554</td>\n",
       "      <td>-0.067899</td>\n",
       "      <td>0.166723</td>\n",
       "      <td>9.083721e-02</td>\n",
       "    </tr>\n",
       "    <tr>\n",
       "      <th>2</th>\n",
       "      <td>01005</td>\n",
       "      <td>0.000056</td>\n",
       "      <td>-0.005908</td>\n",
       "      <td>1.418518</td>\n",
       "      <td>-0.874680</td>\n",
       "      <td>0.367972</td>\n",
       "      <td>4.632079e-04</td>\n",
       "    </tr>\n",
       "    <tr>\n",
       "      <th>3</th>\n",
       "      <td>01007</td>\n",
       "      <td>0.000113</td>\n",
       "      <td>-0.006301</td>\n",
       "      <td>0.907473</td>\n",
       "      <td>-0.574074</td>\n",
       "      <td>0.215380</td>\n",
       "      <td>5.608200e-02</td>\n",
       "    </tr>\n",
       "    <tr>\n",
       "      <th>4</th>\n",
       "      <td>01009</td>\n",
       "      <td>0.000457</td>\n",
       "      <td>-0.009639</td>\n",
       "      <td>0.033484</td>\n",
       "      <td>-0.552033</td>\n",
       "      <td>0.593670</td>\n",
       "      <td>5.365933e-08</td>\n",
       "    </tr>\n",
       "  </tbody>\n",
       "</table>\n",
       "</div>"
      ],
      "text/plain": [
       "   GEOID      GDDc      KDDc        Pc       P2c        R2          pval\n",
       "0  01001  0.000250 -0.008723  0.703101 -0.407163  0.422681  7.485535e-05\n",
       "1  01003  0.000007 -0.002706  0.382554 -0.067899  0.166723  9.083721e-02\n",
       "2  01005  0.000056 -0.005908  1.418518 -0.874680  0.367972  4.632079e-04\n",
       "3  01007  0.000113 -0.006301  0.907473 -0.574074  0.215380  5.608200e-02\n",
       "4  01009  0.000457 -0.009639  0.033484 -0.552033  0.593670  5.365933e-08"
      ]
     },
     "execution_count": 3,
     "metadata": {},
     "output_type": "execute_result"
    }
   ],
   "source": [
    "coeff.head()"
   ]
  },
  {
   "cell_type": "code",
   "execution_count": 5,
   "metadata": {},
   "outputs": [],
   "source": [
    "# Diffenbaugh et al\n",
    "GDDc = 0.000315512\n",
    "KDDc = -0.00643807\n",
    "Pc = 100*0.0102821\n",
    "P2c = 100*-0.000081514\n",
    "diffen = np.array([GDDc, KDDc, Pc, P2c])"
   ]
  },
  {
   "cell_type": "markdown",
   "metadata": {},
   "source": [
    "## GMFD"
   ]
  },
  {
   "cell_type": "code",
   "execution_count": 6,
   "metadata": {},
   "outputs": [],
   "source": [
    "# Import GMFD data\n",
    "gmfd = pd.read_csv('./raw/GMFD/agvar_historical_gmfd.csv')\n",
    "gmfd = gmfd.query('Year >= 2006 and Year <= 2016')\n",
    "gmfd.sort_values(by = ['GEOID', 'Year'], inplace = True)\n",
    "gmfd['GEOID'] = gmfd['GEOID'].astype(str).str.zfill(5)\n",
    "gmfd['prcp2'] = gmfd['prcp']**2\n",
    "gmfd.set_index(['GEOID', 'Year'], inplace = True)"
   ]
  },
  {
   "cell_type": "code",
   "execution_count": 7,
   "metadata": {},
   "outputs": [],
   "source": [
    "# Subtract means\n",
    "for agvar in gmfd.columns:\n",
    "    gmfd[agvar] = gmfd[agvar] - gmfd[agvar].mean(level = 'GEOID')"
   ]
  },
  {
   "cell_type": "code",
   "execution_count": 8,
   "metadata": {},
   "outputs": [
    {
     "data": {
      "text/html": [
       "<div>\n",
       "<style scoped>\n",
       "    .dataframe tbody tr th:only-of-type {\n",
       "        vertical-align: middle;\n",
       "    }\n",
       "\n",
       "    .dataframe tbody tr th {\n",
       "        vertical-align: top;\n",
       "    }\n",
       "\n",
       "    .dataframe thead th {\n",
       "        text-align: right;\n",
       "    }\n",
       "</style>\n",
       "<table border=\"1\" class=\"dataframe\">\n",
       "  <thead>\n",
       "    <tr style=\"text-align: right;\">\n",
       "      <th></th>\n",
       "      <th></th>\n",
       "      <th>gdd</th>\n",
       "      <th>egdd</th>\n",
       "      <th>prcp</th>\n",
       "      <th>prcp2</th>\n",
       "    </tr>\n",
       "    <tr>\n",
       "      <th>GEOID</th>\n",
       "      <th>Year</th>\n",
       "      <th></th>\n",
       "      <th></th>\n",
       "      <th></th>\n",
       "      <th></th>\n",
       "    </tr>\n",
       "  </thead>\n",
       "  <tbody>\n",
       "    <tr>\n",
       "      <th rowspan=\"5\" valign=\"top\">01001</th>\n",
       "      <th>2006</th>\n",
       "      <td>4.726345</td>\n",
       "      <td>26.566847</td>\n",
       "      <td>-0.214764</td>\n",
       "      <td>-0.283854</td>\n",
       "    </tr>\n",
       "    <tr>\n",
       "      <th>2007</th>\n",
       "      <td>8.849976</td>\n",
       "      <td>31.636496</td>\n",
       "      <td>-0.384405</td>\n",
       "      <td>-0.416301</td>\n",
       "    </tr>\n",
       "    <tr>\n",
       "      <th>2008</th>\n",
       "      <td>-91.122431</td>\n",
       "      <td>-20.499031</td>\n",
       "      <td>0.102285</td>\n",
       "      <td>0.117987</td>\n",
       "    </tr>\n",
       "    <tr>\n",
       "      <th>2009</th>\n",
       "      <td>-31.897592</td>\n",
       "      <td>-33.802521</td>\n",
       "      <td>0.224311</td>\n",
       "      <td>0.326226</td>\n",
       "    </tr>\n",
       "    <tr>\n",
       "      <th>2010</th>\n",
       "      <td>6.120089</td>\n",
       "      <td>36.589416</td>\n",
       "      <td>-0.062858</td>\n",
       "      <td>-0.116409</td>\n",
       "    </tr>\n",
       "    <tr>\n",
       "      <th>...</th>\n",
       "      <th>...</th>\n",
       "      <td>...</td>\n",
       "      <td>...</td>\n",
       "      <td>...</td>\n",
       "      <td>...</td>\n",
       "    </tr>\n",
       "    <tr>\n",
       "      <th rowspan=\"5\" valign=\"top\">56045</th>\n",
       "      <th>2012</th>\n",
       "      <td>234.291448</td>\n",
       "      <td>39.736328</td>\n",
       "      <td>-0.108562</td>\n",
       "      <td>-0.057078</td>\n",
       "    </tr>\n",
       "    <tr>\n",
       "      <th>2013</th>\n",
       "      <td>9.251826</td>\n",
       "      <td>-13.109958</td>\n",
       "      <td>-0.038376</td>\n",
       "      <td>-0.024961</td>\n",
       "    </tr>\n",
       "    <tr>\n",
       "      <th>2014</th>\n",
       "      <td>-104.457415</td>\n",
       "      <td>-27.874133</td>\n",
       "      <td>0.017893</td>\n",
       "      <td>0.007903</td>\n",
       "    </tr>\n",
       "    <tr>\n",
       "      <th>2015</th>\n",
       "      <td>-25.506358</td>\n",
       "      <td>-21.060937</td>\n",
       "      <td>0.128836</td>\n",
       "      <td>0.091250</td>\n",
       "    </tr>\n",
       "    <tr>\n",
       "      <th>2016</th>\n",
       "      <td>-8.042474</td>\n",
       "      <td>-6.686181</td>\n",
       "      <td>-0.021301</td>\n",
       "      <td>-0.015658</td>\n",
       "    </tr>\n",
       "  </tbody>\n",
       "</table>\n",
       "<p>34188 rows × 4 columns</p>\n",
       "</div>"
      ],
      "text/plain": [
       "                   gdd       egdd      prcp     prcp2\n",
       "GEOID Year                                           \n",
       "01001 2006    4.726345  26.566847 -0.214764 -0.283854\n",
       "      2007    8.849976  31.636496 -0.384405 -0.416301\n",
       "      2008  -91.122431 -20.499031  0.102285  0.117987\n",
       "      2009  -31.897592 -33.802521  0.224311  0.326226\n",
       "      2010    6.120089  36.589416 -0.062858 -0.116409\n",
       "...                ...        ...       ...       ...\n",
       "56045 2012  234.291448  39.736328 -0.108562 -0.057078\n",
       "      2013    9.251826 -13.109958 -0.038376 -0.024961\n",
       "      2014 -104.457415 -27.874133  0.017893  0.007903\n",
       "      2015  -25.506358 -21.060937  0.128836  0.091250\n",
       "      2016   -8.042474  -6.686181 -0.021301 -0.015658\n",
       "\n",
       "[34188 rows x 4 columns]"
      ]
     },
     "execution_count": 8,
     "metadata": {},
     "output_type": "execute_result"
    }
   ],
   "source": [
    "gmfd"
   ]
  },
  {
   "cell_type": "code",
   "execution_count": 9,
   "metadata": {},
   "outputs": [],
   "source": [
    "# Calculate Yields\n",
    "gmfd = pd.merge(coeff, gmfd.reset_index(), on = ['GEOID'], how = 'inner')\n",
    "gmfd.set_index(['GEOID', 'Year'], inplace = True)\n",
    "gmfd['GMFD'] = gmfd['gdd']*gmfd['GDDc'] + gmfd['egdd']*gmfd['KDDc'] + gmfd['prcp']*gmfd['Pc'] + gmfd['prcp2']*gmfd['P2c']\n",
    "gmfd = gmfd.filter(['GEOID', 'Year', 'GMFD'])"
   ]
  },
  {
   "cell_type": "code",
   "execution_count": 10,
   "metadata": {},
   "outputs": [
    {
     "data": {
      "text/html": [
       "<div>\n",
       "<style scoped>\n",
       "    .dataframe tbody tr th:only-of-type {\n",
       "        vertical-align: middle;\n",
       "    }\n",
       "\n",
       "    .dataframe tbody tr th {\n",
       "        vertical-align: top;\n",
       "    }\n",
       "\n",
       "    .dataframe thead th {\n",
       "        text-align: right;\n",
       "    }\n",
       "</style>\n",
       "<table border=\"1\" class=\"dataframe\">\n",
       "  <thead>\n",
       "    <tr style=\"text-align: right;\">\n",
       "      <th></th>\n",
       "      <th></th>\n",
       "      <th>GMFD</th>\n",
       "    </tr>\n",
       "    <tr>\n",
       "      <th>GEOID</th>\n",
       "      <th>Year</th>\n",
       "      <th></th>\n",
       "    </tr>\n",
       "  </thead>\n",
       "  <tbody>\n",
       "    <tr>\n",
       "      <th rowspan=\"5\" valign=\"top\">01001</th>\n",
       "      <th>2006</th>\n",
       "      <td>-0.265990</td>\n",
       "    </tr>\n",
       "    <tr>\n",
       "      <th>2007</th>\n",
       "      <td>-0.374531</td>\n",
       "    </tr>\n",
       "    <tr>\n",
       "      <th>2008</th>\n",
       "      <td>0.179931</td>\n",
       "    </tr>\n",
       "    <tr>\n",
       "      <th>2009</th>\n",
       "      <td>0.311781</td>\n",
       "    </tr>\n",
       "    <tr>\n",
       "      <th>2010</th>\n",
       "      <td>-0.314442</td>\n",
       "    </tr>\n",
       "  </tbody>\n",
       "</table>\n",
       "</div>"
      ],
      "text/plain": [
       "                GMFD\n",
       "GEOID Year          \n",
       "01001 2006 -0.265990\n",
       "      2007 -0.374531\n",
       "      2008  0.179931\n",
       "      2009  0.311781\n",
       "      2010 -0.314442"
      ]
     },
     "execution_count": 10,
     "metadata": {},
     "output_type": "execute_result"
    }
   ],
   "source": [
    "gmfd.head()"
   ]
  },
  {
   "cell_type": "code",
   "execution_count": 20,
   "metadata": {},
   "outputs": [
    {
     "data": {
      "text/html": [
       "<div>\n",
       "<style scoped>\n",
       "    .dataframe tbody tr th:only-of-type {\n",
       "        vertical-align: middle;\n",
       "    }\n",
       "\n",
       "    .dataframe tbody tr th {\n",
       "        vertical-align: top;\n",
       "    }\n",
       "\n",
       "    .dataframe thead th {\n",
       "        text-align: right;\n",
       "    }\n",
       "</style>\n",
       "<table border=\"1\" class=\"dataframe\">\n",
       "  <thead>\n",
       "    <tr style=\"text-align: right;\">\n",
       "      <th></th>\n",
       "      <th>GMFD</th>\n",
       "    </tr>\n",
       "    <tr>\n",
       "      <th>GEOID</th>\n",
       "      <th></th>\n",
       "    </tr>\n",
       "  </thead>\n",
       "  <tbody>\n",
       "    <tr>\n",
       "      <th>01001</th>\n",
       "      <td>1.072375e-16</td>\n",
       "    </tr>\n",
       "    <tr>\n",
       "      <th>01003</th>\n",
       "      <td>-1.154380e-16</td>\n",
       "    </tr>\n",
       "    <tr>\n",
       "      <th>01005</th>\n",
       "      <td>-3.961478e-16</td>\n",
       "    </tr>\n",
       "    <tr>\n",
       "      <th>01007</th>\n",
       "      <td>3.154043e-16</td>\n",
       "    </tr>\n",
       "    <tr>\n",
       "      <th>01009</th>\n",
       "      <td>-4.314730e-16</td>\n",
       "    </tr>\n",
       "    <tr>\n",
       "      <th>...</th>\n",
       "      <td>...</td>\n",
       "    </tr>\n",
       "    <tr>\n",
       "      <th>56027</th>\n",
       "      <td>-1.980739e-16</td>\n",
       "    </tr>\n",
       "    <tr>\n",
       "      <th>56029</th>\n",
       "      <td>5.361873e-18</td>\n",
       "    </tr>\n",
       "    <tr>\n",
       "      <th>56031</th>\n",
       "      <td>-2.895411e-16</td>\n",
       "    </tr>\n",
       "    <tr>\n",
       "      <th>56043</th>\n",
       "      <td>-9.462128e-17</td>\n",
       "    </tr>\n",
       "    <tr>\n",
       "      <th>56045</th>\n",
       "      <td>5.109549e-17</td>\n",
       "    </tr>\n",
       "  </tbody>\n",
       "</table>\n",
       "<p>2769 rows × 1 columns</p>\n",
       "</div>"
      ],
      "text/plain": [
       "               GMFD\n",
       "GEOID              \n",
       "01001  1.072375e-16\n",
       "01003 -1.154380e-16\n",
       "01005 -3.961478e-16\n",
       "01007  3.154043e-16\n",
       "01009 -4.314730e-16\n",
       "...             ...\n",
       "56027 -1.980739e-16\n",
       "56029  5.361873e-18\n",
       "56031 -2.895411e-16\n",
       "56043 -9.462128e-17\n",
       "56045  5.109549e-17\n",
       "\n",
       "[2769 rows x 1 columns]"
      ]
     },
     "execution_count": 20,
     "metadata": {},
     "output_type": "execute_result"
    }
   ],
   "source": [
    "gmfd.mean(level = 'GEOID')"
   ]
  },
  {
   "cell_type": "code",
   "execution_count": 21,
   "metadata": {},
   "outputs": [
    {
     "data": {
      "text/html": [
       "<div>\n",
       "<style scoped>\n",
       "    .dataframe tbody tr th:only-of-type {\n",
       "        vertical-align: middle;\n",
       "    }\n",
       "\n",
       "    .dataframe tbody tr th {\n",
       "        vertical-align: top;\n",
       "    }\n",
       "\n",
       "    .dataframe thead th {\n",
       "        text-align: right;\n",
       "    }\n",
       "</style>\n",
       "<table border=\"1\" class=\"dataframe\">\n",
       "  <thead>\n",
       "    <tr style=\"text-align: right;\">\n",
       "      <th></th>\n",
       "      <th>GMFD</th>\n",
       "    </tr>\n",
       "    <tr>\n",
       "      <th>Year</th>\n",
       "      <th></th>\n",
       "    </tr>\n",
       "  </thead>\n",
       "  <tbody>\n",
       "    <tr>\n",
       "      <th>2006</th>\n",
       "      <td>-0.038970</td>\n",
       "    </tr>\n",
       "    <tr>\n",
       "      <th>2007</th>\n",
       "      <td>0.038493</td>\n",
       "    </tr>\n",
       "    <tr>\n",
       "      <th>2008</th>\n",
       "      <td>0.074667</td>\n",
       "    </tr>\n",
       "    <tr>\n",
       "      <th>2009</th>\n",
       "      <td>0.155369</td>\n",
       "    </tr>\n",
       "    <tr>\n",
       "      <th>2010</th>\n",
       "      <td>-0.010462</td>\n",
       "    </tr>\n",
       "    <tr>\n",
       "      <th>2011</th>\n",
       "      <td>-0.236987</td>\n",
       "    </tr>\n",
       "    <tr>\n",
       "      <th>2012</th>\n",
       "      <td>-0.419176</td>\n",
       "    </tr>\n",
       "    <tr>\n",
       "      <th>2013</th>\n",
       "      <td>0.171591</td>\n",
       "    </tr>\n",
       "    <tr>\n",
       "      <th>2014</th>\n",
       "      <td>0.036111</td>\n",
       "    </tr>\n",
       "    <tr>\n",
       "      <th>2015</th>\n",
       "      <td>0.147540</td>\n",
       "    </tr>\n",
       "    <tr>\n",
       "      <th>2016</th>\n",
       "      <td>0.081825</td>\n",
       "    </tr>\n",
       "  </tbody>\n",
       "</table>\n",
       "</div>"
      ],
      "text/plain": [
       "          GMFD\n",
       "Year          \n",
       "2006 -0.038970\n",
       "2007  0.038493\n",
       "2008  0.074667\n",
       "2009  0.155369\n",
       "2010 -0.010462\n",
       "2011 -0.236987\n",
       "2012 -0.419176\n",
       "2013  0.171591\n",
       "2014  0.036111\n",
       "2015  0.147540\n",
       "2016  0.081825"
      ]
     },
     "execution_count": 21,
     "metadata": {},
     "output_type": "execute_result"
    }
   ],
   "source": [
    "gmfd.loc['05007']"
   ]
  },
  {
   "cell_type": "code",
   "execution_count": 11,
   "metadata": {},
   "outputs": [],
   "source": [
    "# Save\n",
    "gmfd.to_csv('./final/GMFD/res_yield_06-16_gmfd_n5k.csv')"
   ]
  },
  {
   "cell_type": "markdown",
   "metadata": {},
   "source": [
    "## Check against USDA"
   ]
  },
  {
   "cell_type": "code",
   "execution_count": 13,
   "metadata": {},
   "outputs": [],
   "source": [
    "# USDA\n",
    "usda = pd.read_csv('../USDA/final/USDA_county_yields_w_county_quad_trends.csv')\n",
    "usda = usda.query(\"year >= 1960 and year <= 2005\")\n",
    "usda[\"GEOID\"] = usda[\"state_fips_code\"].astype(str).str.zfill(2) + usda[\"county_code\"].astype(str).str.zfill(3)\n",
    "usda.sort_values(by = ['GEOID', 'year'], inplace = True)\n",
    "usda.set_index(['GEOID', 'year'], inplace = True)"
   ]
  },
  {
   "cell_type": "code",
   "execution_count": 14,
   "metadata": {},
   "outputs": [
    {
     "data": {
      "text/html": [
       "<div>\n",
       "<style scoped>\n",
       "    .dataframe tbody tr th:only-of-type {\n",
       "        vertical-align: middle;\n",
       "    }\n",
       "\n",
       "    .dataframe tbody tr th {\n",
       "        vertical-align: top;\n",
       "    }\n",
       "\n",
       "    .dataframe thead th {\n",
       "        text-align: right;\n",
       "    }\n",
       "</style>\n",
       "<table border=\"1\" class=\"dataframe\">\n",
       "  <thead>\n",
       "    <tr style=\"text-align: right;\">\n",
       "      <th></th>\n",
       "      <th></th>\n",
       "      <th>state_fips_code</th>\n",
       "      <th>county_code</th>\n",
       "      <th>asd_code</th>\n",
       "      <th>Value</th>\n",
       "      <th>area</th>\n",
       "      <th>log_Value</th>\n",
       "      <th>lowess_log_Value</th>\n",
       "      <th>quad_fit</th>\n",
       "      <th>quad_fit_nolog</th>\n",
       "      <th>target_Value</th>\n",
       "      <th>target_ValueQ</th>\n",
       "      <th>target_ValueQnl</th>\n",
       "    </tr>\n",
       "    <tr>\n",
       "      <th>GEOID</th>\n",
       "      <th>year</th>\n",
       "      <th></th>\n",
       "      <th></th>\n",
       "      <th></th>\n",
       "      <th></th>\n",
       "      <th></th>\n",
       "      <th></th>\n",
       "      <th></th>\n",
       "      <th></th>\n",
       "      <th></th>\n",
       "      <th></th>\n",
       "      <th></th>\n",
       "      <th></th>\n",
       "    </tr>\n",
       "  </thead>\n",
       "  <tbody>\n",
       "    <tr>\n",
       "      <th rowspan=\"5\" valign=\"top\">01001</th>\n",
       "      <th>1960</th>\n",
       "      <td>1</td>\n",
       "      <td>1</td>\n",
       "      <td>40</td>\n",
       "      <td>28.0</td>\n",
       "      <td>20100.0</td>\n",
       "      <td>3.332205</td>\n",
       "      <td>3.257429</td>\n",
       "      <td>3.18457</td>\n",
       "      <td>25.872351</td>\n",
       "      <td>0.074776</td>\n",
       "      <td>0.147635</td>\n",
       "      <td>2.127649</td>\n",
       "    </tr>\n",
       "    <tr>\n",
       "      <th>1961</th>\n",
       "      <td>1</td>\n",
       "      <td>1</td>\n",
       "      <td>40</td>\n",
       "      <td>32.0</td>\n",
       "      <td>16700.0</td>\n",
       "      <td>3.465736</td>\n",
       "      <td>3.303342</td>\n",
       "      <td>3.20547</td>\n",
       "      <td>25.805471</td>\n",
       "      <td>0.162394</td>\n",
       "      <td>0.260266</td>\n",
       "      <td>6.194529</td>\n",
       "    </tr>\n",
       "    <tr>\n",
       "      <th>1962</th>\n",
       "      <td>1</td>\n",
       "      <td>1</td>\n",
       "      <td>40</td>\n",
       "      <td>25.0</td>\n",
       "      <td>15450.0</td>\n",
       "      <td>3.218876</td>\n",
       "      <td>3.349108</td>\n",
       "      <td>3.22663</td>\n",
       "      <td>25.804917</td>\n",
       "      <td>-0.130232</td>\n",
       "      <td>-0.007754</td>\n",
       "      <td>-0.804917</td>\n",
       "    </tr>\n",
       "    <tr>\n",
       "      <th>1963</th>\n",
       "      <td>1</td>\n",
       "      <td>1</td>\n",
       "      <td>40</td>\n",
       "      <td>36.0</td>\n",
       "      <td>16000.0</td>\n",
       "      <td>3.583519</td>\n",
       "      <td>3.394685</td>\n",
       "      <td>3.24805</td>\n",
       "      <td>25.870688</td>\n",
       "      <td>0.188834</td>\n",
       "      <td>0.335469</td>\n",
       "      <td>10.129312</td>\n",
       "    </tr>\n",
       "    <tr>\n",
       "      <th>1964</th>\n",
       "      <td>1</td>\n",
       "      <td>1</td>\n",
       "      <td>40</td>\n",
       "      <td>33.0</td>\n",
       "      <td>16100.0</td>\n",
       "      <td>3.496508</td>\n",
       "      <td>3.439928</td>\n",
       "      <td>3.26973</td>\n",
       "      <td>26.002784</td>\n",
       "      <td>0.056579</td>\n",
       "      <td>0.226777</td>\n",
       "      <td>6.997216</td>\n",
       "    </tr>\n",
       "  </tbody>\n",
       "</table>\n",
       "</div>"
      ],
      "text/plain": [
       "            state_fips_code  county_code  asd_code  Value     area  log_Value  \\\n",
       "GEOID year                                                                      \n",
       "01001 1960                1            1        40   28.0  20100.0   3.332205   \n",
       "      1961                1            1        40   32.0  16700.0   3.465736   \n",
       "      1962                1            1        40   25.0  15450.0   3.218876   \n",
       "      1963                1            1        40   36.0  16000.0   3.583519   \n",
       "      1964                1            1        40   33.0  16100.0   3.496508   \n",
       "\n",
       "            lowess_log_Value  quad_fit  quad_fit_nolog  target_Value  \\\n",
       "GEOID year                                                             \n",
       "01001 1960          3.257429   3.18457       25.872351      0.074776   \n",
       "      1961          3.303342   3.20547       25.805471      0.162394   \n",
       "      1962          3.349108   3.22663       25.804917     -0.130232   \n",
       "      1963          3.394685   3.24805       25.870688      0.188834   \n",
       "      1964          3.439928   3.26973       26.002784      0.056579   \n",
       "\n",
       "            target_ValueQ  target_ValueQnl  \n",
       "GEOID year                                  \n",
       "01001 1960       0.147635         2.127649  \n",
       "      1961       0.260266         6.194529  \n",
       "      1962      -0.007754        -0.804917  \n",
       "      1963       0.335469        10.129312  \n",
       "      1964       0.226777         6.997216  "
      ]
     },
     "execution_count": 14,
     "metadata": {},
     "output_type": "execute_result"
    }
   ],
   "source": [
    "usda.head()"
   ]
  },
  {
   "cell_type": "code",
   "execution_count": 15,
   "metadata": {},
   "outputs": [],
   "source": [
    "# Subtract means\n",
    "usda['target_ValueQ'] = usda['target_ValueQ'] - usda['target_ValueQ'].mean(level = 'GEOID')"
   ]
  },
  {
   "cell_type": "code",
   "execution_count": 16,
   "metadata": {},
   "outputs": [],
   "source": [
    "# Merge\n",
    "data = pd.merge(gmfd.reset_index(), usda.filter(['target_ValueQ', 'log_Value']).reset_index(), left_on = ['GEOID', 'Year'], right_on = ['GEOID', 'year'], how = 'inner').drop(columns = ['year'])\n",
    "data.set_index(['GEOID', 'Year'], inplace = True)"
   ]
  },
  {
   "cell_type": "code",
   "execution_count": 17,
   "metadata": {},
   "outputs": [
    {
     "data": {
      "text/html": [
       "<div>\n",
       "<style scoped>\n",
       "    .dataframe tbody tr th:only-of-type {\n",
       "        vertical-align: middle;\n",
       "    }\n",
       "\n",
       "    .dataframe tbody tr th {\n",
       "        vertical-align: top;\n",
       "    }\n",
       "\n",
       "    .dataframe thead th {\n",
       "        text-align: right;\n",
       "    }\n",
       "</style>\n",
       "<table border=\"1\" class=\"dataframe\">\n",
       "  <thead>\n",
       "    <tr style=\"text-align: right;\">\n",
       "      <th></th>\n",
       "      <th></th>\n",
       "      <th>GMFD</th>\n",
       "      <th>target_ValueQ</th>\n",
       "      <th>log_Value</th>\n",
       "    </tr>\n",
       "    <tr>\n",
       "      <th>GEOID</th>\n",
       "      <th>Year</th>\n",
       "      <th></th>\n",
       "      <th></th>\n",
       "      <th></th>\n",
       "    </tr>\n",
       "  </thead>\n",
       "  <tbody>\n",
       "    <tr>\n",
       "      <th rowspan=\"5\" valign=\"top\">01001</th>\n",
       "      <th>1960</th>\n",
       "      <td>-0.149831</td>\n",
       "      <td>0.121670</td>\n",
       "      <td>3.332205</td>\n",
       "    </tr>\n",
       "    <tr>\n",
       "      <th>1961</th>\n",
       "      <td>0.231540</td>\n",
       "      <td>0.234301</td>\n",
       "      <td>3.465736</td>\n",
       "    </tr>\n",
       "    <tr>\n",
       "      <th>1962</th>\n",
       "      <td>-0.489502</td>\n",
       "      <td>-0.033719</td>\n",
       "      <td>3.218876</td>\n",
       "    </tr>\n",
       "    <tr>\n",
       "      <th>1963</th>\n",
       "      <td>-0.091325</td>\n",
       "      <td>0.309504</td>\n",
       "      <td>3.583519</td>\n",
       "    </tr>\n",
       "    <tr>\n",
       "      <th>1964</th>\n",
       "      <td>0.108570</td>\n",
       "      <td>0.200813</td>\n",
       "      <td>3.496508</td>\n",
       "    </tr>\n",
       "  </tbody>\n",
       "</table>\n",
       "</div>"
      ],
      "text/plain": [
       "                GMFD  target_ValueQ  log_Value\n",
       "GEOID Year                                    \n",
       "01001 1960 -0.149831       0.121670   3.332205\n",
       "      1961  0.231540       0.234301   3.465736\n",
       "      1962 -0.489502      -0.033719   3.218876\n",
       "      1963 -0.091325       0.309504   3.583519\n",
       "      1964  0.108570       0.200813   3.496508"
      ]
     },
     "execution_count": 17,
     "metadata": {},
     "output_type": "execute_result"
    }
   ],
   "source": [
    "data.head()"
   ]
  },
  {
   "cell_type": "code",
   "execution_count": 18,
   "metadata": {},
   "outputs": [
    {
     "data": {
      "image/png": "[encoded data removed]",
      "text/plain": [
       "<Figure size 864x432 with 1 Axes>"
      ]
     },
     "metadata": {},
     "output_type": "display_data"
    }
   ],
   "source": [
    "# Plot all counties\n",
    "fig, ax = plt.subplots(1,1, figsize = (12,6))\n",
    "data['GMFD'].plot(kind = 'density', xlim = [-1,1], ax = ax, label = 'GMFD')\n",
    "data['target_ValueQ'].plot(kind = 'density', xlim = [-1,1], ax = ax, label = 'USDA')\n",
    "ax.set_xlabel('Yield')\n",
    "ax.set_title('All counties (1960-2005)')\n",
    "plt.legend()\n",
    "plt.tight_layout()\n",
    "plt.show()"
   ]
  },
  {
   "cell_type": "code",
   "execution_count": 19,
   "metadata": {},
   "outputs": [
    {
     "data": {
      "image/png": "[encoded data removed]",
      "text/plain": [
       "<Figure size 864x432 with 1 Axes>"
      ]
     },
     "metadata": {},
     "output_type": "display_data"
    }
   ],
   "source": [
    "# Plot select counties\n",
    "fig, ax = plt.subplots(1,1, figsize = (12,6))\n",
    "data.loc[good_counties]['GMFD'].plot(kind = 'kde', xlim = [-1,1], ax = ax)\n",
    "data.loc[good_counties]['target_ValueQ'].plot(kind = 'kde', xlim = [-1,1], ax = ax, label = 'USDA')\n",
    "ax.set_xlabel('Log(Yield) anomaly')\n",
    "ax.set_title('Counties with $p < 0.05$ (1960-2005)')\n",
    "plt.legend()\n",
    "plt.tight_layout()\n",
    "plt.show()"
   ]
  },
  {
   "cell_type": "code",
   "execution_count": 20,
   "metadata": {},
   "outputs": [],
   "source": [
    "# USDA weights\n",
    "usda_weights = pd.read_csv(\"../../analysis/national/weights/usda_county_to_national_weights.csv\")\n",
    "usda_weights[\"GEOID\"] = usda_weights[\"GEOID\"].astype(str).str.zfill(5)"
   ]
  },
  {
   "cell_type": "code",
   "execution_count": 21,
   "metadata": {},
   "outputs": [
    {
     "data": {
      "text/html": [
       "<div>\n",
       "<style scoped>\n",
       "    .dataframe tbody tr th:only-of-type {\n",
       "        vertical-align: middle;\n",
       "    }\n",
       "\n",
       "    .dataframe tbody tr th {\n",
       "        vertical-align: top;\n",
       "    }\n",
       "\n",
       "    .dataframe thead th {\n",
       "        text-align: right;\n",
       "    }\n",
       "</style>\n",
       "<table border=\"1\" class=\"dataframe\">\n",
       "  <thead>\n",
       "    <tr style=\"text-align: right;\">\n",
       "      <th></th>\n",
       "      <th>GEOID</th>\n",
       "      <th>year</th>\n",
       "      <th>Value</th>\n",
       "      <th>area</th>\n",
       "      <th>national_weight</th>\n",
       "    </tr>\n",
       "  </thead>\n",
       "  <tbody>\n",
       "    <tr>\n",
       "      <th>0</th>\n",
       "      <td>01001</td>\n",
       "      <td>1950</td>\n",
       "      <td>17.0</td>\n",
       "      <td>29600.0</td>\n",
       "      <td>0.000211</td>\n",
       "    </tr>\n",
       "    <tr>\n",
       "      <th>1</th>\n",
       "      <td>01011</td>\n",
       "      <td>1950</td>\n",
       "      <td>11.0</td>\n",
       "      <td>24200.0</td>\n",
       "      <td>0.000111</td>\n",
       "    </tr>\n",
       "    <tr>\n",
       "      <th>2</th>\n",
       "      <td>01047</td>\n",
       "      <td>1950</td>\n",
       "      <td>13.0</td>\n",
       "      <td>44200.0</td>\n",
       "      <td>0.000241</td>\n",
       "    </tr>\n",
       "    <tr>\n",
       "      <th>3</th>\n",
       "      <td>01051</td>\n",
       "      <td>1950</td>\n",
       "      <td>23.0</td>\n",
       "      <td>38900.0</td>\n",
       "      <td>0.000375</td>\n",
       "    </tr>\n",
       "    <tr>\n",
       "      <th>4</th>\n",
       "      <td>01063</td>\n",
       "      <td>1950</td>\n",
       "      <td>16.0</td>\n",
       "      <td>23900.0</td>\n",
       "      <td>0.000160</td>\n",
       "    </tr>\n",
       "  </tbody>\n",
       "</table>\n",
       "</div>"
      ],
      "text/plain": [
       "   GEOID  year  Value     area  national_weight\n",
       "0  01001  1950   17.0  29600.0         0.000211\n",
       "1  01011  1950   11.0  24200.0         0.000111\n",
       "2  01047  1950   13.0  44200.0         0.000241\n",
       "3  01051  1950   23.0  38900.0         0.000375\n",
       "4  01063  1950   16.0  23900.0         0.000160"
      ]
     },
     "execution_count": 21,
     "metadata": {},
     "output_type": "execute_result"
    }
   ],
   "source": [
    "usda_weights.head()"
   ]
  },
  {
   "cell_type": "code",
   "execution_count": 22,
   "metadata": {},
   "outputs": [],
   "source": [
    "# Merge\n",
    "gmfd_weighted = pd.merge(gmfd.reset_index(), usda.reset_index().filter(['GEOID', 'year', 'target_ValueQ', 'quad_fit', 'log_Value']), left_on = ['GEOID', 'Year'], right_on = ['GEOID', 'year'])\n",
    "gmfd_weighted = pd.merge(gmfd_weighted, usda_weights.filter(['GEOID', 'year', 'national_weight']), left_on = ['GEOID', 'Year'], right_on = ['GEOID', 'year']).drop(columns = ['year_x', 'year_y'])"
   ]
  },
  {
   "cell_type": "code",
   "execution_count": 23,
   "metadata": {},
   "outputs": [
    {
     "data": {
      "text/html": [
       "<div>\n",
       "<style scoped>\n",
       "    .dataframe tbody tr th:only-of-type {\n",
       "        vertical-align: middle;\n",
       "    }\n",
       "\n",
       "    .dataframe tbody tr th {\n",
       "        vertical-align: top;\n",
       "    }\n",
       "\n",
       "    .dataframe thead th {\n",
       "        text-align: right;\n",
       "    }\n",
       "</style>\n",
       "<table border=\"1\" class=\"dataframe\">\n",
       "  <thead>\n",
       "    <tr style=\"text-align: right;\">\n",
       "      <th></th>\n",
       "      <th>GEOID</th>\n",
       "      <th>Year</th>\n",
       "      <th>GMFD</th>\n",
       "      <th>target_ValueQ</th>\n",
       "      <th>quad_fit</th>\n",
       "      <th>log_Value</th>\n",
       "      <th>national_weight</th>\n",
       "    </tr>\n",
       "  </thead>\n",
       "  <tbody>\n",
       "    <tr>\n",
       "      <th>0</th>\n",
       "      <td>01001</td>\n",
       "      <td>1960</td>\n",
       "      <td>-0.149831</td>\n",
       "      <td>0.121670</td>\n",
       "      <td>3.184570</td>\n",
       "      <td>3.332205</td>\n",
       "      <td>1.469247e-04</td>\n",
       "    </tr>\n",
       "    <tr>\n",
       "      <th>1</th>\n",
       "      <td>01001</td>\n",
       "      <td>1961</td>\n",
       "      <td>0.231540</td>\n",
       "      <td>0.234301</td>\n",
       "      <td>3.205470</td>\n",
       "      <td>3.465736</td>\n",
       "      <td>1.511315e-04</td>\n",
       "    </tr>\n",
       "    <tr>\n",
       "      <th>2</th>\n",
       "      <td>01001</td>\n",
       "      <td>1962</td>\n",
       "      <td>-0.489502</td>\n",
       "      <td>-0.033719</td>\n",
       "      <td>3.226630</td>\n",
       "      <td>3.218876</td>\n",
       "      <td>1.088743e-04</td>\n",
       "    </tr>\n",
       "    <tr>\n",
       "      <th>3</th>\n",
       "      <td>01001</td>\n",
       "      <td>1963</td>\n",
       "      <td>-0.091325</td>\n",
       "      <td>0.309504</td>\n",
       "      <td>3.248050</td>\n",
       "      <td>3.583519</td>\n",
       "      <td>1.447571e-04</td>\n",
       "    </tr>\n",
       "    <tr>\n",
       "      <th>4</th>\n",
       "      <td>01001</td>\n",
       "      <td>1964</td>\n",
       "      <td>0.108570</td>\n",
       "      <td>0.200813</td>\n",
       "      <td>3.269730</td>\n",
       "      <td>3.496508</td>\n",
       "      <td>1.537549e-04</td>\n",
       "    </tr>\n",
       "    <tr>\n",
       "      <th>...</th>\n",
       "      <td>...</td>\n",
       "      <td>...</td>\n",
       "      <td>...</td>\n",
       "      <td>...</td>\n",
       "      <td>...</td>\n",
       "      <td>...</td>\n",
       "      <td>...</td>\n",
       "    </tr>\n",
       "    <tr>\n",
       "      <th>122181</th>\n",
       "      <td>56041</td>\n",
       "      <td>1974</td>\n",
       "      <td>NaN</td>\n",
       "      <td>-0.455350</td>\n",
       "      <td>3.856547</td>\n",
       "      <td>3.401197</td>\n",
       "      <td>1.276220e-06</td>\n",
       "    </tr>\n",
       "    <tr>\n",
       "      <th>122182</th>\n",
       "      <td>56041</td>\n",
       "      <td>1975</td>\n",
       "      <td>NaN</td>\n",
       "      <td>-0.172053</td>\n",
       "      <td>3.727401</td>\n",
       "      <td>3.555348</td>\n",
       "      <td>1.198732e-06</td>\n",
       "    </tr>\n",
       "    <tr>\n",
       "      <th>122183</th>\n",
       "      <td>56041</td>\n",
       "      <td>1976</td>\n",
       "      <td>NaN</td>\n",
       "      <td>0.293675</td>\n",
       "      <td>3.618348</td>\n",
       "      <td>3.912023</td>\n",
       "      <td>7.953683e-07</td>\n",
       "    </tr>\n",
       "    <tr>\n",
       "      <th>122184</th>\n",
       "      <td>56041</td>\n",
       "      <td>1995</td>\n",
       "      <td>NaN</td>\n",
       "      <td>-0.017118</td>\n",
       "      <td>5.364225</td>\n",
       "      <td>5.347108</td>\n",
       "      <td>1.396224e-06</td>\n",
       "    </tr>\n",
       "    <tr>\n",
       "      <th>122185</th>\n",
       "      <td>56041</td>\n",
       "      <td>1996</td>\n",
       "      <td>NaN</td>\n",
       "      <td>0.012827</td>\n",
       "      <td>5.657054</td>\n",
       "      <td>5.669881</td>\n",
       "      <td>3.098808e-06</td>\n",
       "    </tr>\n",
       "  </tbody>\n",
       "</table>\n",
       "<p>122186 rows × 7 columns</p>\n",
       "</div>"
      ],
      "text/plain": [
       "        GEOID  Year      GMFD  target_ValueQ  quad_fit  log_Value  \\\n",
       "0       01001  1960 -0.149831       0.121670  3.184570   3.332205   \n",
       "1       01001  1961  0.231540       0.234301  3.205470   3.465736   \n",
       "2       01001  1962 -0.489502      -0.033719  3.226630   3.218876   \n",
       "3       01001  1963 -0.091325       0.309504  3.248050   3.583519   \n",
       "4       01001  1964  0.108570       0.200813  3.269730   3.496508   \n",
       "...       ...   ...       ...            ...       ...        ...   \n",
       "122181  56041  1974       NaN      -0.455350  3.856547   3.401197   \n",
       "122182  56041  1975       NaN      -0.172053  3.727401   3.555348   \n",
       "122183  56041  1976       NaN       0.293675  3.618348   3.912023   \n",
       "122184  56041  1995       NaN      -0.017118  5.364225   5.347108   \n",
       "122185  56041  1996       NaN       0.012827  5.657054   5.669881   \n",
       "\n",
       "        national_weight  \n",
       "0          1.469247e-04  \n",
       "1          1.511315e-04  \n",
       "2          1.088743e-04  \n",
       "3          1.447571e-04  \n",
       "4          1.537549e-04  \n",
       "...                 ...  \n",
       "122181     1.276220e-06  \n",
       "122182     1.198732e-06  \n",
       "122183     7.953683e-07  \n",
       "122184     1.396224e-06  \n",
       "122185     3.098808e-06  \n",
       "\n",
       "[122186 rows x 7 columns]"
      ]
     },
     "execution_count": 23,
     "metadata": {},
     "output_type": "execute_result"
    }
   ],
   "source": [
    "gmfd_weighted"
   ]
  },
  {
   "cell_type": "code",
   "execution_count": 24,
   "metadata": {},
   "outputs": [],
   "source": [
    "# Sum\n",
    "gmfd_weighted.rename(columns = {'GMFD_x' : 'GMFD'}, inplace=True)\n",
    "gmfd_weighted['GMFD'] = gmfd_weighted['GMFD'] * gmfd_weighted['national_weight']\n",
    "gmfd_weighted['target_ValueQ'] = gmfd_weighted['target_ValueQ'] * gmfd_weighted['national_weight']\n",
    "gmfd_weighted['quad_fit'] = gmfd_weighted['quad_fit'] * gmfd_weighted['national_weight']\n",
    "gmfd_weighted['log_Value'] = gmfd_weighted['log_Value'] * gmfd_weighted['national_weight']\n",
    "gmfd_weighted = gmfd_weighted.groupby('Year').sum()"
   ]
  },
  {
   "cell_type": "code",
   "execution_count": 25,
   "metadata": {},
   "outputs": [
    {
     "data": {
      "image/png": "[encoded data removed]",
      "text/plain": [
       "<Figure size 864x432 with 1 Axes>"
      ]
     },
     "metadata": {},
     "output_type": "display_data"
    }
   ],
   "source": [
    "# Plot national\n",
    "fig, ax = plt.subplots(1,1, figsize = (12,6))\n",
    "gmfd_weighted['GMFD'].plot(ax = ax)\n",
    "gmfd_weighted['target_ValueQ'].plot(ax = ax, label = 'USDA')\n",
    "ax.set_ylabel('Log(Yield) anomaly')\n",
    "plt.legend()\n",
    "plt.show()"
   ]
  },
  {
   "cell_type": "code",
   "execution_count": 26,
   "metadata": {},
   "outputs": [
    {
     "data": {
      "image/png": "[encoded data removed]",
      "text/plain": [
       "<Figure size 864x432 with 1 Axes>"
      ]
     },
     "metadata": {},
     "output_type": "display_data"
    }
   ],
   "source": [
    "# Plot\n",
    "fig, ax = plt.subplots(1,1, figsize = (12,6))\n",
    "gmfd_weighted['quad_fit'].plot(ax = ax, color = 'gray', alpha = 0.6)\n",
    "ax.plot(gmfd_weighted.index, gmfd_weighted['quad_fit'] + gmfd_weighted['GMFD'], label = 'GMFD + quad_fit')\n",
    "gmfd_weighted['log_Value'].plot(ax = ax, label = 'USDA', color = 'C1')\n",
    "ax.set_ylabel('Log(Yield)')\n",
    "ax.set_title('National')\n",
    "plt.legend()\n",
    "plt.tight_layout()\n",
    "plt.show()"
   ]
  },
  {
   "cell_type": "code",
   "execution_count": 27,
   "metadata": {},
   "outputs": [
    {
     "name": "stdout",
     "output_type": "stream",
     "text": [
      "R-squared: 0.8369977404623281\n",
      "Adj. R-squared: 0.8294162400187155\n"
     ]
    }
   ],
   "source": [
    "# R-squared\n",
    "n = len(gmfd_weighted)\n",
    "p1 = 2\n",
    "r2 = r2_score(gmfd_weighted['log_Value'], gmfd_weighted['quad_fit'])\n",
    "print('R-squared: ' + str(r2))\n",
    "print('Adj. R-squared: ' + str(1. - (1. - r2)*((n-1)/(n-p1-1))))"
   ]
  },
  {
   "cell_type": "code",
   "execution_count": 28,
   "metadata": {},
   "outputs": [
    {
     "name": "stdout",
     "output_type": "stream",
     "text": [
      "R-squared: 0.9224988478458385\n",
      "Adj. R-squared: 0.9105755936682751\n"
     ]
    }
   ],
   "source": [
    "# R-squared\n",
    "n = len(gmfd_weighted)\n",
    "p2 = 6\n",
    "r2 = r2_score(gmfd_weighted['log_Value'], gmfd_weighted['quad_fit'] + gmfd_weighted['GMFD'])\n",
    "print('R-squared: ' + str(r2))\n",
    "print('Adj. R-squared: ' + str(1. - (1. - r2)*((n-1)/(n-p2-1))))"
   ]
  },
  {
   "cell_type": "code",
   "execution_count": 29,
   "metadata": {},
   "outputs": [],
   "source": [
    "# F-test\n",
    "import scipy.stats as ss\n",
    "SSEbase = np.sum(gmfd_weighted['target_ValueQ']**2)\n",
    "SSEfull = np.sum((gmfd_weighted['GMFD'] - gmfd_weighted['target_ValueQ'])**2)\n",
    "F = ((SSEbase - SSEfull)/(p2-p1))/(SSEfull/(n-p2-1))"
   ]
  },
  {
   "cell_type": "code",
   "execution_count": 30,
   "metadata": {},
   "outputs": [
    {
     "name": "stdout",
     "output_type": "stream",
     "text": [
      "F-statistic:\n",
      "11.059930333425285\n",
      "p-value:\n",
      "4.313541302711506e-06\n"
     ]
    }
   ],
   "source": [
    "print('F-statistic:')\n",
    "print(F)\n",
    "print('p-value:')\n",
    "print(ss.f.sf(F, p2-p1, n-p2-1))"
   ]
  },
  {
   "cell_type": "markdown",
   "metadata": {},
   "source": [
    "## NEX"
   ]
  },
  {
   "cell_type": "code",
   "execution_count": 2,
   "metadata": {},
   "outputs": [],
   "source": [
    "nex_hist = [\"agvar_historical_r1i1p1_ACCESS1-0.csv\",\n",
    "\"agvar_historical_r1i1p1_BNU-ESM.csv\",\n",
    "\"agvar_historical_r1i1p1_CCSM4.csv\",\n",
    "\"agvar_historical_r1i1p1_CESM1-BGC.csv\",\n",
    "\"agvar_historical_r1i1p1_CNRM-CM5.csv\",\n",
    "\"agvar_historical_r1i1p1_CSIRO-Mk3-6-0.csv\",\n",
    "\"agvar_historical_r1i1p1_CanESM2.csv\",\n",
    "\"agvar_historical_r1i1p1_GFDL-CM3.csv\",\n",
    "\"agvar_historical_r1i1p1_GFDL-ESM2G.csv\",\n",
    "\"agvar_historical_r1i1p1_GFDL-ESM2M.csv\",\n",
    "\"agvar_historical_r1i1p1_IPSL-CM5A-LR.csv\",\n",
    "\"agvar_historical_r1i1p1_IPSL-CM5A-MR.csv\",\n",
    "\"agvar_historical_r1i1p1_MIROC-ESM-CHEM.csv\",\n",
    "\"agvar_historical_r1i1p1_MIROC-ESM.csv\",\n",
    "\"agvar_historical_r1i1p1_MIROC5.csv\",\n",
    "\"agvar_historical_r1i1p1_MPI-ESM-LR.csv\",\n",
    "\"agvar_historical_r1i1p1_MPI-ESM-MR.csv\",\n",
    "\"agvar_historical_r1i1p1_MRI-CGCM3.csv\",\n",
    "\"agvar_historical_r1i1p1_NorESM1-M.csv\",\n",
    "\"agvar_historical_r1i1p1_bcc-csm1-1.csv\",\n",
    "\"agvar_historical_r1i1p1_inmcm4.csv\"]\n",
    "\n",
    "nex_proj = [\"agvar_rcp85_r1i1p1_ACCESS1-0.csv\",\n",
    "\"agvar_rcp85_r1i1p1_BNU-ESM.csv\",\n",
    "\"agvar_rcp85_r1i1p1_CCSM4.csv\",\n",
    "\"agvar_rcp85_r1i1p1_CESM1-BGC.csv\",\n",
    "\"agvar_rcp85_r1i1p1_CNRM-CM5.csv\",\n",
    "\"agvar_rcp85_r1i1p1_CSIRO-Mk3-6-0.csv\",\n",
    "\"agvar_rcp85_r1i1p1_CanESM2.csv\",\n",
    "\"agvar_rcp85_r1i1p1_GFDL-CM3.csv\",\n",
    "\"agvar_rcp85_r1i1p1_GFDL-ESM2G.csv\",\n",
    "\"agvar_rcp85_r1i1p1_GFDL-ESM2M.csv\",\n",
    "\"agvar_rcp85_r1i1p1_IPSL-CM5A-LR.csv\",\n",
    "\"agvar_rcp85_r1i1p1_IPSL-CM5A-MR.csv\",\n",
    "\"agvar_rcp85_r1i1p1_MIROC-ESM-CHEM.csv\",\n",
    "\"agvar_rcp85_r1i1p1_MIROC-ESM.csv\",\n",
    "\"agvar_rcp85_r1i1p1_MIROC5.csv\",\n",
    "\"agvar_rcp85_r1i1p1_MPI-ESM-LR.csv\",\n",
    "\"agvar_rcp85_r1i1p1_MPI-ESM-MR.csv\",\n",
    "\"agvar_rcp85_r1i1p1_MRI-CGCM3.csv\",\n",
    "\"agvar_rcp85_r1i1p1_NorESM1-M.csv\",\n",
    "\"agvar_rcp85_r1i1p1_bcc-csm1-1.csv\",\n",
    "\"agvar_rcp85_r1i1p1_inmcm4.csv\"]"
   ]
  },
  {
   "cell_type": "code",
   "execution_count": 7,
   "metadata": {},
   "outputs": [],
   "source": [
    "# Run calculation\n",
    "def run_calc(name, hist=True, oos=False, mid=False, end=False):\n",
    "    # Read in data\n",
    "    data = pd.read_csv(\"./raw/NEX/\" + name)\n",
    "    data[\"GEOID\"] = data[\"GEOID\"].astype(str).str.zfill(5)\n",
    "    data.set_index(['GEOID', 'Year'], inplace=True)\n",
    "    \n",
    "    # Select time period\n",
    "    if hist:\n",
    "        data = data.query('Year >= 1960 and Year <= 2005')\n",
    "    elif oos:\n",
    "        data = data.query('Year >= 2006 and Year <= 2016')\n",
    "    elif mid:\n",
    "        data = data.query('Year >= 2040 and Year <= 2059')\n",
    "    elif end:\n",
    "        data = data.query('Year >= 2080 and Year <= 2099')\n",
    "    \n",
    "    # Square precip\n",
    "    data['prcp2'] = data['prcp']**2\n",
    "    \n",
    "    # Subtract means\n",
    "    for agvar in data.columns:\n",
    "        data[agvar] = data[agvar] - data[agvar].mean(level = 'GEOID')\n",
    "\n",
    "    # Calculate yields\n",
    "    data = pd.merge(coeff, data.reset_index(), on = 'GEOID', how = 'outer')\n",
    "    data['yield'] = data['gdd']*data['GDDc'] + data['egdd']*data['KDDc'] + data['prcp']*data['Pc'] + data['prcp2']*data['P2c']\n",
    "#     data['yield'] = data['gdd']*diffen[0] + data['egdd']*diffen[1] + data['prcp']*diffen[2] + data['prcp2']*diffen[3]\n",
    "    data = data.filter(['GEOID', 'Year', 'yield'])\n",
    "    \n",
    "    # Save\n",
    "    timeID = hist*'60-05' + oos*'06-16' + mid*'40-59' + end*'80-99'\n",
    "    data.to_csv(\"./final/NEX/res_\" + timeID + '_yield_' + name[6:], index=False)"
   ]
  },
  {
   "cell_type": "code",
   "execution_count": 33,
   "metadata": {},
   "outputs": [
    {
     "name": "stderr",
     "output_type": "stream",
     "text": [
      "/Users/davidlafferty/anaconda3/lib/python3.7/site-packages/ipykernel_launcher.py:17: SettingWithCopyWarning: \n",
      "A value is trying to be set on a copy of a slice from a DataFrame.\n",
      "Try using .loc[row_indexer,col_indexer] = value instead\n",
      "\n",
      "See the caveats in the documentation: https://pandas.pydata.org/pandas-docs/stable/user_guide/indexing.html#returning-a-view-versus-a-copy\n",
      "/Users/davidlafferty/anaconda3/lib/python3.7/site-packages/ipykernel_launcher.py:21: SettingWithCopyWarning: \n",
      "A value is trying to be set on a copy of a slice from a DataFrame.\n",
      "Try using .loc[row_indexer,col_indexer] = value instead\n",
      "\n",
      "See the caveats in the documentation: https://pandas.pydata.org/pandas-docs/stable/user_guide/indexing.html#returning-a-view-versus-a-copy\n"
     ]
    }
   ],
   "source": [
    "for model in nex_hist:\n",
    "    run_calc(model)"
   ]
  },
  {
   "cell_type": "code",
   "execution_count": 34,
   "metadata": {},
   "outputs": [
    {
     "name": "stderr",
     "output_type": "stream",
     "text": [
      "/Users/davidlafferty/anaconda3/lib/python3.7/site-packages/ipykernel_launcher.py:17: SettingWithCopyWarning: \n",
      "A value is trying to be set on a copy of a slice from a DataFrame.\n",
      "Try using .loc[row_indexer,col_indexer] = value instead\n",
      "\n",
      "See the caveats in the documentation: https://pandas.pydata.org/pandas-docs/stable/user_guide/indexing.html#returning-a-view-versus-a-copy\n",
      "/Users/davidlafferty/anaconda3/lib/python3.7/site-packages/ipykernel_launcher.py:21: SettingWithCopyWarning: \n",
      "A value is trying to be set on a copy of a slice from a DataFrame.\n",
      "Try using .loc[row_indexer,col_indexer] = value instead\n",
      "\n",
      "See the caveats in the documentation: https://pandas.pydata.org/pandas-docs/stable/user_guide/indexing.html#returning-a-view-versus-a-copy\n"
     ]
    }
   ],
   "source": [
    "for model in nex_proj:\n",
    "    run_calc(model, proj=False, hist=False, oos=True)"
   ]
  },
  {
   "cell_type": "code",
   "execution_count": 8,
   "metadata": {},
   "outputs": [
    {
     "name": "stderr",
     "output_type": "stream",
     "text": [
      "/Users/davidlafferty/anaconda3/lib/python3.7/site-packages/ipykernel_launcher.py:19: SettingWithCopyWarning: \n",
      "A value is trying to be set on a copy of a slice from a DataFrame.\n",
      "Try using .loc[row_indexer,col_indexer] = value instead\n",
      "\n",
      "See the caveats in the documentation: https://pandas.pydata.org/pandas-docs/stable/user_guide/indexing.html#returning-a-view-versus-a-copy\n",
      "/Users/davidlafferty/anaconda3/lib/python3.7/site-packages/ipykernel_launcher.py:23: SettingWithCopyWarning: \n",
      "A value is trying to be set on a copy of a slice from a DataFrame.\n",
      "Try using .loc[row_indexer,col_indexer] = value instead\n",
      "\n",
      "See the caveats in the documentation: https://pandas.pydata.org/pandas-docs/stable/user_guide/indexing.html#returning-a-view-versus-a-copy\n"
     ]
    }
   ],
   "source": [
    "for model in nex_proj:\n",
    "    run_calc(model, hist=False, mid=True)"
   ]
  },
  {
   "cell_type": "code",
   "execution_count": 9,
   "metadata": {},
   "outputs": [
    {
     "name": "stderr",
     "output_type": "stream",
     "text": [
      "/Users/davidlafferty/anaconda3/lib/python3.7/site-packages/ipykernel_launcher.py:19: SettingWithCopyWarning: \n",
      "A value is trying to be set on a copy of a slice from a DataFrame.\n",
      "Try using .loc[row_indexer,col_indexer] = value instead\n",
      "\n",
      "See the caveats in the documentation: https://pandas.pydata.org/pandas-docs/stable/user_guide/indexing.html#returning-a-view-versus-a-copy\n",
      "/Users/davidlafferty/anaconda3/lib/python3.7/site-packages/ipykernel_launcher.py:23: SettingWithCopyWarning: \n",
      "A value is trying to be set on a copy of a slice from a DataFrame.\n",
      "Try using .loc[row_indexer,col_indexer] = value instead\n",
      "\n",
      "See the caveats in the documentation: https://pandas.pydata.org/pandas-docs/stable/user_guide/indexing.html#returning-a-view-versus-a-copy\n"
     ]
    }
   ],
   "source": [
    "for model in nex_proj:\n",
    "    run_calc(model, hist=False, end=True)"
   ]
  },
  {
   "cell_type": "markdown",
   "metadata": {},
   "source": [
    "## CMIP"
   ]
  },
  {
   "cell_type": "code",
   "execution_count": 10,
   "metadata": {},
   "outputs": [],
   "source": [
    "cmip_all = [\"agvar_ACCESS1-0.historical+rcp85.csv\",\n",
    "\"agvar_BNU-ESM.historical+rcp85.csv\",\n",
    "\"agvar_CCSM4_historical+rcp85.csv\",\n",
    "\"agvar_CESM1-BGC.historical+rcp85.csv\",\n",
    "\"agvar_CNRM-CM5.historical+rcp85.csv\",\n",
    "\"agvar_CSIRO-Mk3-6-0.historical+rcp85.csv\",\n",
    "\"agvar_CanESM2.historical+rcp85.csv\",\n",
    "\"agvar_GFDL-CM3.historical+rcp85.csv\",\n",
    "\"agvar_GFDL-ESM2G.historical+rcp85.csv\",\n",
    "\"agvar_GFDL-ESM2M.historical+rcp85.csv\",\n",
    "\"agvar_IPSL-CM5A-LR.historical+rcp85.csv\",\n",
    "\"agvar_IPSL-CM5A-MR.historical+rcp85.csv\",\n",
    "\"agvar_MIROC-ESM-CHEM.historical+rcp85.csv\",\n",
    "\"agvar_MIROC-ESM.historical+rcp85.csv\",\n",
    "\"agvar_MIROC5.historical+rcp85.csv\",\n",
    "\"agvar_MPI-ESM-LR.historical+rcp85.csv\",\n",
    "\"agvar_MPI-ESM-MR.historical+rcp85.csv\",\n",
    "\"agvar_MRI-CGCM3.historical+rcp85.csv\",\n",
    "\"agvar_NorESM1-M.historical+rcp85.csv\",\n",
    "\"agvar_bcc-csm1-1_historical+rcp85.csv\",\n",
    "\"agvar_inmcm4.historical+rcp85.csv\"]"
   ]
  },
  {
   "cell_type": "code",
   "execution_count": 12,
   "metadata": {},
   "outputs": [],
   "source": [
    "# Run calculation\n",
    "def run_calc(name, hist=True, oos=False, mid=False, end=False):\n",
    "    # Read in data\n",
    "    data = pd.read_csv(\"./raw/CMIP/\" + name)\n",
    "    data[\"GEOID\"] = data[\"GEOID\"].astype(str).str.zfill(5)\n",
    "    data.set_index(['GEOID', 'Year'], inplace=True)\n",
    "    \n",
    "    # Select time period\n",
    "    if hist:\n",
    "        data = data.query('Year >= 1960 and Year <= 2005')\n",
    "    elif oos:\n",
    "        data = data.query('Year >= 2006 and Year <= 2016')\n",
    "    elif mid:\n",
    "        data = data.query('Year >= 2040 and Year <= 2059')\n",
    "    elif end:\n",
    "        data = data.query('Year >= 2080 and Year <= 2099')\n",
    "    \n",
    "    # Square precip\n",
    "    data['prcp2'] = data['prcp']**2\n",
    "    \n",
    "    # Subtract means\n",
    "    for agvar in data.columns:\n",
    "        data[agvar] = data[agvar] - data[agvar].mean(level = 'GEOID')\n",
    "\n",
    "    # Calculate yields\n",
    "    data = pd.merge(coeff, data.reset_index(), on = 'GEOID', how = 'outer')\n",
    "    data['yield'] = data['gdd']*data['GDDc'] + data['egdd']*data['KDDc'] + data['prcp']*data['Pc'] + data['prcp2']*data['P2c']\n",
    "    data = data.filter(['GEOID', 'Year', 'yield'])\n",
    "    \n",
    "    # Save\n",
    "    timeID = hist*'60-05' + oos*'06-16' + mid*'40-59' + end*'80-99'\n",
    "    data.to_csv(\"./final/CMIP/res_\" + timeID + '_yield_' + name[6:], index=False)"
   ]
  },
  {
   "cell_type": "code",
   "execution_count": 38,
   "metadata": {},
   "outputs": [
    {
     "name": "stderr",
     "output_type": "stream",
     "text": [
      "/Users/davidlafferty/anaconda3/lib/python3.7/site-packages/ipykernel_launcher.py:17: SettingWithCopyWarning: \n",
      "A value is trying to be set on a copy of a slice from a DataFrame.\n",
      "Try using .loc[row_indexer,col_indexer] = value instead\n",
      "\n",
      "See the caveats in the documentation: https://pandas.pydata.org/pandas-docs/stable/user_guide/indexing.html#returning-a-view-versus-a-copy\n",
      "/Users/davidlafferty/anaconda3/lib/python3.7/site-packages/ipykernel_launcher.py:21: SettingWithCopyWarning: \n",
      "A value is trying to be set on a copy of a slice from a DataFrame.\n",
      "Try using .loc[row_indexer,col_indexer] = value instead\n",
      "\n",
      "See the caveats in the documentation: https://pandas.pydata.org/pandas-docs/stable/user_guide/indexing.html#returning-a-view-versus-a-copy\n"
     ]
    }
   ],
   "source": [
    "for model in cmip_all:\n",
    "    run_calc(model)"
   ]
  },
  {
   "cell_type": "code",
   "execution_count": 39,
   "metadata": {},
   "outputs": [
    {
     "name": "stderr",
     "output_type": "stream",
     "text": [
      "/Users/davidlafferty/anaconda3/lib/python3.7/site-packages/ipykernel_launcher.py:17: SettingWithCopyWarning: \n",
      "A value is trying to be set on a copy of a slice from a DataFrame.\n",
      "Try using .loc[row_indexer,col_indexer] = value instead\n",
      "\n",
      "See the caveats in the documentation: https://pandas.pydata.org/pandas-docs/stable/user_guide/indexing.html#returning-a-view-versus-a-copy\n",
      "/Users/davidlafferty/anaconda3/lib/python3.7/site-packages/ipykernel_launcher.py:21: SettingWithCopyWarning: \n",
      "A value is trying to be set on a copy of a slice from a DataFrame.\n",
      "Try using .loc[row_indexer,col_indexer] = value instead\n",
      "\n",
      "See the caveats in the documentation: https://pandas.pydata.org/pandas-docs/stable/user_guide/indexing.html#returning-a-view-versus-a-copy\n"
     ]
    }
   ],
   "source": [
    "for model in cmip_all:\n",
    "    run_calc(model, hist=False, oos=True)"
   ]
  },
  {
   "cell_type": "code",
   "execution_count": 13,
   "metadata": {},
   "outputs": [
    {
     "name": "stderr",
     "output_type": "stream",
     "text": [
      "/Users/davidlafferty/anaconda3/lib/python3.7/site-packages/ipykernel_launcher.py:19: SettingWithCopyWarning: \n",
      "A value is trying to be set on a copy of a slice from a DataFrame.\n",
      "Try using .loc[row_indexer,col_indexer] = value instead\n",
      "\n",
      "See the caveats in the documentation: https://pandas.pydata.org/pandas-docs/stable/user_guide/indexing.html#returning-a-view-versus-a-copy\n",
      "/Users/davidlafferty/anaconda3/lib/python3.7/site-packages/ipykernel_launcher.py:23: SettingWithCopyWarning: \n",
      "A value is trying to be set on a copy of a slice from a DataFrame.\n",
      "Try using .loc[row_indexer,col_indexer] = value instead\n",
      "\n",
      "See the caveats in the documentation: https://pandas.pydata.org/pandas-docs/stable/user_guide/indexing.html#returning-a-view-versus-a-copy\n"
     ]
    }
   ],
   "source": [
    "for model in cmip_all:\n",
    "    run_calc(model, hist=False, mid=True)"
   ]
  },
  {
   "cell_type": "code",
   "execution_count": 14,
   "metadata": {},
   "outputs": [
    {
     "name": "stderr",
     "output_type": "stream",
     "text": [
      "/Users/davidlafferty/anaconda3/lib/python3.7/site-packages/ipykernel_launcher.py:19: SettingWithCopyWarning: \n",
      "A value is trying to be set on a copy of a slice from a DataFrame.\n",
      "Try using .loc[row_indexer,col_indexer] = value instead\n",
      "\n",
      "See the caveats in the documentation: https://pandas.pydata.org/pandas-docs/stable/user_guide/indexing.html#returning-a-view-versus-a-copy\n",
      "/Users/davidlafferty/anaconda3/lib/python3.7/site-packages/ipykernel_launcher.py:23: SettingWithCopyWarning: \n",
      "A value is trying to be set on a copy of a slice from a DataFrame.\n",
      "Try using .loc[row_indexer,col_indexer] = value instead\n",
      "\n",
      "See the caveats in the documentation: https://pandas.pydata.org/pandas-docs/stable/user_guide/indexing.html#returning-a-view-versus-a-copy\n"
     ]
    }
   ],
   "source": [
    "for model in cmip_all:\n",
    "    run_calc(model, hist=False, end=True)"
   ]
  },
  {
   "cell_type": "code",
   "execution_count": null,
   "metadata": {},
   "outputs": [],
   "source": []
  }
 ],
 "metadata": {
  "kernelspec": {
   "display_name": "Python 3",
   "language": "python",
   "name": "python3"
  },
  "language_info": {
   "codemirror_mode": {
    "name": "ipython",
    "version": 3
   },
   "file_extension": ".py",
   "mimetype": "text/x-python",
   "name": "python",
   "nbconvert_exporter": "python",
   "pygments_lexer": "ipython3",
   "version": "3.7.6"
  }
 },
 "nbformat": 4,
 "nbformat_minor": 4
}
