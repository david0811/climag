{
 "cells": [
  {
   "cell_type": "markdown",
   "metadata": {},
   "source": [
    "# Yield calculation"
   ]
  },
  {
   "cell_type": "code",
   "execution_count": 1,
   "metadata": {},
   "outputs": [],
   "source": [
    "import numpy as np\n",
    "import pandas as pd\n",
    "import matplotlib as mpl\n",
    "import matplotlib.pyplot as plt\n",
    "\n",
    "from sklearn.metrics import r2_score\n",
    "import sklearn.preprocessing as sklp\n",
    "\n",
    "%matplotlib inline\n",
    "plt.rcParams.update({'font.size': 20})\n",
    "mpl.style.use('fivethirtyeight')"
   ]
  },
  {
   "cell_type": "markdown",
   "metadata": {},
   "source": [
    "### Regression coefficients"
   ]
  },
  {
   "cell_type": "code",
   "execution_count": 2,
   "metadata": {},
   "outputs": [],
   "source": [
    "# Get coefficients\n",
    "coeff = pd.read_csv('../GMFD_all/fitting/gmfd_regression_res.csv')\n",
    "coeff['GEOID'] = coeff['GEOID'].astype(str).str.zfill(5)\n",
    "good_counties = coeff.query('pval < 0.05')['GEOID'].values"
   ]
  },
  {
   "cell_type": "code",
   "execution_count": 3,
   "metadata": {},
   "outputs": [
    {
     "data": {
      "text/html": [
       "<div>\n",
       "<style scoped>\n",
       "    .dataframe tbody tr th:only-of-type {\n",
       "        vertical-align: middle;\n",
       "    }\n",
       "\n",
       "    .dataframe tbody tr th {\n",
       "        vertical-align: top;\n",
       "    }\n",
       "\n",
       "    .dataframe thead th {\n",
       "        text-align: right;\n",
       "    }\n",
       "</style>\n",
       "<table border=\"1\" class=\"dataframe\">\n",
       "  <thead>\n",
       "    <tr style=\"text-align: right;\">\n",
       "      <th></th>\n",
       "      <th>GEOID</th>\n",
       "      <th>GDDc</th>\n",
       "      <th>KDDc</th>\n",
       "      <th>Pc</th>\n",
       "      <th>P2c</th>\n",
       "      <th>R2</th>\n",
       "      <th>pval</th>\n",
       "    </tr>\n",
       "  </thead>\n",
       "  <tbody>\n",
       "    <tr>\n",
       "      <th>0</th>\n",
       "      <td>01001</td>\n",
       "      <td>0.001623</td>\n",
       "      <td>-0.009725</td>\n",
       "      <td>0.639049</td>\n",
       "      <td>-0.258508</td>\n",
       "      <td>0.562547</td>\n",
       "      <td>0.002462</td>\n",
       "    </tr>\n",
       "    <tr>\n",
       "      <th>1</th>\n",
       "      <td>01003</td>\n",
       "      <td>0.000254</td>\n",
       "      <td>-0.001823</td>\n",
       "      <td>2.598658</td>\n",
       "      <td>-1.245404</td>\n",
       "      <td>0.275381</td>\n",
       "      <td>0.169544</td>\n",
       "    </tr>\n",
       "    <tr>\n",
       "      <th>2</th>\n",
       "      <td>01005</td>\n",
       "      <td>0.001093</td>\n",
       "      <td>-0.003584</td>\n",
       "      <td>8.343159</td>\n",
       "      <td>-4.688611</td>\n",
       "      <td>0.536579</td>\n",
       "      <td>0.004092</td>\n",
       "    </tr>\n",
       "    <tr>\n",
       "      <th>3</th>\n",
       "      <td>01007</td>\n",
       "      <td>0.001730</td>\n",
       "      <td>-0.007381</td>\n",
       "      <td>2.374254</td>\n",
       "      <td>-1.407275</td>\n",
       "      <td>0.338328</td>\n",
       "      <td>0.187030</td>\n",
       "    </tr>\n",
       "    <tr>\n",
       "      <th>4</th>\n",
       "      <td>01009</td>\n",
       "      <td>0.001380</td>\n",
       "      <td>-0.012930</td>\n",
       "      <td>0.000000</td>\n",
       "      <td>-0.801896</td>\n",
       "      <td>0.734649</td>\n",
       "      <td>0.000027</td>\n",
       "    </tr>\n",
       "  </tbody>\n",
       "</table>\n",
       "</div>"
      ],
      "text/plain": [
       "   GEOID      GDDc      KDDc        Pc       P2c        R2      pval\n",
       "0  01001  0.001623 -0.009725  0.639049 -0.258508  0.562547  0.002462\n",
       "1  01003  0.000254 -0.001823  2.598658 -1.245404  0.275381  0.169544\n",
       "2  01005  0.001093 -0.003584  8.343159 -4.688611  0.536579  0.004092\n",
       "3  01007  0.001730 -0.007381  2.374254 -1.407275  0.338328  0.187030\n",
       "4  01009  0.001380 -0.012930  0.000000 -0.801896  0.734649  0.000027"
      ]
     },
     "execution_count": 3,
     "metadata": {},
     "output_type": "execute_result"
    }
   ],
   "source": [
    "coeff.head()"
   ]
  },
  {
   "cell_type": "code",
   "execution_count": 3,
   "metadata": {},
   "outputs": [],
   "source": [
    "# Diffenbaugh et al\n",
    "GDDc = 0.000315512\n",
    "KDDc = -0.00643807\n",
    "Pc = 100*0.0102821\n",
    "P2c = 100*-0.000081514\n",
    "diffen = np.array([GDDc, KDDc, Pc, P2c])"
   ]
  },
  {
   "cell_type": "markdown",
   "metadata": {},
   "source": [
    "## GMFD"
   ]
  },
  {
   "cell_type": "code",
   "execution_count": 4,
   "metadata": {},
   "outputs": [],
   "source": [
    "# Import GMFD data\n",
    "gmfd = pd.read_csv('./raw/GMFD/agvar_historical_gmfd.csv')\n",
    "gmfd = gmfd.query('Year >= 2006 and Year <= 2016')\n",
    "gmfd.sort_values(by = ['GEOID', 'Year'], inplace = True)\n",
    "gmfd['GEOID'] = gmfd['GEOID'].astype(str).str.zfill(5)\n",
    "gmfd['prcp2'] = gmfd['prcp']**2\n",
    "gmfd.set_index(['GEOID', 'Year'], inplace = True)"
   ]
  },
  {
   "cell_type": "code",
   "execution_count": 6,
   "metadata": {},
   "outputs": [
    {
     "data": {
      "text/html": [
       "<div>\n",
       "<style scoped>\n",
       "    .dataframe tbody tr th:only-of-type {\n",
       "        vertical-align: middle;\n",
       "    }\n",
       "\n",
       "    .dataframe tbody tr th {\n",
       "        vertical-align: top;\n",
       "    }\n",
       "\n",
       "    .dataframe thead th {\n",
       "        text-align: right;\n",
       "    }\n",
       "</style>\n",
       "<table border=\"1\" class=\"dataframe\">\n",
       "  <thead>\n",
       "    <tr style=\"text-align: right;\">\n",
       "      <th></th>\n",
       "      <th></th>\n",
       "      <th>gdd</th>\n",
       "      <th>egdd</th>\n",
       "      <th>prcp</th>\n",
       "      <th>prcp2</th>\n",
       "    </tr>\n",
       "    <tr>\n",
       "      <th>GEOID</th>\n",
       "      <th>Year</th>\n",
       "      <th></th>\n",
       "      <th></th>\n",
       "      <th></th>\n",
       "      <th></th>\n",
       "    </tr>\n",
       "  </thead>\n",
       "  <tbody>\n",
       "    <tr>\n",
       "      <th rowspan=\"5\" valign=\"top\">56045</th>\n",
       "      <th>2012</th>\n",
       "      <td>1372.673426</td>\n",
       "      <td>88.569311</td>\n",
       "      <td>0.193706</td>\n",
       "      <td>0.037522</td>\n",
       "    </tr>\n",
       "    <tr>\n",
       "      <th>2013</th>\n",
       "      <td>1147.633804</td>\n",
       "      <td>35.723025</td>\n",
       "      <td>0.263893</td>\n",
       "      <td>0.069639</td>\n",
       "    </tr>\n",
       "    <tr>\n",
       "      <th>2014</th>\n",
       "      <td>1033.924564</td>\n",
       "      <td>20.958850</td>\n",
       "      <td>0.320162</td>\n",
       "      <td>0.102504</td>\n",
       "    </tr>\n",
       "    <tr>\n",
       "      <th>2015</th>\n",
       "      <td>1112.875620</td>\n",
       "      <td>27.772046</td>\n",
       "      <td>0.431104</td>\n",
       "      <td>0.185851</td>\n",
       "    </tr>\n",
       "    <tr>\n",
       "      <th>2016</th>\n",
       "      <td>1130.339505</td>\n",
       "      <td>42.146802</td>\n",
       "      <td>0.280968</td>\n",
       "      <td>0.078943</td>\n",
       "    </tr>\n",
       "  </tbody>\n",
       "</table>\n",
       "</div>"
      ],
      "text/plain": [
       "                    gdd       egdd      prcp     prcp2\n",
       "GEOID Year                                            \n",
       "56045 2012  1372.673426  88.569311  0.193706  0.037522\n",
       "      2013  1147.633804  35.723025  0.263893  0.069639\n",
       "      2014  1033.924564  20.958850  0.320162  0.102504\n",
       "      2015  1112.875620  27.772046  0.431104  0.185851\n",
       "      2016  1130.339505  42.146802  0.280968  0.078943"
      ]
     },
     "execution_count": 6,
     "metadata": {},
     "output_type": "execute_result"
    }
   ],
   "source": [
    "gmfd.tail()"
   ]
  },
  {
   "cell_type": "code",
   "execution_count": 7,
   "metadata": {},
   "outputs": [],
   "source": [
    "# Subtract means\n",
    "for agvar in gmfd.columns:\n",
    "    gmfd[agvar] = gmfd[agvar] - gmfd[agvar].mean(level = 'GEOID')"
   ]
  },
  {
   "cell_type": "code",
   "execution_count": 8,
   "metadata": {},
   "outputs": [
    {
     "data": {
      "text/html": [
       "<div>\n",
       "<style scoped>\n",
       "    .dataframe tbody tr th:only-of-type {\n",
       "        vertical-align: middle;\n",
       "    }\n",
       "\n",
       "    .dataframe tbody tr th {\n",
       "        vertical-align: top;\n",
       "    }\n",
       "\n",
       "    .dataframe thead th {\n",
       "        text-align: right;\n",
       "    }\n",
       "</style>\n",
       "<table border=\"1\" class=\"dataframe\">\n",
       "  <thead>\n",
       "    <tr style=\"text-align: right;\">\n",
       "      <th></th>\n",
       "      <th></th>\n",
       "      <th>gdd</th>\n",
       "      <th>egdd</th>\n",
       "      <th>prcp</th>\n",
       "      <th>prcp2</th>\n",
       "    </tr>\n",
       "    <tr>\n",
       "      <th>GEOID</th>\n",
       "      <th>Year</th>\n",
       "      <th></th>\n",
       "      <th></th>\n",
       "      <th></th>\n",
       "      <th></th>\n",
       "    </tr>\n",
       "  </thead>\n",
       "  <tbody>\n",
       "    <tr>\n",
       "      <th rowspan=\"5\" valign=\"top\">01001</th>\n",
       "      <th>2006</th>\n",
       "      <td>4.726345</td>\n",
       "      <td>26.566847</td>\n",
       "      <td>-0.214764</td>\n",
       "      <td>-0.283854</td>\n",
       "    </tr>\n",
       "    <tr>\n",
       "      <th>2007</th>\n",
       "      <td>8.849976</td>\n",
       "      <td>31.636496</td>\n",
       "      <td>-0.384405</td>\n",
       "      <td>-0.416301</td>\n",
       "    </tr>\n",
       "    <tr>\n",
       "      <th>2008</th>\n",
       "      <td>-91.122431</td>\n",
       "      <td>-20.499031</td>\n",
       "      <td>0.102285</td>\n",
       "      <td>0.117987</td>\n",
       "    </tr>\n",
       "    <tr>\n",
       "      <th>2009</th>\n",
       "      <td>-31.897592</td>\n",
       "      <td>-33.802521</td>\n",
       "      <td>0.224311</td>\n",
       "      <td>0.326226</td>\n",
       "    </tr>\n",
       "    <tr>\n",
       "      <th>2010</th>\n",
       "      <td>6.120089</td>\n",
       "      <td>36.589416</td>\n",
       "      <td>-0.062858</td>\n",
       "      <td>-0.116409</td>\n",
       "    </tr>\n",
       "  </tbody>\n",
       "</table>\n",
       "</div>"
      ],
      "text/plain": [
       "                  gdd       egdd      prcp     prcp2\n",
       "GEOID Year                                          \n",
       "01001 2006   4.726345  26.566847 -0.214764 -0.283854\n",
       "      2007   8.849976  31.636496 -0.384405 -0.416301\n",
       "      2008 -91.122431 -20.499031  0.102285  0.117987\n",
       "      2009 -31.897592 -33.802521  0.224311  0.326226\n",
       "      2010   6.120089  36.589416 -0.062858 -0.116409"
      ]
     },
     "execution_count": 8,
     "metadata": {},
     "output_type": "execute_result"
    }
   ],
   "source": [
    "gmfd.head()"
   ]
  },
  {
   "cell_type": "code",
   "execution_count": 9,
   "metadata": {},
   "outputs": [],
   "source": [
    "# Calculate Yields\n",
    "gmfd = pd.merge(coeff, gmfd.reset_index(), on = ['GEOID'], how = 'outer')\n",
    "gmfd.set_index(['GEOID', 'Year'], inplace = True)\n",
    "gmfd['GMFD'] = gmfd['gdd']*gmfd['GDDc'] + gmfd['egdd']*gmfd['KDDc'] + gmfd['prcp']*gmfd['Pc'] + gmfd['prcp2']*gmfd['P2c']\n",
    "gmfd = gmfd.filter(['GEOID', 'Year', 'GMFD'])"
   ]
  },
  {
   "cell_type": "code",
   "execution_count": 10,
   "metadata": {},
   "outputs": [
    {
     "data": {
      "text/html": [
       "<div>\n",
       "<style scoped>\n",
       "    .dataframe tbody tr th:only-of-type {\n",
       "        vertical-align: middle;\n",
       "    }\n",
       "\n",
       "    .dataframe tbody tr th {\n",
       "        vertical-align: top;\n",
       "    }\n",
       "\n",
       "    .dataframe thead th {\n",
       "        text-align: right;\n",
       "    }\n",
       "</style>\n",
       "<table border=\"1\" class=\"dataframe\">\n",
       "  <thead>\n",
       "    <tr style=\"text-align: right;\">\n",
       "      <th></th>\n",
       "      <th></th>\n",
       "      <th>GMFD</th>\n",
       "    </tr>\n",
       "    <tr>\n",
       "      <th>GEOID</th>\n",
       "      <th>Year</th>\n",
       "      <th></th>\n",
       "    </tr>\n",
       "  </thead>\n",
       "  <tbody>\n",
       "    <tr>\n",
       "      <th rowspan=\"5\" valign=\"top\">01001</th>\n",
       "      <th>2006</th>\n",
       "      <td>-0.314571</td>\n",
       "    </tr>\n",
       "    <tr>\n",
       "      <th>2007</th>\n",
       "      <td>-0.431354</td>\n",
       "    </tr>\n",
       "    <tr>\n",
       "      <th>2008</th>\n",
       "      <td>0.086355</td>\n",
       "    </tr>\n",
       "    <tr>\n",
       "      <th>2009</th>\n",
       "      <td>0.335996</td>\n",
       "    </tr>\n",
       "    <tr>\n",
       "      <th>2010</th>\n",
       "      <td>-0.355994</td>\n",
       "    </tr>\n",
       "  </tbody>\n",
       "</table>\n",
       "</div>"
      ],
      "text/plain": [
       "                GMFD\n",
       "GEOID Year          \n",
       "01001 2006 -0.314571\n",
       "      2007 -0.431354\n",
       "      2008  0.086355\n",
       "      2009  0.335996\n",
       "      2010 -0.355994"
      ]
     },
     "execution_count": 10,
     "metadata": {},
     "output_type": "execute_result"
    }
   ],
   "source": [
    "gmfd.head()"
   ]
  },
  {
   "cell_type": "code",
   "execution_count": 11,
   "metadata": {},
   "outputs": [
    {
     "data": {
      "text/html": [
       "<div>\n",
       "<style scoped>\n",
       "    .dataframe tbody tr th:only-of-type {\n",
       "        vertical-align: middle;\n",
       "    }\n",
       "\n",
       "    .dataframe tbody tr th {\n",
       "        vertical-align: top;\n",
       "    }\n",
       "\n",
       "    .dataframe thead th {\n",
       "        text-align: right;\n",
       "    }\n",
       "</style>\n",
       "<table border=\"1\" class=\"dataframe\">\n",
       "  <thead>\n",
       "    <tr style=\"text-align: right;\">\n",
       "      <th></th>\n",
       "      <th>GMFD</th>\n",
       "    </tr>\n",
       "    <tr>\n",
       "      <th>GEOID</th>\n",
       "      <th></th>\n",
       "    </tr>\n",
       "  </thead>\n",
       "  <tbody>\n",
       "    <tr>\n",
       "      <th>01001</th>\n",
       "      <td>7.065056e-17</td>\n",
       "    </tr>\n",
       "    <tr>\n",
       "      <th>01003</th>\n",
       "      <td>-2.119517e-16</td>\n",
       "    </tr>\n",
       "    <tr>\n",
       "      <th>01005</th>\n",
       "      <td>-4.339963e-16</td>\n",
       "    </tr>\n",
       "    <tr>\n",
       "      <th>01007</th>\n",
       "      <td>6.964126e-16</td>\n",
       "    </tr>\n",
       "    <tr>\n",
       "      <th>01009</th>\n",
       "      <td>-5.752974e-16</td>\n",
       "    </tr>\n",
       "    <tr>\n",
       "      <th>...</th>\n",
       "      <td>...</td>\n",
       "    </tr>\n",
       "    <tr>\n",
       "      <th>56035</th>\n",
       "      <td>NaN</td>\n",
       "    </tr>\n",
       "    <tr>\n",
       "      <th>56037</th>\n",
       "      <td>NaN</td>\n",
       "    </tr>\n",
       "    <tr>\n",
       "      <th>56039</th>\n",
       "      <td>NaN</td>\n",
       "    </tr>\n",
       "    <tr>\n",
       "      <th>56041</th>\n",
       "      <td>NaN</td>\n",
       "    </tr>\n",
       "    <tr>\n",
       "      <th>56045</th>\n",
       "      <td>NaN</td>\n",
       "    </tr>\n",
       "  </tbody>\n",
       "</table>\n",
       "<p>3108 rows × 1 columns</p>\n",
       "</div>"
      ],
      "text/plain": [
       "               GMFD\n",
       "GEOID              \n",
       "01001  7.065056e-17\n",
       "01003 -2.119517e-16\n",
       "01005 -4.339963e-16\n",
       "01007  6.964126e-16\n",
       "01009 -5.752974e-16\n",
       "...             ...\n",
       "56035           NaN\n",
       "56037           NaN\n",
       "56039           NaN\n",
       "56041           NaN\n",
       "56045           NaN\n",
       "\n",
       "[3108 rows x 1 columns]"
      ]
     },
     "execution_count": 11,
     "metadata": {},
     "output_type": "execute_result"
    }
   ],
   "source": [
    "gmfd.mean(level = 'GEOID')"
   ]
  },
  {
   "cell_type": "code",
   "execution_count": 12,
   "metadata": {},
   "outputs": [],
   "source": [
    "# Save\n",
    "gmfd.to_csv('./final/GMFD/res_yield_06-16_gmfd.csv')"
   ]
  },
  {
   "cell_type": "markdown",
   "metadata": {},
   "source": [
    "## Check against USDA"
   ]
  },
  {
   "cell_type": "code",
   "execution_count": 15,
   "metadata": {},
   "outputs": [],
   "source": [
    "# USDA\n",
    "usda = pd.read_csv('../USDA/final/USDA_county_yields_w_county_quad_trends.csv')\n",
    "usda = usda.query(\"year >= 1980 and year <= 2005\")\n",
    "usda[\"GEOID\"] = usda[\"state_fips_code\"].astype(str).str.zfill(2) + usda[\"county_code\"].astype(str).str.zfill(3)\n",
    "usda.sort_values(by = ['GEOID', 'year'], inplace = True)\n",
    "usda.set_index(['GEOID', 'year'], inplace = True)"
   ]
  },
  {
   "cell_type": "code",
   "execution_count": 16,
   "metadata": {},
   "outputs": [
    {
     "data": {
      "text/html": [
       "<div>\n",
       "<style scoped>\n",
       "    .dataframe tbody tr th:only-of-type {\n",
       "        vertical-align: middle;\n",
       "    }\n",
       "\n",
       "    .dataframe tbody tr th {\n",
       "        vertical-align: top;\n",
       "    }\n",
       "\n",
       "    .dataframe thead th {\n",
       "        text-align: right;\n",
       "    }\n",
       "</style>\n",
       "<table border=\"1\" class=\"dataframe\">\n",
       "  <thead>\n",
       "    <tr style=\"text-align: right;\">\n",
       "      <th></th>\n",
       "      <th></th>\n",
       "      <th>state_fips_code</th>\n",
       "      <th>county_code</th>\n",
       "      <th>asd_code</th>\n",
       "      <th>Value</th>\n",
       "      <th>area</th>\n",
       "      <th>log_Value</th>\n",
       "      <th>lowess_log_Value</th>\n",
       "      <th>quad_fit</th>\n",
       "      <th>quad_fit_nolog</th>\n",
       "      <th>target_Value</th>\n",
       "      <th>target_ValueQ</th>\n",
       "      <th>target_ValueQnl</th>\n",
       "    </tr>\n",
       "    <tr>\n",
       "      <th>GEOID</th>\n",
       "      <th>year</th>\n",
       "      <th></th>\n",
       "      <th></th>\n",
       "      <th></th>\n",
       "      <th></th>\n",
       "      <th></th>\n",
       "      <th></th>\n",
       "      <th></th>\n",
       "      <th></th>\n",
       "      <th></th>\n",
       "      <th></th>\n",
       "      <th></th>\n",
       "      <th></th>\n",
       "    </tr>\n",
       "  </thead>\n",
       "  <tbody>\n",
       "    <tr>\n",
       "      <th rowspan=\"5\" valign=\"top\">01001</th>\n",
       "      <th>1980</th>\n",
       "      <td>1</td>\n",
       "      <td>1</td>\n",
       "      <td>40</td>\n",
       "      <td>20.8</td>\n",
       "      <td>6600.0</td>\n",
       "      <td>3.034953</td>\n",
       "      <td>3.800601</td>\n",
       "      <td>3.651959</td>\n",
       "      <td>37.136564</td>\n",
       "      <td>-0.765648</td>\n",
       "      <td>-0.617006</td>\n",
       "      <td>-16.336564</td>\n",
       "    </tr>\n",
       "    <tr>\n",
       "      <th>1981</th>\n",
       "      <td>1</td>\n",
       "      <td>1</td>\n",
       "      <td>40</td>\n",
       "      <td>17.3</td>\n",
       "      <td>5200.0</td>\n",
       "      <td>2.850707</td>\n",
       "      <td>3.818817</td>\n",
       "      <td>3.678058</td>\n",
       "      <td>38.396191</td>\n",
       "      <td>-0.968111</td>\n",
       "      <td>-0.827351</td>\n",
       "      <td>-21.096191</td>\n",
       "    </tr>\n",
       "    <tr>\n",
       "      <th>1982</th>\n",
       "      <td>1</td>\n",
       "      <td>1</td>\n",
       "      <td>40</td>\n",
       "      <td>59.1</td>\n",
       "      <td>2200.0</td>\n",
       "      <td>4.079231</td>\n",
       "      <td>3.836323</td>\n",
       "      <td>3.704416</td>\n",
       "      <td>39.722142</td>\n",
       "      <td>0.242908</td>\n",
       "      <td>0.374815</td>\n",
       "      <td>19.377858</td>\n",
       "    </tr>\n",
       "    <tr>\n",
       "      <th>1983</th>\n",
       "      <td>1</td>\n",
       "      <td>1</td>\n",
       "      <td>40</td>\n",
       "      <td>38.0</td>\n",
       "      <td>2000.0</td>\n",
       "      <td>3.637586</td>\n",
       "      <td>3.852585</td>\n",
       "      <td>3.731035</td>\n",
       "      <td>41.114419</td>\n",
       "      <td>-0.214999</td>\n",
       "      <td>-0.093449</td>\n",
       "      <td>-3.114419</td>\n",
       "    </tr>\n",
       "    <tr>\n",
       "      <th>1984</th>\n",
       "      <td>1</td>\n",
       "      <td>1</td>\n",
       "      <td>40</td>\n",
       "      <td>41.2</td>\n",
       "      <td>2500.0</td>\n",
       "      <td>3.718438</td>\n",
       "      <td>3.867498</td>\n",
       "      <td>3.757913</td>\n",
       "      <td>42.573021</td>\n",
       "      <td>-0.149060</td>\n",
       "      <td>-0.039475</td>\n",
       "      <td>-1.373021</td>\n",
       "    </tr>\n",
       "  </tbody>\n",
       "</table>\n",
       "</div>"
      ],
      "text/plain": [
       "            state_fips_code  county_code  asd_code  Value    area  log_Value  \\\n",
       "GEOID year                                                                     \n",
       "01001 1980                1            1        40   20.8  6600.0   3.034953   \n",
       "      1981                1            1        40   17.3  5200.0   2.850707   \n",
       "      1982                1            1        40   59.1  2200.0   4.079231   \n",
       "      1983                1            1        40   38.0  2000.0   3.637586   \n",
       "      1984                1            1        40   41.2  2500.0   3.718438   \n",
       "\n",
       "            lowess_log_Value  quad_fit  quad_fit_nolog  target_Value  \\\n",
       "GEOID year                                                             \n",
       "01001 1980          3.800601  3.651959       37.136564     -0.765648   \n",
       "      1981          3.818817  3.678058       38.396191     -0.968111   \n",
       "      1982          3.836323  3.704416       39.722142      0.242908   \n",
       "      1983          3.852585  3.731035       41.114419     -0.214999   \n",
       "      1984          3.867498  3.757913       42.573021     -0.149060   \n",
       "\n",
       "            target_ValueQ  target_ValueQnl  \n",
       "GEOID year                                  \n",
       "01001 1980      -0.617006       -16.336564  \n",
       "      1981      -0.827351       -21.096191  \n",
       "      1982       0.374815        19.377858  \n",
       "      1983      -0.093449        -3.114419  \n",
       "      1984      -0.039475        -1.373021  "
      ]
     },
     "execution_count": 16,
     "metadata": {},
     "output_type": "execute_result"
    }
   ],
   "source": [
    "usda.head()"
   ]
  },
  {
   "cell_type": "code",
   "execution_count": 17,
   "metadata": {},
   "outputs": [],
   "source": [
    "# Subtract means\n",
    "usda['target_ValueQ'] = usda['target_ValueQ'] - usda['target_ValueQ'].mean(level = 'GEOID')"
   ]
  },
  {
   "cell_type": "code",
   "execution_count": 18,
   "metadata": {},
   "outputs": [],
   "source": [
    "# Merge\n",
    "data = pd.merge(gmfd.reset_index(), usda.filter(['target_ValueQ', 'log_Value']).reset_index(), left_on = ['GEOID', 'Year'], right_on = ['GEOID', 'year'], how = 'inner').drop(columns = ['year'])\n",
    "data.set_index(['GEOID', 'Year'], inplace = True)"
   ]
  },
  {
   "cell_type": "code",
   "execution_count": 19,
   "metadata": {},
   "outputs": [
    {
     "data": {
      "text/html": [
       "<div>\n",
       "<style scoped>\n",
       "    .dataframe tbody tr th:only-of-type {\n",
       "        vertical-align: middle;\n",
       "    }\n",
       "\n",
       "    .dataframe tbody tr th {\n",
       "        vertical-align: top;\n",
       "    }\n",
       "\n",
       "    .dataframe thead th {\n",
       "        text-align: right;\n",
       "    }\n",
       "</style>\n",
       "<table border=\"1\" class=\"dataframe\">\n",
       "  <thead>\n",
       "    <tr style=\"text-align: right;\">\n",
       "      <th></th>\n",
       "      <th></th>\n",
       "      <th>GMFD</th>\n",
       "      <th>target_ValueQ</th>\n",
       "      <th>log_Value</th>\n",
       "    </tr>\n",
       "    <tr>\n",
       "      <th>GEOID</th>\n",
       "      <th>Year</th>\n",
       "      <th></th>\n",
       "      <th></th>\n",
       "      <th></th>\n",
       "    </tr>\n",
       "  </thead>\n",
       "  <tbody>\n",
       "    <tr>\n",
       "      <th rowspan=\"5\" valign=\"top\">01001</th>\n",
       "      <th>1980</th>\n",
       "      <td>-0.447267</td>\n",
       "      <td>-0.522743</td>\n",
       "      <td>3.034953</td>\n",
       "    </tr>\n",
       "    <tr>\n",
       "      <th>1981</th>\n",
       "      <td>-0.325558</td>\n",
       "      <td>-0.733088</td>\n",
       "      <td>2.850707</td>\n",
       "    </tr>\n",
       "    <tr>\n",
       "      <th>1982</th>\n",
       "      <td>0.138165</td>\n",
       "      <td>0.469077</td>\n",
       "      <td>4.079231</td>\n",
       "    </tr>\n",
       "    <tr>\n",
       "      <th>1983</th>\n",
       "      <td>-0.264391</td>\n",
       "      <td>0.000814</td>\n",
       "      <td>3.637586</td>\n",
       "    </tr>\n",
       "    <tr>\n",
       "      <th>1984</th>\n",
       "      <td>0.085115</td>\n",
       "      <td>0.054788</td>\n",
       "      <td>3.718438</td>\n",
       "    </tr>\n",
       "  </tbody>\n",
       "</table>\n",
       "</div>"
      ],
      "text/plain": [
       "                GMFD  target_ValueQ  log_Value\n",
       "GEOID Year                                    \n",
       "01001 1980 -0.447267      -0.522743   3.034953\n",
       "      1981 -0.325558      -0.733088   2.850707\n",
       "      1982  0.138165       0.469077   4.079231\n",
       "      1983 -0.264391       0.000814   3.637586\n",
       "      1984  0.085115       0.054788   3.718438"
      ]
     },
     "execution_count": 19,
     "metadata": {},
     "output_type": "execute_result"
    }
   ],
   "source": [
    "data.head()"
   ]
  },
  {
   "cell_type": "code",
   "execution_count": 20,
   "metadata": {},
   "outputs": [
    {
     "data": {
      "image/png": "[encoded data removed]",
      "text/plain": [
       "<Figure size 864x432 with 1 Axes>"
      ]
     },
     "metadata": {},
     "output_type": "display_data"
    }
   ],
   "source": [
    "# Plot all counties\n",
    "fig, ax = plt.subplots(1,1, figsize = (12,6))\n",
    "data['GMFD'].plot(kind = 'density', xlim = [-1,1], ax = ax, label = 'GMFD')\n",
    "data['target_ValueQ'].plot(kind = 'density', xlim = [-1,1], ax = ax, label = 'USDA')\n",
    "ax.set_xlabel('Yield')\n",
    "ax.set_title('All counties (1980-2005)')\n",
    "plt.legend()\n",
    "plt.tight_layout()\n",
    "plt.show()"
   ]
  },
  {
   "cell_type": "code",
   "execution_count": 21,
   "metadata": {},
   "outputs": [
    {
     "data": {
      "image/png": "[encoded data removed]",
      "text/plain": [
       "<Figure size 864x432 with 1 Axes>"
      ]
     },
     "metadata": {},
     "output_type": "display_data"
    }
   ],
   "source": [
    "# Plot select counties\n",
    "fig, ax = plt.subplots(1,1, figsize = (12,6))\n",
    "data.loc[good_counties]['GMFD'].plot(kind = 'kde', xlim = [-1,1], ax = ax)\n",
    "data.loc[good_counties]['target_ValueQ'].plot(kind = 'kde', xlim = [-1,1], ax = ax, label = 'USDA')\n",
    "ax.set_xlabel('Log(Yield) anomaly')\n",
    "ax.set_title('Counties with $p < 0.05$ (1980-2005)')\n",
    "plt.legend()\n",
    "plt.tight_layout()\n",
    "plt.show()"
   ]
  },
  {
   "cell_type": "code",
   "execution_count": 22,
   "metadata": {},
   "outputs": [],
   "source": [
    "# USDA weights\n",
    "usda_weights = pd.read_csv(\"../../analysis/national/weights/usda_county_to_national_weights.csv\")\n",
    "usda_weights[\"GEOID\"] = usda_weights[\"GEOID\"].astype(str).str.zfill(5)"
   ]
  },
  {
   "cell_type": "code",
   "execution_count": 23,
   "metadata": {},
   "outputs": [
    {
     "data": {
      "text/html": [
       "<div>\n",
       "<style scoped>\n",
       "    .dataframe tbody tr th:only-of-type {\n",
       "        vertical-align: middle;\n",
       "    }\n",
       "\n",
       "    .dataframe tbody tr th {\n",
       "        vertical-align: top;\n",
       "    }\n",
       "\n",
       "    .dataframe thead th {\n",
       "        text-align: right;\n",
       "    }\n",
       "</style>\n",
       "<table border=\"1\" class=\"dataframe\">\n",
       "  <thead>\n",
       "    <tr style=\"text-align: right;\">\n",
       "      <th></th>\n",
       "      <th>GEOID</th>\n",
       "      <th>year</th>\n",
       "      <th>Value</th>\n",
       "      <th>area</th>\n",
       "      <th>national_weight</th>\n",
       "    </tr>\n",
       "  </thead>\n",
       "  <tbody>\n",
       "    <tr>\n",
       "      <th>0</th>\n",
       "      <td>01001</td>\n",
       "      <td>1950</td>\n",
       "      <td>17.0</td>\n",
       "      <td>29600.0</td>\n",
       "      <td>0.000211</td>\n",
       "    </tr>\n",
       "    <tr>\n",
       "      <th>1</th>\n",
       "      <td>01011</td>\n",
       "      <td>1950</td>\n",
       "      <td>11.0</td>\n",
       "      <td>24200.0</td>\n",
       "      <td>0.000111</td>\n",
       "    </tr>\n",
       "    <tr>\n",
       "      <th>2</th>\n",
       "      <td>01047</td>\n",
       "      <td>1950</td>\n",
       "      <td>13.0</td>\n",
       "      <td>44200.0</td>\n",
       "      <td>0.000241</td>\n",
       "    </tr>\n",
       "    <tr>\n",
       "      <th>3</th>\n",
       "      <td>01051</td>\n",
       "      <td>1950</td>\n",
       "      <td>23.0</td>\n",
       "      <td>38900.0</td>\n",
       "      <td>0.000375</td>\n",
       "    </tr>\n",
       "    <tr>\n",
       "      <th>4</th>\n",
       "      <td>01063</td>\n",
       "      <td>1950</td>\n",
       "      <td>16.0</td>\n",
       "      <td>23900.0</td>\n",
       "      <td>0.000160</td>\n",
       "    </tr>\n",
       "  </tbody>\n",
       "</table>\n",
       "</div>"
      ],
      "text/plain": [
       "   GEOID  year  Value     area  national_weight\n",
       "0  01001  1950   17.0  29600.0         0.000211\n",
       "1  01011  1950   11.0  24200.0         0.000111\n",
       "2  01047  1950   13.0  44200.0         0.000241\n",
       "3  01051  1950   23.0  38900.0         0.000375\n",
       "4  01063  1950   16.0  23900.0         0.000160"
      ]
     },
     "execution_count": 23,
     "metadata": {},
     "output_type": "execute_result"
    }
   ],
   "source": [
    "usda_weights.head()"
   ]
  },
  {
   "cell_type": "code",
   "execution_count": 195,
   "metadata": {},
   "outputs": [],
   "source": [
    "# Merge\n",
    "gmfd_weighted = pd.merge(gmfd.reset_index(), usda.reset_index().filter(['GEOID', 'year', 'target_ValueQ', 'quad_fit', 'log_Value']), left_on = ['GEOID', 'Year'], right_on = ['GEOID', 'year'])\n",
    "gmfd_weighted = pd.merge(gmfd_weighted, usda_weights.filter(['GEOID', 'year', 'national_weight']), left_on = ['GEOID', 'Year'], right_on = ['GEOID', 'year']).drop(columns = ['year_x', 'year_y'])"
   ]
  },
  {
   "cell_type": "code",
   "execution_count": 196,
   "metadata": {},
   "outputs": [
    {
     "data": {
      "text/html": [
       "<div>\n",
       "<style scoped>\n",
       "    .dataframe tbody tr th:only-of-type {\n",
       "        vertical-align: middle;\n",
       "    }\n",
       "\n",
       "    .dataframe tbody tr th {\n",
       "        vertical-align: top;\n",
       "    }\n",
       "\n",
       "    .dataframe thead th {\n",
       "        text-align: right;\n",
       "    }\n",
       "</style>\n",
       "<table border=\"1\" class=\"dataframe\">\n",
       "  <thead>\n",
       "    <tr style=\"text-align: right;\">\n",
       "      <th></th>\n",
       "      <th>GEOID</th>\n",
       "      <th>Year</th>\n",
       "      <th>GMFD</th>\n",
       "      <th>target_ValueQ</th>\n",
       "      <th>quad_fit</th>\n",
       "      <th>log_Value</th>\n",
       "      <th>national_weight</th>\n",
       "    </tr>\n",
       "  </thead>\n",
       "  <tbody>\n",
       "    <tr>\n",
       "      <th>0</th>\n",
       "      <td>01001</td>\n",
       "      <td>1980</td>\n",
       "      <td>-0.447267</td>\n",
       "      <td>-0.522743</td>\n",
       "      <td>3.651959</td>\n",
       "      <td>3.034953</td>\n",
       "      <td>2.069056e-05</td>\n",
       "    </tr>\n",
       "    <tr>\n",
       "      <th>1</th>\n",
       "      <td>01001</td>\n",
       "      <td>1981</td>\n",
       "      <td>-0.325558</td>\n",
       "      <td>-0.733088</td>\n",
       "      <td>3.678058</td>\n",
       "      <td>2.850707</td>\n",
       "      <td>1.107470e-05</td>\n",
       "    </tr>\n",
       "    <tr>\n",
       "      <th>2</th>\n",
       "      <td>01001</td>\n",
       "      <td>1982</td>\n",
       "      <td>0.138165</td>\n",
       "      <td>0.469077</td>\n",
       "      <td>3.704416</td>\n",
       "      <td>4.079231</td>\n",
       "      <td>1.578004e-05</td>\n",
       "    </tr>\n",
       "    <tr>\n",
       "      <th>3</th>\n",
       "      <td>01001</td>\n",
       "      <td>1983</td>\n",
       "      <td>-0.264391</td>\n",
       "      <td>0.000814</td>\n",
       "      <td>3.731035</td>\n",
       "      <td>3.637586</td>\n",
       "      <td>1.818944e-05</td>\n",
       "    </tr>\n",
       "    <tr>\n",
       "      <th>4</th>\n",
       "      <td>01001</td>\n",
       "      <td>1984</td>\n",
       "      <td>0.085115</td>\n",
       "      <td>0.054788</td>\n",
       "      <td>3.757913</td>\n",
       "      <td>3.718438</td>\n",
       "      <td>1.342134e-05</td>\n",
       "    </tr>\n",
       "    <tr>\n",
       "      <th>...</th>\n",
       "      <td>...</td>\n",
       "      <td>...</td>\n",
       "      <td>...</td>\n",
       "      <td>...</td>\n",
       "      <td>...</td>\n",
       "      <td>...</td>\n",
       "      <td>...</td>\n",
       "    </tr>\n",
       "    <tr>\n",
       "      <th>71225</th>\n",
       "      <td>56045</td>\n",
       "      <td>1986</td>\n",
       "      <td>NaN</td>\n",
       "      <td>0.383956</td>\n",
       "      <td>4.158199</td>\n",
       "      <td>4.553877</td>\n",
       "      <td>1.153417e-06</td>\n",
       "    </tr>\n",
       "    <tr>\n",
       "      <th>71226</th>\n",
       "      <td>56045</td>\n",
       "      <td>1995</td>\n",
       "      <td>NaN</td>\n",
       "      <td>0.328844</td>\n",
       "      <td>4.586688</td>\n",
       "      <td>4.927254</td>\n",
       "      <td>7.340149e-07</td>\n",
       "    </tr>\n",
       "    <tr>\n",
       "      <th>71227</th>\n",
       "      <td>56045</td>\n",
       "      <td>1996</td>\n",
       "      <td>NaN</td>\n",
       "      <td>-0.398752</td>\n",
       "      <td>4.635526</td>\n",
       "      <td>4.248495</td>\n",
       "      <td>1.495976e-07</td>\n",
       "    </tr>\n",
       "    <tr>\n",
       "      <th>71228</th>\n",
       "      <td>56045</td>\n",
       "      <td>1997</td>\n",
       "      <td>NaN</td>\n",
       "      <td>0.334107</td>\n",
       "      <td>4.684609</td>\n",
       "      <td>5.030438</td>\n",
       "      <td>1.971302e-06</td>\n",
       "    </tr>\n",
       "    <tr>\n",
       "      <th>71229</th>\n",
       "      <td>56045</td>\n",
       "      <td>1998</td>\n",
       "      <td>NaN</td>\n",
       "      <td>-0.363634</td>\n",
       "      <td>4.733939</td>\n",
       "      <td>4.382027</td>\n",
       "      <td>6.504862e-07</td>\n",
       "    </tr>\n",
       "  </tbody>\n",
       "</table>\n",
       "<p>71230 rows × 7 columns</p>\n",
       "</div>"
      ],
      "text/plain": [
       "       GEOID  Year      GMFD  target_ValueQ  quad_fit  log_Value  \\\n",
       "0      01001  1980 -0.447267      -0.522743  3.651959   3.034953   \n",
       "1      01001  1981 -0.325558      -0.733088  3.678058   2.850707   \n",
       "2      01001  1982  0.138165       0.469077  3.704416   4.079231   \n",
       "3      01001  1983 -0.264391       0.000814  3.731035   3.637586   \n",
       "4      01001  1984  0.085115       0.054788  3.757913   3.718438   \n",
       "...      ...   ...       ...            ...       ...        ...   \n",
       "71225  56045  1986       NaN       0.383956  4.158199   4.553877   \n",
       "71226  56045  1995       NaN       0.328844  4.586688   4.927254   \n",
       "71227  56045  1996       NaN      -0.398752  4.635526   4.248495   \n",
       "71228  56045  1997       NaN       0.334107  4.684609   5.030438   \n",
       "71229  56045  1998       NaN      -0.363634  4.733939   4.382027   \n",
       "\n",
       "       national_weight  \n",
       "0         2.069056e-05  \n",
       "1         1.107470e-05  \n",
       "2         1.578004e-05  \n",
       "3         1.818944e-05  \n",
       "4         1.342134e-05  \n",
       "...                ...  \n",
       "71225     1.153417e-06  \n",
       "71226     7.340149e-07  \n",
       "71227     1.495976e-07  \n",
       "71228     1.971302e-06  \n",
       "71229     6.504862e-07  \n",
       "\n",
       "[71230 rows x 7 columns]"
      ]
     },
     "execution_count": 196,
     "metadata": {},
     "output_type": "execute_result"
    }
   ],
   "source": [
    "gmfd_weighted"
   ]
  },
  {
   "cell_type": "code",
   "execution_count": 197,
   "metadata": {},
   "outputs": [],
   "source": [
    "# Sum\n",
    "gmfd_weighted.rename(columns = {'GMFD_x' : 'GMFD'}, inplace=True)\n",
    "gmfd_weighted['GMFD'] = gmfd_weighted['GMFD'] * gmfd_weighted['national_weight']\n",
    "gmfd_weighted['target_ValueQ'] = gmfd_weighted['target_ValueQ'] * gmfd_weighted['national_weight']\n",
    "gmfd_weighted['quad_fit'] = gmfd_weighted['quad_fit'] * gmfd_weighted['national_weight']\n",
    "gmfd_weighted['log_Value'] = gmfd_weighted['log_Value'] * gmfd_weighted['national_weight']\n",
    "gmfd_weighted = gmfd_weighted.groupby('Year').sum()"
   ]
  },
  {
   "cell_type": "code",
   "execution_count": 198,
   "metadata": {},
   "outputs": [
    {
     "data": {
      "image/png": "[encoded data removed]",
      "text/plain": [
       "<Figure size 864x432 with 1 Axes>"
      ]
     },
     "metadata": {},
     "output_type": "display_data"
    }
   ],
   "source": [
    "# Plot national\n",
    "fig, ax = plt.subplots(1,1, figsize = (12,6))\n",
    "gmfd_weighted['GMFD'].plot(ax = ax)\n",
    "gmfd_weighted['target_ValueQ'].plot(ax = ax, label = 'USDA')\n",
    "ax.set_ylabel('Log(Yield) anomaly')\n",
    "plt.legend()\n",
    "plt.show()"
   ]
  },
  {
   "cell_type": "code",
   "execution_count": 199,
   "metadata": {},
   "outputs": [
    {
     "data": {
      "image/png": "[encoded data removed]",
      "text/plain": [
       "<Figure size 864x432 with 1 Axes>"
      ]
     },
     "metadata": {},
     "output_type": "display_data"
    }
   ],
   "source": [
    "# Plot\n",
    "fig, ax = plt.subplots(1,1, figsize = (12,6))\n",
    "gmfd_weighted['quad_fit'].plot(ax = ax, color = 'gray', alpha = 0.6)\n",
    "ax.plot(gmfd_weighted.index, gmfd_weighted['quad_fit'] + gmfd_weighted['GMFD'], label = 'GMFD + quad_fit')\n",
    "gmfd_weighted['log_Value'].plot(ax = ax, label = 'USDA', color = 'C1')\n",
    "ax.set_ylabel('Log(Yield)')\n",
    "ax.set_title('National')\n",
    "plt.legend()\n",
    "plt.tight_layout()\n",
    "plt.show()"
   ]
  },
  {
   "cell_type": "code",
   "execution_count": 200,
   "metadata": {},
   "outputs": [
    {
     "name": "stdout",
     "output_type": "stream",
     "text": [
      "R-squared: 0.5944393244161481\n",
      "Adj. R-squared: 0.5591731787132045\n"
     ]
    }
   ],
   "source": [
    "# R-squared\n",
    "n = len(gmfd_weighted)\n",
    "p1 = 2\n",
    "r2 = r2_score(gmfd_weighted['log_Value'], gmfd_weighted['quad_fit'])\n",
    "print('R-squared: ' + str(r2))\n",
    "print('Adj. R-squared: ' + str(1. - (1. - r2)*((n-1)/(n-p1-1))))"
   ]
  },
  {
   "cell_type": "code",
   "execution_count": 201,
   "metadata": {},
   "outputs": [
    {
     "name": "stdout",
     "output_type": "stream",
     "text": [
      "R-squared: 0.8954873316807812\n",
      "Adj. R-squared: 0.8624833311589226\n"
     ]
    }
   ],
   "source": [
    "# R-squared\n",
    "n = len(gmfd_weighted)\n",
    "p2 = 6\n",
    "r2 = r2_score(gmfd_weighted['log_Value'], gmfd_weighted['quad_fit'] + gmfd_weighted['GMFD'])\n",
    "print('R-squared: ' + str(r2))\n",
    "print('Adj. R-squared: ' + str(1. - (1. - r2)*((n-1)/(n-p2-1))))"
   ]
  },
  {
   "cell_type": "code",
   "execution_count": 202,
   "metadata": {},
   "outputs": [],
   "source": [
    "# F-test\n",
    "import scipy.stats as ss\n",
    "SSEbase = np.sum(gmfd_weighted['target_ValueQ']**2)\n",
    "SSEfull = np.sum((gmfd_weighted['GMFD'] - gmfd_weighted['target_ValueQ'])**2)\n",
    "F = ((SSEbase - SSEfull)/(p2-p1))/(SSEfull/(n-p2-1))"
   ]
  },
  {
   "cell_type": "code",
   "execution_count": 203,
   "metadata": {},
   "outputs": [
    {
     "name": "stdout",
     "output_type": "stream",
     "text": [
      "F-statistic:\n",
      "13.883873136198181\n",
      "p-value:\n",
      "1.853665508797763e-05\n"
     ]
    }
   ],
   "source": [
    "print('F-statistic:')\n",
    "print(F)\n",
    "print('p-value:')\n",
    "print(ss.f.sf(F, p2-p1, n-p2-1))"
   ]
  },
  {
   "cell_type": "markdown",
   "metadata": {},
   "source": [
    "## NEX"
   ]
  },
  {
   "cell_type": "code",
   "execution_count": 27,
   "metadata": {},
   "outputs": [],
   "source": [
    "nex_hist = [\"agvar_historical_r1i1p1_ACCESS1-0.csv\",\n",
    "\"agvar_historical_r1i1p1_BNU-ESM.csv\",\n",
    "\"agvar_historical_r1i1p1_CCSM4.csv\",\n",
    "\"agvar_historical_r1i1p1_CESM1-BGC.csv\",\n",
    "\"agvar_historical_r1i1p1_CNRM-CM5.csv\",\n",
    "\"agvar_historical_r1i1p1_CSIRO-Mk3-6-0.csv\",\n",
    "\"agvar_historical_r1i1p1_CanESM2.csv\",\n",
    "\"agvar_historical_r1i1p1_GFDL-CM3.csv\",\n",
    "\"agvar_historical_r1i1p1_GFDL-ESM2G.csv\",\n",
    "\"agvar_historical_r1i1p1_GFDL-ESM2M.csv\",\n",
    "\"agvar_historical_r1i1p1_IPSL-CM5A-LR.csv\",\n",
    "\"agvar_historical_r1i1p1_IPSL-CM5A-MR.csv\",\n",
    "\"agvar_historical_r1i1p1_MIROC-ESM-CHEM.csv\",\n",
    "\"agvar_historical_r1i1p1_MIROC-ESM.csv\",\n",
    "\"agvar_historical_r1i1p1_MIROC5.csv\",\n",
    "\"agvar_historical_r1i1p1_MPI-ESM-LR.csv\",\n",
    "\"agvar_historical_r1i1p1_MPI-ESM-MR.csv\",\n",
    "\"agvar_historical_r1i1p1_MRI-CGCM3.csv\",\n",
    "\"agvar_historical_r1i1p1_NorESM1-M.csv\",\n",
    "\"agvar_historical_r1i1p1_bcc-csm1-1.csv\",\n",
    "\"agvar_historical_r1i1p1_inmcm4.csv\"]\n",
    "\n",
    "nex_proj = [\"agvar_rcp85_r1i1p1_ACCESS1-0.csv\",\n",
    "\"agvar_rcp85_r1i1p1_BNU-ESM.csv\",\n",
    "\"agvar_rcp85_r1i1p1_CCSM4.csv\",\n",
    "\"agvar_rcp85_r1i1p1_CESM1-BGC.csv\",\n",
    "\"agvar_rcp85_r1i1p1_CNRM-CM5.csv\",\n",
    "\"agvar_rcp85_r1i1p1_CSIRO-Mk3-6-0.csv\",\n",
    "\"agvar_rcp85_r1i1p1_CanESM2.csv\",\n",
    "\"agvar_rcp85_r1i1p1_GFDL-CM3.csv\",\n",
    "\"agvar_rcp85_r1i1p1_GFDL-ESM2G.csv\",\n",
    "\"agvar_rcp85_r1i1p1_GFDL-ESM2M.csv\",\n",
    "\"agvar_rcp85_r1i1p1_IPSL-CM5A-LR.csv\",\n",
    "\"agvar_rcp85_r1i1p1_IPSL-CM5A-MR.csv\",\n",
    "\"agvar_rcp85_r1i1p1_MIROC-ESM-CHEM.csv\",\n",
    "\"agvar_rcp85_r1i1p1_MIROC-ESM.csv\",\n",
    "\"agvar_rcp85_r1i1p1_MIROC5.csv\",\n",
    "\"agvar_rcp85_r1i1p1_MPI-ESM-LR.csv\",\n",
    "\"agvar_rcp85_r1i1p1_MPI-ESM-MR.csv\",\n",
    "\"agvar_rcp85_r1i1p1_MRI-CGCM3.csv\",\n",
    "\"agvar_rcp85_r1i1p1_NorESM1-M.csv\",\n",
    "\"agvar_rcp85_r1i1p1_bcc-csm1-1.csv\",\n",
    "\"agvar_rcp85_r1i1p1_inmcm4.csv\"]"
   ]
  },
  {
   "cell_type": "code",
   "execution_count": 36,
   "metadata": {},
   "outputs": [],
   "source": [
    "# Run calculation\n",
    "def run_calc(name, hist=True, oos=False, proj=False):\n",
    "    # Read in data\n",
    "    data = pd.read_csv(\"./raw/NEX/\" + name)\n",
    "    data[\"GEOID\"] = data[\"GEOID\"].astype(str).str.zfill(5)\n",
    "    data.set_index(['GEOID', 'Year'], inplace=True)\n",
    "    \n",
    "    # Select time period\n",
    "    if hist:\n",
    "        data = data.query('Year >= 1980 and Year <= 2005')\n",
    "    elif oos:\n",
    "        data = data.query('Year >= 2006 and Year <= 2016')\n",
    "    elif proj:\n",
    "        data = data.query('Year >= 2050 and Year <= 2080')\n",
    "    \n",
    "    # Square precip\n",
    "    data['prcp2'] = data['prcp']**2\n",
    "    \n",
    "    # Subtract means\n",
    "    for agvar in data.columns:\n",
    "        data[agvar] = data[agvar] - data[agvar].mean(level = 'GEOID')\n",
    "\n",
    "    # Calculate yields\n",
    "    data = pd.merge(coeff, data.reset_index(), on = 'GEOID', how = 'outer')\n",
    "    data['yield'] = data['gdd']*data['GDDc'] + data['egdd']*data['KDDc'] + data['prcp']*data['Pc'] + data['prcp2']*data['P2c']\n",
    "#     data['yield'] = data['gdd']*diffen[0] + data['egdd']*diffen[1] + data['prcp']*diffen[2] + data['prcp2']*diffen[3]\n",
    "    data = data.filter(['GEOID', 'Year', 'yield'])\n",
    "    \n",
    "    # Save\n",
    "    timeID = hist*'80-05' + oos*'06-16' + proj*'50-80'\n",
    "    data.to_csv(\"./final/NEX/res_\" + timeID + '_yield_' + name[6:], index=False)"
   ]
  },
  {
   "cell_type": "code",
   "execution_count": 26,
   "metadata": {},
   "outputs": [
    {
     "name": "stderr",
     "output_type": "stream",
     "text": [
      "/Users/davidlafferty/anaconda3/lib/python3.7/site-packages/ipykernel_launcher.py:17: SettingWithCopyWarning: \n",
      "A value is trying to be set on a copy of a slice from a DataFrame.\n",
      "Try using .loc[row_indexer,col_indexer] = value instead\n",
      "\n",
      "See the caveats in the documentation: https://pandas.pydata.org/pandas-docs/stable/user_guide/indexing.html#returning-a-view-versus-a-copy\n",
      "/Users/davidlafferty/anaconda3/lib/python3.7/site-packages/ipykernel_launcher.py:21: SettingWithCopyWarning: \n",
      "A value is trying to be set on a copy of a slice from a DataFrame.\n",
      "Try using .loc[row_indexer,col_indexer] = value instead\n",
      "\n",
      "See the caveats in the documentation: https://pandas.pydata.org/pandas-docs/stable/user_guide/indexing.html#returning-a-view-versus-a-copy\n"
     ]
    }
   ],
   "source": [
    "for model in nex_hist:\n",
    "    run_calc(model)"
   ]
  },
  {
   "cell_type": "code",
   "execution_count": 38,
   "metadata": {},
   "outputs": [
    {
     "name": "stderr",
     "output_type": "stream",
     "text": [
      "/Users/davidlafferty/anaconda3/lib/python3.7/site-packages/ipykernel_launcher.py:17: SettingWithCopyWarning: \n",
      "A value is trying to be set on a copy of a slice from a DataFrame.\n",
      "Try using .loc[row_indexer,col_indexer] = value instead\n",
      "\n",
      "See the caveats in the documentation: https://pandas.pydata.org/pandas-docs/stable/user_guide/indexing.html#returning-a-view-versus-a-copy\n",
      "/Users/davidlafferty/anaconda3/lib/python3.7/site-packages/ipykernel_launcher.py:21: SettingWithCopyWarning: \n",
      "A value is trying to be set on a copy of a slice from a DataFrame.\n",
      "Try using .loc[row_indexer,col_indexer] = value instead\n",
      "\n",
      "See the caveats in the documentation: https://pandas.pydata.org/pandas-docs/stable/user_guide/indexing.html#returning-a-view-versus-a-copy\n"
     ]
    }
   ],
   "source": [
    "for model in nex_proj:\n",
    "    run_calc(model, proj=True, hist=False)"
   ]
  },
  {
   "cell_type": "markdown",
   "metadata": {},
   "source": [
    "## CMIP"
   ]
  },
  {
   "cell_type": "code",
   "execution_count": 39,
   "metadata": {},
   "outputs": [],
   "source": [
    "cmip_all = [\"agvar_ACCESS1-0.historical+rcp85.csv\",\n",
    "\"agvar_BNU-ESM.historical+rcp85.csv\",\n",
    "\"agvar_CCSM4_historical+rcp85.csv\",\n",
    "\"agvar_CESM1-BGC.historical+rcp85.csv\",\n",
    "\"agvar_CNRM-CM5.historical+rcp85.csv\",\n",
    "\"agvar_CSIRO-Mk3-6-0.historical+rcp85.csv\",\n",
    "\"agvar_CanESM2.historical+rcp85.csv\",\n",
    "\"agvar_GFDL-CM3.historical+rcp85.csv\",\n",
    "\"agvar_GFDL-ESM2G.historical+rcp85.csv\",\n",
    "\"agvar_GFDL-ESM2M.historical+rcp85.csv\",\n",
    "\"agvar_IPSL-CM5A-LR.historical+rcp85.csv\",\n",
    "\"agvar_IPSL-CM5A-MR.historical+rcp85.csv\",\n",
    "\"agvar_MIROC-ESM-CHEM.historical+rcp85.csv\",\n",
    "\"agvar_MIROC-ESM.historical+rcp85.csv\",\n",
    "\"agvar_MIROC5.historical+rcp85.csv\",\n",
    "\"agvar_MPI-ESM-LR.historical+rcp85.csv\",\n",
    "\"agvar_MPI-ESM-MR.historical+rcp85.csv\",\n",
    "\"agvar_MRI-CGCM3.historical+rcp85.csv\",\n",
    "\"agvar_NorESM1-M.historical+rcp85.csv\",\n",
    "\"agvar_bcc-csm1-1_historical+rcp85.csv\",\n",
    "\"agvar_inmcm4.historical+rcp85.csv\"]"
   ]
  },
  {
   "cell_type": "code",
   "execution_count": 43,
   "metadata": {},
   "outputs": [],
   "source": [
    "# Run calculation\n",
    "def run_calc(name, hist=True, oos=False, proj=False):\n",
    "    # Read in data\n",
    "    data = pd.read_csv(\"./raw/CMIP/\" + name)\n",
    "    data[\"GEOID\"] = data[\"GEOID\"].astype(str).str.zfill(5)\n",
    "    data.set_index(['GEOID', 'Year'], inplace=True)\n",
    "    \n",
    "    # Select time period\n",
    "    if hist:\n",
    "        data = data.query('Year >= 1980 and Year <= 2005')\n",
    "    elif oos:\n",
    "        data = data.query('Year >= 2006 and Year <= 2016')\n",
    "    elif proj:\n",
    "        data = data.query('Year >= 2050 and Year <= 2080')\n",
    "    \n",
    "    # Square precip\n",
    "    data['prcp2'] = data['prcp']**2\n",
    "    \n",
    "    # Subtract means\n",
    "    for agvar in data.columns:\n",
    "        data[agvar] = data[agvar] - data[agvar].mean(level = 'GEOID')\n",
    "\n",
    "    # Calculate yields\n",
    "    data = pd.merge(coeff, data.reset_index(), on = 'GEOID', how = 'outer')\n",
    "    data['yield'] = data['gdd']*data['GDDc'] + data['egdd']*data['KDDc'] + data['prcp']*data['Pc'] + data['prcp2']*data['P2c']\n",
    "    data = data.filter(['GEOID', 'Year', 'yield'])\n",
    "    \n",
    "    # Save\n",
    "    timeID = hist*'80-05' + oos*'06-16' + proj*'50-80'\n",
    "    data.to_csv(\"./final/CMIP/res_\" + timeID + '_yield_' + name[6:], index=False)"
   ]
  },
  {
   "cell_type": "code",
   "execution_count": 41,
   "metadata": {},
   "outputs": [
    {
     "name": "stderr",
     "output_type": "stream",
     "text": [
      "/Users/davidlafferty/anaconda3/lib/python3.7/site-packages/ipykernel_launcher.py:17: SettingWithCopyWarning: \n",
      "A value is trying to be set on a copy of a slice from a DataFrame.\n",
      "Try using .loc[row_indexer,col_indexer] = value instead\n",
      "\n",
      "See the caveats in the documentation: https://pandas.pydata.org/pandas-docs/stable/user_guide/indexing.html#returning-a-view-versus-a-copy\n",
      "/Users/davidlafferty/anaconda3/lib/python3.7/site-packages/ipykernel_launcher.py:21: SettingWithCopyWarning: \n",
      "A value is trying to be set on a copy of a slice from a DataFrame.\n",
      "Try using .loc[row_indexer,col_indexer] = value instead\n",
      "\n",
      "See the caveats in the documentation: https://pandas.pydata.org/pandas-docs/stable/user_guide/indexing.html#returning-a-view-versus-a-copy\n"
     ]
    }
   ],
   "source": [
    "for model in cmip_all:\n",
    "    run_calc(model)"
   ]
  },
  {
   "cell_type": "code",
   "execution_count": 44,
   "metadata": {},
   "outputs": [
    {
     "name": "stderr",
     "output_type": "stream",
     "text": [
      "/Users/davidlafferty/anaconda3/lib/python3.7/site-packages/ipykernel_launcher.py:17: SettingWithCopyWarning: \n",
      "A value is trying to be set on a copy of a slice from a DataFrame.\n",
      "Try using .loc[row_indexer,col_indexer] = value instead\n",
      "\n",
      "See the caveats in the documentation: https://pandas.pydata.org/pandas-docs/stable/user_guide/indexing.html#returning-a-view-versus-a-copy\n",
      "/Users/davidlafferty/anaconda3/lib/python3.7/site-packages/ipykernel_launcher.py:21: SettingWithCopyWarning: \n",
      "A value is trying to be set on a copy of a slice from a DataFrame.\n",
      "Try using .loc[row_indexer,col_indexer] = value instead\n",
      "\n",
      "See the caveats in the documentation: https://pandas.pydata.org/pandas-docs/stable/user_guide/indexing.html#returning-a-view-versus-a-copy\n"
     ]
    }
   ],
   "source": [
    "for model in cmip_all:\n",
    "    run_calc(model, hist=False, oos=True)"
   ]
  },
  {
   "cell_type": "code",
   "execution_count": 45,
   "metadata": {},
   "outputs": [
    {
     "name": "stderr",
     "output_type": "stream",
     "text": [
      "/Users/davidlafferty/anaconda3/lib/python3.7/site-packages/ipykernel_launcher.py:17: SettingWithCopyWarning: \n",
      "A value is trying to be set on a copy of a slice from a DataFrame.\n",
      "Try using .loc[row_indexer,col_indexer] = value instead\n",
      "\n",
      "See the caveats in the documentation: https://pandas.pydata.org/pandas-docs/stable/user_guide/indexing.html#returning-a-view-versus-a-copy\n",
      "/Users/davidlafferty/anaconda3/lib/python3.7/site-packages/ipykernel_launcher.py:21: SettingWithCopyWarning: \n",
      "A value is trying to be set on a copy of a slice from a DataFrame.\n",
      "Try using .loc[row_indexer,col_indexer] = value instead\n",
      "\n",
      "See the caveats in the documentation: https://pandas.pydata.org/pandas-docs/stable/user_guide/indexing.html#returning-a-view-versus-a-copy\n"
     ]
    }
   ],
   "source": [
    "for model in cmip_all:\n",
    "    run_calc(model, hist=False, proj=True)"
   ]
  },
  {
   "cell_type": "code",
   "execution_count": null,
   "metadata": {},
   "outputs": [],
   "source": []
  }
 ],
 "metadata": {
  "kernelspec": {
   "display_name": "Python 3",
   "language": "python",
   "name": "python3"
  },
  "language_info": {
   "codemirror_mode": {
    "name": "ipython",
    "version": 3
   },
   "file_extension": ".py",
   "mimetype": "text/x-python",
   "name": "python",
   "nbconvert_exporter": "python",
   "pygments_lexer": "ipython3",
   "version": "3.7.6"
  }
 },
 "nbformat": 4,
 "nbformat_minor": 4
}
