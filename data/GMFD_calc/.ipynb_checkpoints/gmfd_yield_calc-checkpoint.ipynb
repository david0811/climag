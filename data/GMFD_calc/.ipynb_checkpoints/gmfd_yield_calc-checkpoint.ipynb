{
 "cells": [
  {
   "cell_type": "markdown",
   "metadata": {},
   "source": [
    "# GMFD yield calculation"
   ]
  },
  {
   "cell_type": "code",
   "execution_count": 1,
   "metadata": {},
   "outputs": [],
   "source": [
    "import numpy as np\n",
    "import pandas as pd\n",
    "import xarray as xr\n",
    "from scipy import interpolate\n",
    "# from sklearn.metrics import r2_score\n",
    "# from sklearn.metrics import mean_squared_error"
   ]
  },
  {
   "cell_type": "code",
   "execution_count": 2,
   "metadata": {},
   "outputs": [],
   "source": [
    "precip = xr.open_dataset('../../netCDF/cuml_precip_gs_GMFD.nc')\n",
    "gdd = xr.open_dataset('../../netCDF/GDD_10-29C_gs_GMFD.nc')\n",
    "egdd = xr.open_dataset('../../netCDF/GDD_29C_gs_GMFD.nc')"
   ]
  },
  {
   "cell_type": "code",
   "execution_count": 15,
   "metadata": {},
   "outputs": [],
   "source": [
    "weights = pd.read_csv('../grids/gmfd/output/counties_GMFD_weighted.csv')\n",
    "weights['GEOID'] = weights['GEOID'].astype(str).str.zfill(5)"
   ]
  },
  {
   "cell_type": "code",
   "execution_count": 4,
   "metadata": {},
   "outputs": [],
   "source": [
    "final = precip.copy()"
   ]
  },
  {
   "cell_type": "code",
   "execution_count": 5,
   "metadata": {},
   "outputs": [
    {
     "data": {
      "text/html": [
       "<pre>&lt;xarray.Dataset&gt;\n",
       "Dimensions:  (lat: 600, lon: 1440, time: 61)\n",
       "Coordinates:\n",
       "  * lat      (lat) float64 -59.88 -59.62 -59.38 -59.12 ... 89.38 89.62 89.88\n",
       "  * lon      (lon) float64 0.125 0.375 0.625 0.875 ... 359.1 359.4 359.6 359.9\n",
       "  * time     (time) int32 1956 1957 1958 1959 1960 ... 2012 2013 2014 2015 2016\n",
       "Data variables:\n",
       "    prcp     (time, lat, lon) float64 ...\n",
       "Attributes:\n",
       "    description:  Growing season total precipitation</pre>"
      ],
      "text/plain": [
       "<xarray.Dataset>\n",
       "Dimensions:  (lat: 600, lon: 1440, time: 61)\n",
       "Coordinates:\n",
       "  * lat      (lat) float64 -59.88 -59.62 -59.38 -59.12 ... 89.38 89.62 89.88\n",
       "  * lon      (lon) float64 0.125 0.375 0.625 0.875 ... 359.1 359.4 359.6 359.9\n",
       "  * time     (time) int32 1956 1957 1958 1959 1960 ... 2012 2013 2014 2015 2016\n",
       "Data variables:\n",
       "    prcp     (time, lat, lon) float64 ...\n",
       "Attributes:\n",
       "    description:  Growing season total precipitation"
      ]
     },
     "execution_count": 5,
     "metadata": {},
     "output_type": "execute_result"
    }
   ],
   "source": [
    "final"
   ]
  },
  {
   "cell_type": "code",
   "execution_count": 6,
   "metadata": {},
   "outputs": [
    {
     "name": "stdout",
     "output_type": "stream",
     "text": [
      "East/West divide is at longitude point: 1040\n"
     ]
    }
   ],
   "source": [
    "# Impact functions\n",
    "east_west_meridian = np.argmax(final[\"lon\"].values > 260.)\n",
    "print(\"East/West divide is at longitude point: \" + str(east_west_meridian))\n",
    "\n",
    "Ealpha = 0.00031309187\n",
    "Ebeta = -0.0061613785\n",
    "\n",
    "Walpha = 0.00026968688416391184\n",
    "Wbeta = -0.00299402820671972\n",
    "\n",
    "Eprecip_x = np.load(\"../response/output/maize_east_precip_x.npy\")\n",
    "Eprecip_y = np.load(\"../response/output/maize_east_precip_y.npy\")\n",
    "\n",
    "Wprecip_x = np.load(\"../response/output/maize_west_precip_x.npy\")\n",
    "Wprecip_y = np.load(\"../response/output/maize_west_precip_y.npy\")\n",
    "\n",
    "Eprecip_interp = interpolate.interp1d(np.insert(Eprecip_x, 0, 0., axis=0), np.insert(Eprecip_y[:,0], 0, 0., axis=0), fill_value = \"extrapolate\", bounds_error = False)\n",
    "Wprecip_interp = interpolate.interp1d(np.insert(Wprecip_x, 0, 0., axis=0), np.insert(Wprecip_y[:,0], 0, 0., axis=0), fill_value = \"extrapolate\", bounds_error = False)\n",
    "\n",
    "# Apply impact functions\n",
    "final[\"Eimpact\"] = (Ealpha * gdd[\"GDD\"]) + (Ebeta * egdd[\"GDD\"]) + Eprecip_interp(precip[\"prcp\"])\n",
    "final[\"Wimpact\"] = (Walpha * gdd[\"GDD\"]) + (Wbeta * egdd[\"GDD\"]) + Wprecip_interp(precip[\"prcp\"])"
   ]
  },
  {
   "cell_type": "code",
   "execution_count": 7,
   "metadata": {},
   "outputs": [],
   "source": [
    "# Set time range\n",
    "yearMin = 1956\n",
    "yearMax = 2016\n",
    "tbound = [yearMin,yearMax]\n",
    "\n",
    "# Build index structure for dataframe\n",
    "unique_geoids = np.load(\"../USDA/usda_grab/output/unique_geoids.npy\", allow_pickle=True)\n",
    "years = np.arange(yearMin, yearMax+1, 1)\n",
    "\n",
    "unique_geoids = [[unique_geoid]*len(years) for unique_geoid in unique_geoids]\n",
    "unique_geoids = np.ndarray.flatten(np.asarray(unique_geoids))\n",
    "\n",
    "years = [years] * len(unique_geoids)\n",
    "years = np.ndarray.flatten(np.asarray(years))\n",
    "\n",
    "tuples = list(zip(*[unique_geoids, years]))\n",
    "\n",
    "index = pd.MultiIndex.from_tuples(tuples)\n",
    "\n",
    "# Build empty dataframe with complete indexing\n",
    "proj_final = pd.DataFrame(index = index)\n",
    "proj_final.index.names = [\"GEOID\", \"Year\"]\n",
    "proj_final[\"projected\"] = 0."
   ]
  },
  {
   "cell_type": "code",
   "execution_count": 8,
   "metadata": {},
   "outputs": [
    {
     "data": {
      "text/html": [
       "<pre>&lt;xarray.Dataset&gt;\n",
       "Dimensions:  (lat: 600, lon: 1440, time: 61)\n",
       "Coordinates:\n",
       "  * lat      (lat) float64 -59.88 -59.62 -59.38 -59.12 ... 89.38 89.62 89.88\n",
       "  * lon      (lon) float64 0.125 0.375 0.625 0.875 ... 359.1 359.4 359.6 359.9\n",
       "  * time     (time) int32 1956 1957 1958 1959 1960 ... 2012 2013 2014 2015 2016\n",
       "Data variables:\n",
       "    prcp     (time, lat, lon) float64 ...\n",
       "    Eimpact  (time, lat, lon) float64 0.2522 0.2508 0.2494 ... 0.1033 0.1031\n",
       "    Wimpact  (time, lat, lon) float64 0.1834 0.1823 0.1812 ... 0.07162 0.07147\n",
       "Attributes:\n",
       "    description:  Growing season total precipitation</pre>"
      ],
      "text/plain": [
       "<xarray.Dataset>\n",
       "Dimensions:  (lat: 600, lon: 1440, time: 61)\n",
       "Coordinates:\n",
       "  * lat      (lat) float64 -59.88 -59.62 -59.38 -59.12 ... 89.38 89.62 89.88\n",
       "  * lon      (lon) float64 0.125 0.375 0.625 0.875 ... 359.1 359.4 359.6 359.9\n",
       "  * time     (time) int32 1956 1957 1958 1959 1960 ... 2012 2013 2014 2015 2016\n",
       "Data variables:\n",
       "    prcp     (time, lat, lon) float64 ...\n",
       "    Eimpact  (time, lat, lon) float64 0.2522 0.2508 0.2494 ... 0.1033 0.1031\n",
       "    Wimpact  (time, lat, lon) float64 0.1834 0.1823 0.1812 ... 0.07162 0.07147\n",
       "Attributes:\n",
       "    description:  Growing season total precipitation"
      ]
     },
     "execution_count": 8,
     "metadata": {},
     "output_type": "execute_result"
    }
   ],
   "source": [
    "final"
   ]
  },
  {
   "cell_type": "code",
   "execution_count": 23,
   "metadata": {},
   "outputs": [],
   "source": [
    "weights = weights.groupby(['GEOID', 'latitude', 'longitude']).sum().reset_index().drop(columns = ['STATEFP', 'COUNTYFP'])"
   ]
  },
  {
   "cell_type": "code",
   "execution_count": 29,
   "metadata": {},
   "outputs": [
    {
     "data": {
      "text/html": [
       "<div>\n",
       "<style scoped>\n",
       "    .dataframe tbody tr th:only-of-type {\n",
       "        vertical-align: middle;\n",
       "    }\n",
       "\n",
       "    .dataframe tbody tr th {\n",
       "        vertical-align: top;\n",
       "    }\n",
       "\n",
       "    .dataframe thead th {\n",
       "        text-align: right;\n",
       "    }\n",
       "</style>\n",
       "<table border=\"1\" class=\"dataframe\">\n",
       "  <thead>\n",
       "    <tr style=\"text-align: right;\">\n",
       "      <th></th>\n",
       "      <th>GEOID</th>\n",
       "      <th>latitude</th>\n",
       "      <th>longitude</th>\n",
       "      <th>within_county_weight</th>\n",
       "    </tr>\n",
       "  </thead>\n",
       "  <tbody>\n",
       "    <tr>\n",
       "      <th>0</th>\n",
       "      <td>01001</td>\n",
       "      <td>369</td>\n",
       "      <td>1092</td>\n",
       "      <td>0.101116</td>\n",
       "    </tr>\n",
       "    <tr>\n",
       "      <th>1</th>\n",
       "      <td>01001</td>\n",
       "      <td>369</td>\n",
       "      <td>1093</td>\n",
       "      <td>0.298316</td>\n",
       "    </tr>\n",
       "    <tr>\n",
       "      <th>2</th>\n",
       "      <td>01001</td>\n",
       "      <td>369</td>\n",
       "      <td>1094</td>\n",
       "      <td>0.113768</td>\n",
       "    </tr>\n",
       "    <tr>\n",
       "      <th>3</th>\n",
       "      <td>01001</td>\n",
       "      <td>370</td>\n",
       "      <td>1092</td>\n",
       "      <td>0.061811</td>\n",
       "    </tr>\n",
       "    <tr>\n",
       "      <th>4</th>\n",
       "      <td>01001</td>\n",
       "      <td>370</td>\n",
       "      <td>1093</td>\n",
       "      <td>0.302705</td>\n",
       "    </tr>\n",
       "  </tbody>\n",
       "</table>\n",
       "</div>"
      ],
      "text/plain": [
       "   GEOID  latitude  longitude  within_county_weight\n",
       "0  01001       369       1092              0.101116\n",
       "1  01001       369       1093              0.298316\n",
       "2  01001       369       1094              0.113768\n",
       "3  01001       370       1092              0.061811\n",
       "4  01001       370       1093              0.302705"
      ]
     },
     "execution_count": 29,
     "metadata": {},
     "output_type": "execute_result"
    }
   ],
   "source": [
    "weights.head()"
   ]
  },
  {
   "cell_type": "code",
   "execution_count": 32,
   "metadata": {},
   "outputs": [],
   "source": [
    "# Calulate projections\n",
    "for geoid in proj_final.index.unique(level = \"GEOID\"):\n",
    "    pd_temp = weights[weights.GEOID == geoid]\n",
    "    for year in proj_final.index.unique(level = \"Year\"):\n",
    "        temp = 0\n",
    "        for index, row in pd_temp.iterrows():\n",
    "            if row[\"longitude\"] >= east_west_meridian:\n",
    "                temp += (final.isel(lat = row[\"latitude\"], lon = row[\"longitude\"], time = year-yearMin)[\"Eimpact\"] * row[\"within_county_weight\"])\n",
    "            elif row[\"longitude\"] < east_west_meridian:\n",
    "                temp += (final.isel(lat = row[\"latitude\"], lon = row[\"longitude\"], time = year-yearMin)[\"Wimpact\"] * row[\"within_county_weight\"])\n",
    "        proj_final.loc[geoid, year][\"projected\"] = temp"
   ]
  },
  {
   "cell_type": "code",
   "execution_count": 38,
   "metadata": {},
   "outputs": [
    {
     "data": {
      "text/html": [
       "<div>\n",
       "<style scoped>\n",
       "    .dataframe tbody tr th:only-of-type {\n",
       "        vertical-align: middle;\n",
       "    }\n",
       "\n",
       "    .dataframe tbody tr th {\n",
       "        vertical-align: top;\n",
       "    }\n",
       "\n",
       "    .dataframe thead th {\n",
       "        text-align: right;\n",
       "    }\n",
       "</style>\n",
       "<table border=\"1\" class=\"dataframe\">\n",
       "  <thead>\n",
       "    <tr style=\"text-align: right;\">\n",
       "      <th></th>\n",
       "      <th></th>\n",
       "      <th>projected</th>\n",
       "    </tr>\n",
       "    <tr>\n",
       "      <th>GEOID</th>\n",
       "      <th>Year</th>\n",
       "      <th></th>\n",
       "    </tr>\n",
       "  </thead>\n",
       "  <tbody>\n",
       "    <tr>\n",
       "      <th rowspan=\"5\" valign=\"top\">56045</th>\n",
       "      <th>2012</th>\n",
       "      <td>0.201856</td>\n",
       "    </tr>\n",
       "    <tr>\n",
       "      <th>2013</th>\n",
       "      <td>0.350464</td>\n",
       "    </tr>\n",
       "    <tr>\n",
       "      <th>2014</th>\n",
       "      <td>0.400217</td>\n",
       "    </tr>\n",
       "    <tr>\n",
       "      <th>2015</th>\n",
       "      <td>0.442177</td>\n",
       "    </tr>\n",
       "    <tr>\n",
       "      <th>2016</th>\n",
       "      <td>0.330661</td>\n",
       "    </tr>\n",
       "  </tbody>\n",
       "</table>\n",
       "</div>"
      ],
      "text/plain": [
       "            projected\n",
       "GEOID Year           \n",
       "56045 2012   0.201856\n",
       "      2013   0.350464\n",
       "      2014   0.400217\n",
       "      2015   0.442177\n",
       "      2016   0.330661"
      ]
     },
     "execution_count": 38,
     "metadata": {},
     "output_type": "execute_result"
    }
   ],
   "source": [
    "proj_final.tail()"
   ]
  },
  {
   "cell_type": "code",
   "execution_count": 37,
   "metadata": {},
   "outputs": [],
   "source": [
    "proj_final.to_csv('./output/gmfd_yield_historical.csv')"
   ]
  },
  {
   "cell_type": "markdown",
   "metadata": {},
   "source": [
    "## Checking within county weighting scheme"
   ]
  },
  {
   "cell_type": "code",
   "execution_count": 18,
   "metadata": {},
   "outputs": [],
   "source": [
    "gmfd = pd.read_csv('gmfd_yield_area_weights.csv')\n",
    "gmfd['GEOID'] = gmfd['GEOID'].astype(str).str.zfill(5)\n",
    "gmfd.set_index([\"GEOID\", \"Year\"], inplace = True)\n",
    "gmfd.drop(index = [2017, 2018], level = 1, inplace = True)"
   ]
  },
  {
   "cell_type": "code",
   "execution_count": 19,
   "metadata": {},
   "outputs": [
    {
     "data": {
      "text/html": [
       "<div>\n",
       "<style scoped>\n",
       "    .dataframe tbody tr th:only-of-type {\n",
       "        vertical-align: middle;\n",
       "    }\n",
       "\n",
       "    .dataframe tbody tr th {\n",
       "        vertical-align: top;\n",
       "    }\n",
       "\n",
       "    .dataframe thead th {\n",
       "        text-align: right;\n",
       "    }\n",
       "</style>\n",
       "<table border=\"1\" class=\"dataframe\">\n",
       "  <thead>\n",
       "    <tr style=\"text-align: right;\">\n",
       "      <th></th>\n",
       "      <th></th>\n",
       "      <th>projected</th>\n",
       "    </tr>\n",
       "    <tr>\n",
       "      <th>GEOID</th>\n",
       "      <th>Year</th>\n",
       "      <th></th>\n",
       "    </tr>\n",
       "  </thead>\n",
       "  <tbody>\n",
       "    <tr>\n",
       "      <th rowspan=\"5\" valign=\"top\">01001</th>\n",
       "      <th>1956</th>\n",
       "      <td>0.268606</td>\n",
       "    </tr>\n",
       "    <tr>\n",
       "      <th>1957</th>\n",
       "      <td>0.411497</td>\n",
       "    </tr>\n",
       "    <tr>\n",
       "      <th>1958</th>\n",
       "      <td>0.471879</td>\n",
       "    </tr>\n",
       "    <tr>\n",
       "      <th>1959</th>\n",
       "      <td>0.286835</td>\n",
       "    </tr>\n",
       "    <tr>\n",
       "      <th>1960</th>\n",
       "      <td>0.329027</td>\n",
       "    </tr>\n",
       "  </tbody>\n",
       "</table>\n",
       "</div>"
      ],
      "text/plain": [
       "            projected\n",
       "GEOID Year           \n",
       "01001 1956   0.268606\n",
       "      1957   0.411497\n",
       "      1958   0.471879\n",
       "      1959   0.286835\n",
       "      1960   0.329027"
      ]
     },
     "execution_count": 19,
     "metadata": {},
     "output_type": "execute_result"
    }
   ],
   "source": [
    "gmfd.head()"
   ]
  },
  {
   "cell_type": "code",
   "execution_count": 10,
   "metadata": {},
   "outputs": [],
   "source": [
    "# USDA\n",
    "usda_weights = pd.read_csv(\"../analysis/weights/usda_county_to_national_weights.csv\")\n",
    "usda_weights[\"GEOID\"] = usda_weights[\"GEOID\"].astype(str).str.zfill(5)"
   ]
  },
  {
   "cell_type": "code",
   "execution_count": 13,
   "metadata": {},
   "outputs": [],
   "source": [
    "# Read in USDA data\n",
    "usda = pd.read_csv(\"../data/USDA/final/USDA_county_yields_w_county_trends.csv\")\n",
    "usda[\"state_fips_code\"] = usda[\"state_fips_code\"].astype(str).str.zfill(2)\n",
    "usda[\"county_code\"] = usda[\"county_code\"].astype(str).str.zfill(3)\n",
    "usda[\"GEOID\"] = usda[\"state_fips_code\"] + usda[\"county_code\"]\n",
    "usda[\"GEOID\"] = usda[\"GEOID\"].astype(str).str.zfill(5)\n",
    "usda.set_index([\"GEOID\", \"year\"], inplace = True)"
   ]
  },
  {
   "cell_type": "code",
   "execution_count": 14,
   "metadata": {},
   "outputs": [
    {
     "data": {
      "text/html": [
       "<div>\n",
       "<style scoped>\n",
       "    .dataframe tbody tr th:only-of-type {\n",
       "        vertical-align: middle;\n",
       "    }\n",
       "\n",
       "    .dataframe tbody tr th {\n",
       "        vertical-align: top;\n",
       "    }\n",
       "\n",
       "    .dataframe thead th {\n",
       "        text-align: right;\n",
       "    }\n",
       "</style>\n",
       "<table border=\"1\" class=\"dataframe\">\n",
       "  <thead>\n",
       "    <tr style=\"text-align: right;\">\n",
       "      <th></th>\n",
       "      <th></th>\n",
       "      <th>state_fips_code</th>\n",
       "      <th>county_code</th>\n",
       "      <th>asd_code</th>\n",
       "      <th>Value</th>\n",
       "      <th>area</th>\n",
       "      <th>log_Value</th>\n",
       "      <th>lowess_log_Value</th>\n",
       "      <th>target_Value</th>\n",
       "    </tr>\n",
       "    <tr>\n",
       "      <th>GEOID</th>\n",
       "      <th>year</th>\n",
       "      <th></th>\n",
       "      <th></th>\n",
       "      <th></th>\n",
       "      <th></th>\n",
       "      <th></th>\n",
       "      <th></th>\n",
       "      <th></th>\n",
       "      <th></th>\n",
       "    </tr>\n",
       "  </thead>\n",
       "  <tbody>\n",
       "    <tr>\n",
       "      <th>01001</th>\n",
       "      <th>1950</th>\n",
       "      <td>01</td>\n",
       "      <td>001</td>\n",
       "      <td>40</td>\n",
       "      <td>17.0</td>\n",
       "      <td>29600.0</td>\n",
       "      <td>2.833213</td>\n",
       "      <td>2.922636</td>\n",
       "      <td>-0.089422</td>\n",
       "    </tr>\n",
       "    <tr>\n",
       "      <th>01011</th>\n",
       "      <th>1950</th>\n",
       "      <td>01</td>\n",
       "      <td>011</td>\n",
       "      <td>40</td>\n",
       "      <td>11.0</td>\n",
       "      <td>24200.0</td>\n",
       "      <td>2.397895</td>\n",
       "      <td>2.684326</td>\n",
       "      <td>-0.286430</td>\n",
       "    </tr>\n",
       "    <tr>\n",
       "      <th>01047</th>\n",
       "      <th>1950</th>\n",
       "      <td>01</td>\n",
       "      <td>047</td>\n",
       "      <td>40</td>\n",
       "      <td>13.0</td>\n",
       "      <td>44200.0</td>\n",
       "      <td>2.564949</td>\n",
       "      <td>2.724326</td>\n",
       "      <td>-0.159377</td>\n",
       "    </tr>\n",
       "    <tr>\n",
       "      <th>01051</th>\n",
       "      <th>1950</th>\n",
       "      <td>01</td>\n",
       "      <td>051</td>\n",
       "      <td>40</td>\n",
       "      <td>23.0</td>\n",
       "      <td>38900.0</td>\n",
       "      <td>3.135494</td>\n",
       "      <td>3.057709</td>\n",
       "      <td>0.077785</td>\n",
       "    </tr>\n",
       "    <tr>\n",
       "      <th>01063</th>\n",
       "      <th>1950</th>\n",
       "      <td>01</td>\n",
       "      <td>063</td>\n",
       "      <td>40</td>\n",
       "      <td>16.0</td>\n",
       "      <td>23900.0</td>\n",
       "      <td>2.772589</td>\n",
       "      <td>2.724703</td>\n",
       "      <td>0.047885</td>\n",
       "    </tr>\n",
       "  </tbody>\n",
       "</table>\n",
       "</div>"
      ],
      "text/plain": [
       "           state_fips_code county_code  asd_code  Value     area  log_Value  \\\n",
       "GEOID year                                                                    \n",
       "01001 1950              01         001        40   17.0  29600.0   2.833213   \n",
       "01011 1950              01         011        40   11.0  24200.0   2.397895   \n",
       "01047 1950              01         047        40   13.0  44200.0   2.564949   \n",
       "01051 1950              01         051        40   23.0  38900.0   3.135494   \n",
       "01063 1950              01         063        40   16.0  23900.0   2.772589   \n",
       "\n",
       "            lowess_log_Value  target_Value  \n",
       "GEOID year                                  \n",
       "01001 1950          2.922636     -0.089422  \n",
       "01011 1950          2.684326     -0.286430  \n",
       "01047 1950          2.724326     -0.159377  \n",
       "01051 1950          3.057709      0.077785  \n",
       "01063 1950          2.724703      0.047885  "
      ]
     },
     "execution_count": 14,
     "metadata": {},
     "output_type": "execute_result"
    }
   ],
   "source": [
    "usda.head()"
   ]
  },
  {
   "cell_type": "code",
   "execution_count": 20,
   "metadata": {},
   "outputs": [],
   "source": [
    "# Offset by means (equivalent to minimising sum of square of residuals)\n",
    "gmfd[\"projected_offset\"] = 0.0\n",
    "\n",
    "for geoid in usda.index.unique(level = \"GEOID\"):\n",
    "    if geoid in gmfd.index:\n",
    "        model_mean = gmfd.loc[geoid][\"projected\"].mean()\n",
    "        data_mean = usda.loc[geoid].query(\"year >= 1960 and year <= 2016\")[\"target_Value\"].mean()\n",
    "    \n",
    "        gmfd.loc[geoid][\"projected_offset\"] = gmfd.loc[geoid][\"projected\"] - model_mean + data_mean"
   ]
  },
  {
   "cell_type": "code",
   "execution_count": 21,
   "metadata": {},
   "outputs": [
    {
     "data": {
      "text/html": [
       "<div>\n",
       "<style scoped>\n",
       "    .dataframe tbody tr th:only-of-type {\n",
       "        vertical-align: middle;\n",
       "    }\n",
       "\n",
       "    .dataframe tbody tr th {\n",
       "        vertical-align: top;\n",
       "    }\n",
       "\n",
       "    .dataframe thead th {\n",
       "        text-align: right;\n",
       "    }\n",
       "</style>\n",
       "<table border=\"1\" class=\"dataframe\">\n",
       "  <thead>\n",
       "    <tr style=\"text-align: right;\">\n",
       "      <th></th>\n",
       "      <th></th>\n",
       "      <th>projected</th>\n",
       "      <th>projected_offset</th>\n",
       "    </tr>\n",
       "    <tr>\n",
       "      <th>GEOID</th>\n",
       "      <th>Year</th>\n",
       "      <th></th>\n",
       "      <th></th>\n",
       "    </tr>\n",
       "  </thead>\n",
       "  <tbody>\n",
       "    <tr>\n",
       "      <th rowspan=\"5\" valign=\"top\">01001</th>\n",
       "      <th>1956</th>\n",
       "      <td>0.268606</td>\n",
       "      <td>-0.217247</td>\n",
       "    </tr>\n",
       "    <tr>\n",
       "      <th>1957</th>\n",
       "      <td>0.411497</td>\n",
       "      <td>-0.074357</td>\n",
       "    </tr>\n",
       "    <tr>\n",
       "      <th>1958</th>\n",
       "      <td>0.471879</td>\n",
       "      <td>-0.013974</td>\n",
       "    </tr>\n",
       "    <tr>\n",
       "      <th>1959</th>\n",
       "      <td>0.286835</td>\n",
       "      <td>-0.199019</td>\n",
       "    </tr>\n",
       "    <tr>\n",
       "      <th>1960</th>\n",
       "      <td>0.329027</td>\n",
       "      <td>-0.156826</td>\n",
       "    </tr>\n",
       "  </tbody>\n",
       "</table>\n",
       "</div>"
      ],
      "text/plain": [
       "            projected  projected_offset\n",
       "GEOID Year                             \n",
       "01001 1956   0.268606         -0.217247\n",
       "      1957   0.411497         -0.074357\n",
       "      1958   0.471879         -0.013974\n",
       "      1959   0.286835         -0.199019\n",
       "      1960   0.329027         -0.156826"
      ]
     },
     "execution_count": 21,
     "metadata": {},
     "output_type": "execute_result"
    }
   ],
   "source": [
    "gmfd.head()"
   ]
  },
  {
   "cell_type": "code",
   "execution_count": 22,
   "metadata": {},
   "outputs": [],
   "source": [
    "# USDA only\n",
    "usda_nat = pd.merge(usda_weights.filter([\"GEOID\",\"year\",\"national_weight\"]), usda.reset_index().filter([\"GEOID\",\"year\",\"target_Value\"]), on = [\"GEOID\",\"year\"], how = \"outer\")\n",
    "usda_nat[\"yield_USDA_nationally_weighted\"] = usda_nat[\"national_weight\"] * usda_nat[\"target_Value\"]\n",
    "usda_nat = usda_nat.groupby(\"year\").sum().drop(columns = [\"national_weight\", \"target_Value\"])"
   ]
  },
  {
   "cell_type": "code",
   "execution_count": 24,
   "metadata": {},
   "outputs": [],
   "source": [
    "# Merge\n",
    "gmfd_all = pd.merge(gmfd.reset_index(), usda_weights, left_on = [\"GEOID\", \"Year\"], right_on = [\"GEOID\", \"year\"], how = \"inner\", copy = False).drop_duplicates()\n",
    "gmfd_all = pd.merge(gmfd_all, usda, left_on = [\"GEOID\", \"Year\", \"Value\", \"area\"], right_on = [\"GEOID\", \"year\", \"Value\", \"area\"], how = \"inner\", copy = False).drop_duplicates()"
   ]
  },
  {
   "cell_type": "code",
   "execution_count": 25,
   "metadata": {},
   "outputs": [
    {
     "data": {
      "text/html": [
       "<div>\n",
       "<style scoped>\n",
       "    .dataframe tbody tr th:only-of-type {\n",
       "        vertical-align: middle;\n",
       "    }\n",
       "\n",
       "    .dataframe tbody tr th {\n",
       "        vertical-align: top;\n",
       "    }\n",
       "\n",
       "    .dataframe thead th {\n",
       "        text-align: right;\n",
       "    }\n",
       "</style>\n",
       "<table border=\"1\" class=\"dataframe\">\n",
       "  <thead>\n",
       "    <tr style=\"text-align: right;\">\n",
       "      <th></th>\n",
       "      <th>GEOID</th>\n",
       "      <th>Year</th>\n",
       "      <th>projected</th>\n",
       "      <th>projected_offset</th>\n",
       "      <th>year</th>\n",
       "      <th>Value</th>\n",
       "      <th>area</th>\n",
       "      <th>national_weight</th>\n",
       "      <th>state_fips_code</th>\n",
       "      <th>county_code</th>\n",
       "      <th>asd_code</th>\n",
       "      <th>log_Value</th>\n",
       "      <th>lowess_log_Value</th>\n",
       "      <th>target_Value</th>\n",
       "    </tr>\n",
       "  </thead>\n",
       "  <tbody>\n",
       "    <tr>\n",
       "      <th>0</th>\n",
       "      <td>01001</td>\n",
       "      <td>1956</td>\n",
       "      <td>0.268606</td>\n",
       "      <td>-0.217247</td>\n",
       "      <td>1956</td>\n",
       "      <td>24.0</td>\n",
       "      <td>21100.0</td>\n",
       "      <td>0.000169</td>\n",
       "      <td>01</td>\n",
       "      <td>001</td>\n",
       "      <td>40</td>\n",
       "      <td>3.178054</td>\n",
       "      <td>3.134604</td>\n",
       "      <td>0.043450</td>\n",
       "    </tr>\n",
       "    <tr>\n",
       "      <th>1</th>\n",
       "      <td>01001</td>\n",
       "      <td>1957</td>\n",
       "      <td>0.411497</td>\n",
       "      <td>-0.074357</td>\n",
       "      <td>1957</td>\n",
       "      <td>22.0</td>\n",
       "      <td>22300.0</td>\n",
       "      <td>0.000168</td>\n",
       "      <td>01</td>\n",
       "      <td>001</td>\n",
       "      <td>40</td>\n",
       "      <td>3.091042</td>\n",
       "      <td>3.168767</td>\n",
       "      <td>-0.077725</td>\n",
       "    </tr>\n",
       "    <tr>\n",
       "      <th>2</th>\n",
       "      <td>01001</td>\n",
       "      <td>1958</td>\n",
       "      <td>0.471879</td>\n",
       "      <td>-0.013974</td>\n",
       "      <td>1958</td>\n",
       "      <td>32.0</td>\n",
       "      <td>22600.0</td>\n",
       "      <td>0.000221</td>\n",
       "      <td>01</td>\n",
       "      <td>001</td>\n",
       "      <td>40</td>\n",
       "      <td>3.465736</td>\n",
       "      <td>3.202644</td>\n",
       "      <td>0.263092</td>\n",
       "    </tr>\n",
       "    <tr>\n",
       "      <th>3</th>\n",
       "      <td>01001</td>\n",
       "      <td>1959</td>\n",
       "      <td>0.286835</td>\n",
       "      <td>-0.199019</td>\n",
       "      <td>1959</td>\n",
       "      <td>25.0</td>\n",
       "      <td>20800.0</td>\n",
       "      <td>0.000140</td>\n",
       "      <td>01</td>\n",
       "      <td>001</td>\n",
       "      <td>40</td>\n",
       "      <td>3.218876</td>\n",
       "      <td>3.236253</td>\n",
       "      <td>-0.017377</td>\n",
       "    </tr>\n",
       "    <tr>\n",
       "      <th>4</th>\n",
       "      <td>01001</td>\n",
       "      <td>1960</td>\n",
       "      <td>0.329027</td>\n",
       "      <td>-0.156826</td>\n",
       "      <td>1960</td>\n",
       "      <td>28.0</td>\n",
       "      <td>20100.0</td>\n",
       "      <td>0.000147</td>\n",
       "      <td>01</td>\n",
       "      <td>001</td>\n",
       "      <td>40</td>\n",
       "      <td>3.332205</td>\n",
       "      <td>3.269607</td>\n",
       "      <td>0.062597</td>\n",
       "    </tr>\n",
       "  </tbody>\n",
       "</table>\n",
       "</div>"
      ],
      "text/plain": [
       "   GEOID  Year  projected  projected_offset  year  Value     area  \\\n",
       "0  01001  1956   0.268606         -0.217247  1956   24.0  21100.0   \n",
       "1  01001  1957   0.411497         -0.074357  1957   22.0  22300.0   \n",
       "2  01001  1958   0.471879         -0.013974  1958   32.0  22600.0   \n",
       "3  01001  1959   0.286835         -0.199019  1959   25.0  20800.0   \n",
       "4  01001  1960   0.329027         -0.156826  1960   28.0  20100.0   \n",
       "\n",
       "   national_weight state_fips_code county_code  asd_code  log_Value  \\\n",
       "0         0.000169              01         001        40   3.178054   \n",
       "1         0.000168              01         001        40   3.091042   \n",
       "2         0.000221              01         001        40   3.465736   \n",
       "3         0.000140              01         001        40   3.218876   \n",
       "4         0.000147              01         001        40   3.332205   \n",
       "\n",
       "   lowess_log_Value  target_Value  \n",
       "0          3.134604      0.043450  \n",
       "1          3.168767     -0.077725  \n",
       "2          3.202644      0.263092  \n",
       "3          3.236253     -0.017377  \n",
       "4          3.269607      0.062597  "
      ]
     },
     "execution_count": 25,
     "metadata": {},
     "output_type": "execute_result"
    }
   ],
   "source": [
    "gmfd_all.head()"
   ]
  },
  {
   "cell_type": "code",
   "execution_count": 26,
   "metadata": {},
   "outputs": [],
   "source": [
    "# Calculate weighted yields\n",
    "gmfd_all[\"yield_model_nationally_weighted\"] = gmfd_all[\"national_weight\"] * gmfd_all[\"projected_offset\"]\n",
    "gmfd_all[\"yield_USDA_nationally_weighted\"] = gmfd_all[\"national_weight\"] * gmfd_all[\"target_Value\"]\n",
    "gmfd_all[\"log_Value_nationally_weighted\"] = gmfd_all[\"national_weight\"] * gmfd_all[\"log_Value\"]"
   ]
  },
  {
   "cell_type": "code",
   "execution_count": 27,
   "metadata": {},
   "outputs": [],
   "source": [
    "# Per year\n",
    "gmfd_national = gmfd_all.groupby(\"Year\").sum().drop(columns = [\"year\", \"national_weight\", \"log_Value\", \"projected\", \"projected_offset\", \"Value\", \"area\", \"lowess_log_Value\", \"target_Value\", \"asd_code\"])"
   ]
  },
  {
   "cell_type": "code",
   "execution_count": 28,
   "metadata": {},
   "outputs": [
    {
     "data": {
      "image/png": "[encoded data removed]",
      "text/plain": [
       "<Figure size 1080x576 with 1 Axes>"
      ]
     },
     "metadata": {
      "needs_background": "light"
     },
     "output_type": "display_data"
    }
   ],
   "source": [
    "fig, ax = plt.subplots(1,1, figsize = (15,8))\n",
    "ax.set_xlabel(\"Year\")\n",
    "ax.set_ylabel(\"Log(Yield) Shock [Bu/Acre]\")\n",
    "gmfd_national.reset_index().plot(x = \"Year\", y = \"yield_USDA_nationally_weighted\", ax = ax, label = \"USDA\", color = \"C3\")\n",
    "gmfd_national.reset_index().plot(x = \"Year\", y = \"yield_model_nationally_weighted\", ax = ax, label = \"GMFD\", color = \"C0\")\n",
    "plt.legend()\n",
    "plt.tight_layout()\n",
    "plt.show()"
   ]
  },
  {
   "cell_type": "code",
   "execution_count": 29,
   "metadata": {},
   "outputs": [
    {
     "data": {
      "text/plain": [
       "SpearmanrResult(correlation=0.5748810153358012, pvalue=1.2634184122066368e-06)"
      ]
     },
     "execution_count": 29,
     "metadata": {},
     "output_type": "execute_result"
    }
   ],
   "source": [
    "# Rank correlation\n",
    "ss.spearmanr(gmfd_national[\"yield_USDA_nationally_weighted\"], gmfd_national[\"yield_model_nationally_weighted\"])"
   ]
  },
  {
   "cell_type": "code",
   "execution_count": 30,
   "metadata": {},
   "outputs": [
    {
     "data": {
      "text/plain": [
       "(0.6962469604125939, 4.665778733271506e-10)"
      ]
     },
     "execution_count": 30,
     "metadata": {},
     "output_type": "execute_result"
    }
   ],
   "source": [
    "# Linear correlation\n",
    "ss.pearsonr(gmfd_national[\"yield_USDA_nationally_weighted\"], gmfd_national[\"yield_model_nationally_weighted\"])"
   ]
  },
  {
   "cell_type": "code",
   "execution_count": 33,
   "metadata": {},
   "outputs": [
    {
     "data": {
      "text/plain": [
       "0.6132369192655361"
      ]
     },
     "execution_count": 33,
     "metadata": {},
     "output_type": "execute_result"
    }
   ],
   "source": [
    "# R^2\n",
    "r2_score(gmfd_national[\"yield_USDA_nationally_weighted\"][-38:], gmfd_national[\"yield_model_nationally_weighted\"][-38:])"
   ]
  },
  {
   "cell_type": "code",
   "execution_count": 36,
   "metadata": {},
   "outputs": [
    {
     "data": {
      "text/plain": [
       "0.07340995955960362"
      ]
     },
     "execution_count": 36,
     "metadata": {},
     "output_type": "execute_result"
    }
   ],
   "source": [
    "# RMSE\n",
    "np.sqrt(mean_squared_error(gmfd_national[\"yield_USDA_nationally_weighted\"][:-11], gmfd_national[\"yield_model_nationally_weighted\"][:-11]))"
   ]
  },
  {
   "cell_type": "code",
   "execution_count": 37,
   "metadata": {},
   "outputs": [
    {
     "data": {
      "text/plain": [
       "0.7790732210782713"
      ]
     },
     "execution_count": 37,
     "metadata": {},
     "output_type": "execute_result"
    }
   ],
   "source": [
    "# SD ratio\n",
    "gmfd_national[\"yield_model_nationally_weighted\"][:-11].std() / gmfd_national[\"yield_USDA_nationally_weighted\"][:-11].std()"
   ]
  },
  {
   "cell_type": "markdown",
   "metadata": {},
   "source": [
    "### No significant differences!"
   ]
  },
  {
   "cell_type": "code",
   "execution_count": null,
   "metadata": {},
   "outputs": [],
   "source": []
  }
 ],
 "metadata": {
  "kernelspec": {
   "display_name": "Python 3",
   "language": "python",
   "name": "python3"
  },
  "language_info": {
   "codemirror_mode": {
    "name": "ipython",
    "version": 3
   },
   "file_extension": ".py",
   "mimetype": "text/x-python",
   "name": "python",
   "nbconvert_exporter": "python",
   "pygments_lexer": "ipython3",
   "version": "3.7.6"
  }
 },
 "nbformat": 4,
 "nbformat_minor": 4
}
