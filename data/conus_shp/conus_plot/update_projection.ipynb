{
 "cells": [
  {
   "cell_type": "markdown",
   "metadata": {},
   "source": [
    "### Updating the CONUS projection for a nicer plot"
   ]
  },
  {
   "cell_type": "code",
   "execution_count": 2,
   "metadata": {},
   "outputs": [],
   "source": [
    "import matplotlib.pyplot as plt\n",
    "import numpy as np\n",
    "import pandas as pd\n",
    "import geopandas as gp\n",
    "import earthpy.clip as ec"
   ]
  },
  {
   "cell_type": "code",
   "execution_count": 3,
   "metadata": {},
   "outputs": [],
   "source": [
    "# Get county shapefile\n",
    "county = gp.read_file(\"../conus/contig_county/counties_contig.shp\")\n",
    "county[\"GEOID\"] = county[\"GEOID\"].astype(str).str.zfill(5)"
   ]
  },
  {
   "cell_type": "code",
   "execution_count": 4,
   "metadata": {},
   "outputs": [],
   "source": [
    "states = gp.read_file(\"../conus/contig_states/CONUS_states.shp\")"
   ]
  },
  {
   "cell_type": "code",
   "execution_count": 6,
   "metadata": {},
   "outputs": [],
   "source": [
    "coast = gp.read_file(\"../conus_dissolved/usa-boundary-dissolved.shp\")"
   ]
  },
  {
   "cell_type": "code",
   "execution_count": null,
   "metadata": {},
   "outputs": [],
   "source": [
    "# Update CRS for better US shape\n",
    "county = county.to_crs({'init': 'epsg:2163'})\n",
    "coast = coast.to_crs({'init': 'epsg:2163'})\n",
    "states = states.to_crs({'init': 'epsg:2163'})\n",
    "\n",
    "# Clip \n",
    "county = ec.clip_shp(county, coast.envelope)\n",
    "county.crs = {'init': 'epsg:2163'}\n",
    "county = gp.overlay(county, states, how = \"intersection\")\n",
    "county = county.filter([\"GEOID\", \"geometry\"])"
   ]
  },
  {
   "cell_type": "code",
   "execution_count": null,
   "metadata": {},
   "outputs": [],
   "source": [
    "# Check\n",
    "county.plot()"
   ]
  },
  {
   "cell_type": "code",
   "execution_count": null,
   "metadata": {},
   "outputs": [],
   "source": [
    "# Save\n",
    "county.to"
   ]
  }
 ],
 "metadata": {
  "kernelspec": {
   "display_name": "Python 3",
   "language": "python",
   "name": "python3"
  },
  "language_info": {
   "codemirror_mode": {
    "name": "ipython",
    "version": 3
   },
   "file_extension": ".py",
   "mimetype": "text/x-python",
   "name": "python",
   "nbconvert_exporter": "python",
   "pygments_lexer": "ipython3",
   "version": "3.7.3"
  }
 },
 "nbformat": 4,
 "nbformat_minor": 2
}
