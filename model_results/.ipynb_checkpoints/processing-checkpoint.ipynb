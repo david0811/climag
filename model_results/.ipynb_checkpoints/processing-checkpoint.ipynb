{
 "cells": [
  {
   "cell_type": "markdown",
   "metadata": {},
   "source": [
    "# Processing model results"
   ]
  },
  {
   "cell_type": "code",
   "execution_count": 2,
   "metadata": {},
   "outputs": [],
   "source": [
    "import pandas as pd\n",
    "import matplotlib.pyplot as plt\n",
    "import numpy as np\n",
    "import xarray as xr\n",
    "\n",
    "%matplotlib inline\n",
    "plt.rcParams.update({'font.size': 24})\n",
    "\n",
    "import seaborn as sns\n",
    "sns.set()"
   ]
  },
  {
   "cell_type": "markdown",
   "metadata": {},
   "source": [
    "### USDA: area weights"
   ]
  },
  {
   "cell_type": "code",
   "execution_count": 47,
   "metadata": {},
   "outputs": [],
   "source": [
    "# Read in USDA data\n",
    "usda = pd.read_csv(\"../usda_yields/output/USDA_county_yields.csv\")\n",
    "usda[\"GEOID\"] = usda[\"GEOID\"].astype(str).str.zfill(7)\n",
    "usda[\"state_fips_code\"] = usda[\"state_fips_code\"].astype(str).str.zfill(2)\n",
    "usda[\"county_code\"] = usda[\"county_code\"].astype(str).str.zfill(3)"
   ]
  },
  {
   "cell_type": "code",
   "execution_count": 48,
   "metadata": {
    "scrolled": true
   },
   "outputs": [
    {
     "data": {
      "text/html": [
       "<div>\n",
       "<style scoped>\n",
       "    .dataframe tbody tr th:only-of-type {\n",
       "        vertical-align: middle;\n",
       "    }\n",
       "\n",
       "    .dataframe tbody tr th {\n",
       "        vertical-align: top;\n",
       "    }\n",
       "\n",
       "    .dataframe thead th {\n",
       "        text-align: right;\n",
       "    }\n",
       "</style>\n",
       "<table border=\"1\" class=\"dataframe\">\n",
       "  <thead>\n",
       "    <tr style=\"text-align: right;\">\n",
       "      <th></th>\n",
       "      <th>GEOID</th>\n",
       "      <th>year</th>\n",
       "      <th>state_fips_code</th>\n",
       "      <th>county_code</th>\n",
       "      <th>asd_code</th>\n",
       "      <th>Value</th>\n",
       "      <th>area</th>\n",
       "    </tr>\n",
       "  </thead>\n",
       "  <tbody>\n",
       "    <tr>\n",
       "      <th>0</th>\n",
       "      <td>0100140</td>\n",
       "      <td>1950</td>\n",
       "      <td>01</td>\n",
       "      <td>001</td>\n",
       "      <td>40</td>\n",
       "      <td>17.0</td>\n",
       "      <td>29600.0</td>\n",
       "    </tr>\n",
       "    <tr>\n",
       "      <th>1</th>\n",
       "      <td>0101140</td>\n",
       "      <td>1950</td>\n",
       "      <td>01</td>\n",
       "      <td>011</td>\n",
       "      <td>40</td>\n",
       "      <td>11.0</td>\n",
       "      <td>24200.0</td>\n",
       "    </tr>\n",
       "    <tr>\n",
       "      <th>2</th>\n",
       "      <td>0104740</td>\n",
       "      <td>1950</td>\n",
       "      <td>01</td>\n",
       "      <td>047</td>\n",
       "      <td>40</td>\n",
       "      <td>13.0</td>\n",
       "      <td>44200.0</td>\n",
       "    </tr>\n",
       "    <tr>\n",
       "      <th>3</th>\n",
       "      <td>0105140</td>\n",
       "      <td>1950</td>\n",
       "      <td>01</td>\n",
       "      <td>051</td>\n",
       "      <td>40</td>\n",
       "      <td>23.0</td>\n",
       "      <td>38900.0</td>\n",
       "    </tr>\n",
       "    <tr>\n",
       "      <th>4</th>\n",
       "      <td>0106340</td>\n",
       "      <td>1950</td>\n",
       "      <td>01</td>\n",
       "      <td>063</td>\n",
       "      <td>40</td>\n",
       "      <td>16.0</td>\n",
       "      <td>23900.0</td>\n",
       "    </tr>\n",
       "  </tbody>\n",
       "</table>\n",
       "</div>"
      ],
      "text/plain": [
       "     GEOID  year state_fips_code county_code  asd_code  Value     area\n",
       "0  0100140  1950              01         001        40   17.0  29600.0\n",
       "1  0101140  1950              01         011        40   11.0  24200.0\n",
       "2  0104740  1950              01         047        40   13.0  44200.0\n",
       "3  0105140  1950              01         051        40   23.0  38900.0\n",
       "4  0106340  1950              01         063        40   16.0  23900.0"
      ]
     },
     "execution_count": 48,
     "metadata": {},
     "output_type": "execute_result"
    }
   ],
   "source": [
    "usda.head()"
   ]
  },
  {
   "cell_type": "code",
   "execution_count": 49,
   "metadata": {},
   "outputs": [],
   "source": [
    "# Re-normalise areas by year\n",
    "norm = []\n",
    "for time in usda[\"year\"].unique():\n",
    "    norm.append(usda[usda.year == time][\"area\"].sum())\n",
    "    \n",
    "norm = pd.DataFrame(data = {\"area_sum\" : pd.Series(norm), \"year\" : usda[\"year\"].unique()})\n",
    "\n",
    "usda = pd.merge(usda, norm, on = [\"year\"], how = \"outer\")\n",
    "\n",
    "usda[\"weighted_area_national\"] = usda[\"area\"] / usda[\"area_sum\"]\n",
    "del usda[\"area_sum\"]"
   ]
  },
  {
   "cell_type": "code",
   "execution_count": 50,
   "metadata": {},
   "outputs": [
    {
     "data": {
      "text/html": [
       "<div>\n",
       "<style scoped>\n",
       "    .dataframe tbody tr th:only-of-type {\n",
       "        vertical-align: middle;\n",
       "    }\n",
       "\n",
       "    .dataframe tbody tr th {\n",
       "        vertical-align: top;\n",
       "    }\n",
       "\n",
       "    .dataframe thead th {\n",
       "        text-align: right;\n",
       "    }\n",
       "</style>\n",
       "<table border=\"1\" class=\"dataframe\">\n",
       "  <thead>\n",
       "    <tr style=\"text-align: right;\">\n",
       "      <th></th>\n",
       "      <th>GEOID</th>\n",
       "      <th>year</th>\n",
       "      <th>state_fips_code</th>\n",
       "      <th>county_code</th>\n",
       "      <th>asd_code</th>\n",
       "      <th>Value</th>\n",
       "      <th>area</th>\n",
       "      <th>weighted_area_national</th>\n",
       "    </tr>\n",
       "  </thead>\n",
       "  <tbody>\n",
       "    <tr>\n",
       "      <th>0</th>\n",
       "      <td>0100140</td>\n",
       "      <td>1950</td>\n",
       "      <td>01</td>\n",
       "      <td>001</td>\n",
       "      <td>40</td>\n",
       "      <td>17.0</td>\n",
       "      <td>29600.0</td>\n",
       "      <td>0.000318</td>\n",
       "    </tr>\n",
       "    <tr>\n",
       "      <th>1</th>\n",
       "      <td>0101140</td>\n",
       "      <td>1950</td>\n",
       "      <td>01</td>\n",
       "      <td>011</td>\n",
       "      <td>40</td>\n",
       "      <td>11.0</td>\n",
       "      <td>24200.0</td>\n",
       "      <td>0.000260</td>\n",
       "    </tr>\n",
       "    <tr>\n",
       "      <th>2</th>\n",
       "      <td>0104740</td>\n",
       "      <td>1950</td>\n",
       "      <td>01</td>\n",
       "      <td>047</td>\n",
       "      <td>40</td>\n",
       "      <td>13.0</td>\n",
       "      <td>44200.0</td>\n",
       "      <td>0.000475</td>\n",
       "    </tr>\n",
       "    <tr>\n",
       "      <th>3</th>\n",
       "      <td>0105140</td>\n",
       "      <td>1950</td>\n",
       "      <td>01</td>\n",
       "      <td>051</td>\n",
       "      <td>40</td>\n",
       "      <td>23.0</td>\n",
       "      <td>38900.0</td>\n",
       "      <td>0.000418</td>\n",
       "    </tr>\n",
       "    <tr>\n",
       "      <th>4</th>\n",
       "      <td>0106340</td>\n",
       "      <td>1950</td>\n",
       "      <td>01</td>\n",
       "      <td>063</td>\n",
       "      <td>40</td>\n",
       "      <td>16.0</td>\n",
       "      <td>23900.0</td>\n",
       "      <td>0.000257</td>\n",
       "    </tr>\n",
       "  </tbody>\n",
       "</table>\n",
       "</div>"
      ],
      "text/plain": [
       "     GEOID  year state_fips_code county_code  asd_code  Value     area  \\\n",
       "0  0100140  1950              01         001        40   17.0  29600.0   \n",
       "1  0101140  1950              01         011        40   11.0  24200.0   \n",
       "2  0104740  1950              01         047        40   13.0  44200.0   \n",
       "3  0105140  1950              01         051        40   23.0  38900.0   \n",
       "4  0106340  1950              01         063        40   16.0  23900.0   \n",
       "\n",
       "   weighted_area_national  \n",
       "0                0.000318  \n",
       "1                0.000260  \n",
       "2                0.000475  \n",
       "3                0.000418  \n",
       "4                0.000257  "
      ]
     },
     "execution_count": 50,
     "metadata": {},
     "output_type": "execute_result"
    }
   ],
   "source": [
    "usda.head()"
   ]
  },
  {
   "cell_type": "code",
   "execution_count": 52,
   "metadata": {},
   "outputs": [],
   "source": [
    "# Save\n",
    "usda.to_csv(\"./output/usda_county_yields_area_norm.csv\", index = False)"
   ]
  },
  {
   "cell_type": "markdown",
   "metadata": {},
   "source": [
    "### USDA: add state trends to county data"
   ]
  },
  {
   "cell_type": "code",
   "execution_count": 35,
   "metadata": {},
   "outputs": [],
   "source": [
    "# Load USDA data\n",
    "usda_county = pd.read_csv(\"../usda_yields/output/USDA_county_yields.csv\")\n",
    "usda_state = pd.read_csv(\"../usda_yields/output/USDA_state_yields.csv\")\n",
    "usda_state = usda_state.rename(columns = {\"Value\" : \"state_Value\", \"lowess_log_Value\" : \"lowess_log_state_Value\"})"
   ]
  },
  {
   "cell_type": "code",
   "execution_count": 36,
   "metadata": {},
   "outputs": [],
   "source": [
    "# Add logs\n",
    "usda_county[\"Log_value\"] = usda_county.apply(lambda x: np.log(x[\"Value\"]) if x[\"Value\"] > 0.0 else 0.0, axis = 1)"
   ]
  },
  {
   "cell_type": "code",
   "execution_count": 37,
   "metadata": {},
   "outputs": [],
   "source": [
    "# Merge\n",
    "usda_final = pd.merge(usda_county, usda_state.drop(columns = [\"state_alpha\", \"Area\", \"log_Value\"]), on = [\"state_fips_code\", \"year\"], how = \"inner\", copy = False)\n",
    "usda_final[\"GEOID\"] = usda_final[\"GEOID\"].astype(str).str[:-2].str.zfill(5)"
   ]
  },
  {
   "cell_type": "code",
   "execution_count": 41,
   "metadata": {},
   "outputs": [],
   "source": [
    "# Get differences\n",
    "usda_final[\"target_Value\"] = usda_final[\"Log_value\"] - usda_final[\"lowess_log_state_Value\"]"
   ]
  },
  {
   "cell_type": "code",
   "execution_count": 48,
   "metadata": {},
   "outputs": [
    {
     "data": {
      "text/html": [
       "<div>\n",
       "<style scoped>\n",
       "    .dataframe tbody tr th:only-of-type {\n",
       "        vertical-align: middle;\n",
       "    }\n",
       "\n",
       "    .dataframe tbody tr th {\n",
       "        vertical-align: top;\n",
       "    }\n",
       "\n",
       "    .dataframe thead th {\n",
       "        text-align: right;\n",
       "    }\n",
       "</style>\n",
       "<table border=\"1\" class=\"dataframe\">\n",
       "  <thead>\n",
       "    <tr style=\"text-align: right;\">\n",
       "      <th></th>\n",
       "      <th>GEOID</th>\n",
       "      <th>year</th>\n",
       "      <th>state_fips_code</th>\n",
       "      <th>county_code</th>\n",
       "      <th>asd_code</th>\n",
       "      <th>Value</th>\n",
       "      <th>area</th>\n",
       "      <th>Log_value</th>\n",
       "      <th>state_Value</th>\n",
       "      <th>lowess_log_state_Value</th>\n",
       "      <th>target_Value</th>\n",
       "    </tr>\n",
       "  </thead>\n",
       "  <tbody>\n",
       "    <tr>\n",
       "      <th>0</th>\n",
       "      <td>01001</td>\n",
       "      <td>1950</td>\n",
       "      <td>1</td>\n",
       "      <td>1</td>\n",
       "      <td>40</td>\n",
       "      <td>17.0</td>\n",
       "      <td>29600.0</td>\n",
       "      <td>2.833213</td>\n",
       "      <td>21.5</td>\n",
       "      <td>3.033747</td>\n",
       "      <td>-0.200534</td>\n",
       "    </tr>\n",
       "    <tr>\n",
       "      <th>1</th>\n",
       "      <td>01011</td>\n",
       "      <td>1950</td>\n",
       "      <td>1</td>\n",
       "      <td>11</td>\n",
       "      <td>40</td>\n",
       "      <td>11.0</td>\n",
       "      <td>24200.0</td>\n",
       "      <td>2.397895</td>\n",
       "      <td>21.5</td>\n",
       "      <td>3.033747</td>\n",
       "      <td>-0.635852</td>\n",
       "    </tr>\n",
       "    <tr>\n",
       "      <th>2</th>\n",
       "      <td>01047</td>\n",
       "      <td>1950</td>\n",
       "      <td>1</td>\n",
       "      <td>47</td>\n",
       "      <td>40</td>\n",
       "      <td>13.0</td>\n",
       "      <td>44200.0</td>\n",
       "      <td>2.564949</td>\n",
       "      <td>21.5</td>\n",
       "      <td>3.033747</td>\n",
       "      <td>-0.468798</td>\n",
       "    </tr>\n",
       "    <tr>\n",
       "      <th>3</th>\n",
       "      <td>01051</td>\n",
       "      <td>1950</td>\n",
       "      <td>1</td>\n",
       "      <td>51</td>\n",
       "      <td>40</td>\n",
       "      <td>23.0</td>\n",
       "      <td>38900.0</td>\n",
       "      <td>3.135494</td>\n",
       "      <td>21.5</td>\n",
       "      <td>3.033747</td>\n",
       "      <td>0.101747</td>\n",
       "    </tr>\n",
       "    <tr>\n",
       "      <th>4</th>\n",
       "      <td>01063</td>\n",
       "      <td>1950</td>\n",
       "      <td>1</td>\n",
       "      <td>63</td>\n",
       "      <td>40</td>\n",
       "      <td>16.0</td>\n",
       "      <td>23900.0</td>\n",
       "      <td>2.772589</td>\n",
       "      <td>21.5</td>\n",
       "      <td>3.033747</td>\n",
       "      <td>-0.261158</td>\n",
       "    </tr>\n",
       "  </tbody>\n",
       "</table>\n",
       "</div>"
      ],
      "text/plain": [
       "   GEOID  year  state_fips_code  county_code  asd_code  Value     area  \\\n",
       "0  01001  1950                1            1        40   17.0  29600.0   \n",
       "1  01011  1950                1           11        40   11.0  24200.0   \n",
       "2  01047  1950                1           47        40   13.0  44200.0   \n",
       "3  01051  1950                1           51        40   23.0  38900.0   \n",
       "4  01063  1950                1           63        40   16.0  23900.0   \n",
       "\n",
       "   Log_value  state_Value  lowess_log_state_Value  target_Value  \n",
       "0   2.833213         21.5                3.033747     -0.200534  \n",
       "1   2.397895         21.5                3.033747     -0.635852  \n",
       "2   2.564949         21.5                3.033747     -0.468798  \n",
       "3   3.135494         21.5                3.033747      0.101747  \n",
       "4   2.772589         21.5                3.033747     -0.261158  "
      ]
     },
     "execution_count": 48,
     "metadata": {},
     "output_type": "execute_result"
    }
   ],
   "source": [
    "usda_final.head()"
   ]
  },
  {
   "cell_type": "code",
   "execution_count": 49,
   "metadata": {},
   "outputs": [],
   "source": [
    "usda_final.to_csv(\"./output/USDA_county_yields_w_state_trends.csv\", index = False)"
   ]
  },
  {
   "cell_type": "markdown",
   "metadata": {},
   "source": [
    "### GMFD"
   ]
  },
  {
   "cell_type": "code",
   "execution_count": 60,
   "metadata": {},
   "outputs": [],
   "source": [
    "# Load GMFD data\n",
    "gmfd = pd.read_csv(\"../model_results/data/yield_historical_gmfd.csv\")\n",
    "gmfd[\"GEOID\"] = gmfd[\"GEOID\"].astype(str).str.zfill(5)"
   ]
  },
  {
   "cell_type": "code",
   "execution_count": 61,
   "metadata": {},
   "outputs": [
    {
     "data": {
      "text/html": [
       "<div>\n",
       "<style scoped>\n",
       "    .dataframe tbody tr th:only-of-type {\n",
       "        vertical-align: middle;\n",
       "    }\n",
       "\n",
       "    .dataframe tbody tr th {\n",
       "        vertical-align: top;\n",
       "    }\n",
       "\n",
       "    .dataframe thead th {\n",
       "        text-align: right;\n",
       "    }\n",
       "</style>\n",
       "<table border=\"1\" class=\"dataframe\">\n",
       "  <thead>\n",
       "    <tr style=\"text-align: right;\">\n",
       "      <th></th>\n",
       "      <th>GEOID</th>\n",
       "      <th>Year</th>\n",
       "      <th>projected</th>\n",
       "    </tr>\n",
       "  </thead>\n",
       "  <tbody>\n",
       "    <tr>\n",
       "      <th>0</th>\n",
       "      <td>01001</td>\n",
       "      <td>1960</td>\n",
       "      <td>0.320877</td>\n",
       "    </tr>\n",
       "    <tr>\n",
       "      <th>1</th>\n",
       "      <td>01001</td>\n",
       "      <td>1961</td>\n",
       "      <td>0.572987</td>\n",
       "    </tr>\n",
       "    <tr>\n",
       "      <th>2</th>\n",
       "      <td>01001</td>\n",
       "      <td>1962</td>\n",
       "      <td>0.098347</td>\n",
       "    </tr>\n",
       "    <tr>\n",
       "      <th>3</th>\n",
       "      <td>01001</td>\n",
       "      <td>1963</td>\n",
       "      <td>0.348475</td>\n",
       "    </tr>\n",
       "    <tr>\n",
       "      <th>4</th>\n",
       "      <td>01001</td>\n",
       "      <td>1964</td>\n",
       "      <td>0.413410</td>\n",
       "    </tr>\n",
       "  </tbody>\n",
       "</table>\n",
       "</div>"
      ],
      "text/plain": [
       "   GEOID  Year  projected\n",
       "0  01001  1960   0.320877\n",
       "1  01001  1961   0.572987\n",
       "2  01001  1962   0.098347\n",
       "3  01001  1963   0.348475\n",
       "4  01001  1964   0.413410"
      ]
     },
     "execution_count": 61,
     "metadata": {},
     "output_type": "execute_result"
    }
   ],
   "source": [
    "gmfd.head()"
   ]
  },
  {
   "cell_type": "code",
   "execution_count": 53,
   "metadata": {},
   "outputs": [],
   "source": [
    "# Read in USDA data\n",
    "usda = pd.read_csv(\"./output/USDA_county_yields_w_state_trends.csv\")\n",
    "usda[\"GEOID\"] = usda[\"GEOID\"].astype(str).str.zfill(5)"
   ]
  },
  {
   "cell_type": "code",
   "execution_count": 55,
   "metadata": {},
   "outputs": [
    {
     "data": {
      "text/html": [
       "<div>\n",
       "<style scoped>\n",
       "    .dataframe tbody tr th:only-of-type {\n",
       "        vertical-align: middle;\n",
       "    }\n",
       "\n",
       "    .dataframe tbody tr th {\n",
       "        vertical-align: top;\n",
       "    }\n",
       "\n",
       "    .dataframe thead th {\n",
       "        text-align: right;\n",
       "    }\n",
       "</style>\n",
       "<table border=\"1\" class=\"dataframe\">\n",
       "  <thead>\n",
       "    <tr style=\"text-align: right;\">\n",
       "      <th></th>\n",
       "      <th>GEOID</th>\n",
       "      <th>year</th>\n",
       "      <th>state_fips_code</th>\n",
       "      <th>county_code</th>\n",
       "      <th>asd_code</th>\n",
       "      <th>Value</th>\n",
       "      <th>area</th>\n",
       "      <th>Log_value</th>\n",
       "      <th>state_Value</th>\n",
       "      <th>lowess_log_state_Value</th>\n",
       "      <th>target_Value</th>\n",
       "    </tr>\n",
       "  </thead>\n",
       "  <tbody>\n",
       "    <tr>\n",
       "      <th>0</th>\n",
       "      <td>01001</td>\n",
       "      <td>1950</td>\n",
       "      <td>1</td>\n",
       "      <td>1</td>\n",
       "      <td>40</td>\n",
       "      <td>17.0</td>\n",
       "      <td>29600.0</td>\n",
       "      <td>2.833213</td>\n",
       "      <td>21.5</td>\n",
       "      <td>3.033747</td>\n",
       "      <td>-0.200534</td>\n",
       "    </tr>\n",
       "    <tr>\n",
       "      <th>1</th>\n",
       "      <td>01011</td>\n",
       "      <td>1950</td>\n",
       "      <td>1</td>\n",
       "      <td>11</td>\n",
       "      <td>40</td>\n",
       "      <td>11.0</td>\n",
       "      <td>24200.0</td>\n",
       "      <td>2.397895</td>\n",
       "      <td>21.5</td>\n",
       "      <td>3.033747</td>\n",
       "      <td>-0.635852</td>\n",
       "    </tr>\n",
       "    <tr>\n",
       "      <th>2</th>\n",
       "      <td>01047</td>\n",
       "      <td>1950</td>\n",
       "      <td>1</td>\n",
       "      <td>47</td>\n",
       "      <td>40</td>\n",
       "      <td>13.0</td>\n",
       "      <td>44200.0</td>\n",
       "      <td>2.564949</td>\n",
       "      <td>21.5</td>\n",
       "      <td>3.033747</td>\n",
       "      <td>-0.468798</td>\n",
       "    </tr>\n",
       "    <tr>\n",
       "      <th>3</th>\n",
       "      <td>01051</td>\n",
       "      <td>1950</td>\n",
       "      <td>1</td>\n",
       "      <td>51</td>\n",
       "      <td>40</td>\n",
       "      <td>23.0</td>\n",
       "      <td>38900.0</td>\n",
       "      <td>3.135494</td>\n",
       "      <td>21.5</td>\n",
       "      <td>3.033747</td>\n",
       "      <td>0.101747</td>\n",
       "    </tr>\n",
       "    <tr>\n",
       "      <th>4</th>\n",
       "      <td>01063</td>\n",
       "      <td>1950</td>\n",
       "      <td>1</td>\n",
       "      <td>63</td>\n",
       "      <td>40</td>\n",
       "      <td>16.0</td>\n",
       "      <td>23900.0</td>\n",
       "      <td>2.772589</td>\n",
       "      <td>21.5</td>\n",
       "      <td>3.033747</td>\n",
       "      <td>-0.261158</td>\n",
       "    </tr>\n",
       "  </tbody>\n",
       "</table>\n",
       "</div>"
      ],
      "text/plain": [
       "   GEOID  year  state_fips_code  county_code  asd_code  Value     area  \\\n",
       "0  01001  1950                1            1        40   17.0  29600.0   \n",
       "1  01011  1950                1           11        40   11.0  24200.0   \n",
       "2  01047  1950                1           47        40   13.0  44200.0   \n",
       "3  01051  1950                1           51        40   23.0  38900.0   \n",
       "4  01063  1950                1           63        40   16.0  23900.0   \n",
       "\n",
       "   Log_value  state_Value  lowess_log_state_Value  target_Value  \n",
       "0   2.833213         21.5                3.033747     -0.200534  \n",
       "1   2.397895         21.5                3.033747     -0.635852  \n",
       "2   2.564949         21.5                3.033747     -0.468798  \n",
       "3   3.135494         21.5                3.033747      0.101747  \n",
       "4   2.772589         21.5                3.033747     -0.261158  "
      ]
     },
     "execution_count": 55,
     "metadata": {},
     "output_type": "execute_result"
    }
   ],
   "source": [
    "usda.head()"
   ]
  },
  {
   "cell_type": "code",
   "execution_count": 62,
   "metadata": {},
   "outputs": [],
   "source": [
    "# Combine\n",
    "gmfd = pd.merge(gmfd, usda.drop(columns = [\"state_fips_code\", \"county_code\", \"asd_code\", \"Value\", \"area\", \"Log_value\", \"state_Value\", \"lowess_log_state_Value\"]), left_on = [\"GEOID\", \"Year\"], right_on = [\"GEOID\", \"year\"], how = \"left\", copy = False)\n",
    "del gmfd[\"year\"]"
   ]
  },
  {
   "cell_type": "code",
   "execution_count": 63,
   "metadata": {},
   "outputs": [
    {
     "data": {
      "text/html": [
       "<div>\n",
       "<style scoped>\n",
       "    .dataframe tbody tr th:only-of-type {\n",
       "        vertical-align: middle;\n",
       "    }\n",
       "\n",
       "    .dataframe tbody tr th {\n",
       "        vertical-align: top;\n",
       "    }\n",
       "\n",
       "    .dataframe thead th {\n",
       "        text-align: right;\n",
       "    }\n",
       "</style>\n",
       "<table border=\"1\" class=\"dataframe\">\n",
       "  <thead>\n",
       "    <tr style=\"text-align: right;\">\n",
       "      <th></th>\n",
       "      <th>GEOID</th>\n",
       "      <th>Year</th>\n",
       "      <th>projected</th>\n",
       "      <th>target_Value</th>\n",
       "    </tr>\n",
       "  </thead>\n",
       "  <tbody>\n",
       "    <tr>\n",
       "      <th>0</th>\n",
       "      <td>01001</td>\n",
       "      <td>1960</td>\n",
       "      <td>0.320877</td>\n",
       "      <td>-0.037204</td>\n",
       "    </tr>\n",
       "    <tr>\n",
       "      <th>1</th>\n",
       "      <td>01001</td>\n",
       "      <td>1961</td>\n",
       "      <td>0.572987</td>\n",
       "      <td>0.063065</td>\n",
       "    </tr>\n",
       "    <tr>\n",
       "      <th>2</th>\n",
       "      <td>01001</td>\n",
       "      <td>1962</td>\n",
       "      <td>0.098347</td>\n",
       "      <td>-0.217014</td>\n",
       "    </tr>\n",
       "    <tr>\n",
       "      <th>3</th>\n",
       "      <td>01001</td>\n",
       "      <td>1963</td>\n",
       "      <td>0.348475</td>\n",
       "      <td>0.114450</td>\n",
       "    </tr>\n",
       "    <tr>\n",
       "      <th>4</th>\n",
       "      <td>01001</td>\n",
       "      <td>1964</td>\n",
       "      <td>0.413410</td>\n",
       "      <td>-0.005711</td>\n",
       "    </tr>\n",
       "  </tbody>\n",
       "</table>\n",
       "</div>"
      ],
      "text/plain": [
       "   GEOID  Year  projected  target_Value\n",
       "0  01001  1960   0.320877     -0.037204\n",
       "1  01001  1961   0.572987      0.063065\n",
       "2  01001  1962   0.098347     -0.217014\n",
       "3  01001  1963   0.348475      0.114450\n",
       "4  01001  1964   0.413410     -0.005711"
      ]
     },
     "execution_count": 63,
     "metadata": {},
     "output_type": "execute_result"
    }
   ],
   "source": [
    "gmfd.head()"
   ]
  },
  {
   "cell_type": "code",
   "execution_count": 66,
   "metadata": {
    "scrolled": false
   },
   "outputs": [
    {
     "data": {
      "image/png": "[encoded data removed]",
      "text/plain": [
       "<Figure size 1080x432 with 1 Axes>"
      ]
     },
     "metadata": {
      "needs_background": "light"
     },
     "output_type": "display_data"
    }
   ],
   "source": [
    "# Testing\n",
    "fig, ax = plt.subplots(figsize = (15,6))\n",
    "gmfd.query(\"GEOID == '01001'\").plot(x = \"Year\", y = \"projected\", ax = ax, label = \"model\")\n",
    "gmfd.query(\"GEOID == '01001'\").plot(x = \"Year\", y = \"target_Value\", ax = ax, label = \"USDA\")\n",
    "plt.legend()\n",
    "plt.show()"
   ]
  },
  {
   "cell_type": "code",
   "execution_count": 88,
   "metadata": {},
   "outputs": [],
   "source": [
    "# Offset by means (equivalent to minimising R^2)\n",
    "gmfd.set_index([\"GEOID\", \"Year\"], inplace = True)\n",
    "\n",
    "gmfd[\"projected_offset\"] = gmfd[\"projected\"]\n",
    "\n",
    "for geoid in gmfd.index.unique(level = \"GEOID\"):\n",
    "    model_mean = gmfd.loc[geoid][\"projected\"].mean()\n",
    "    data_mean = gmfd.loc[geoid][\"target_Value\"].mean()\n",
    "    \n",
    "    gmfd.loc[geoid][\"projected_offset\"] = gmfd.loc[geoid][\"projected_offset\"] - model_mean + data_mean"
   ]
  },
  {
   "cell_type": "code",
   "execution_count": 93,
   "metadata": {},
   "outputs": [
    {
     "data": {
      "text/html": [
       "<div>\n",
       "<style scoped>\n",
       "    .dataframe tbody tr th:only-of-type {\n",
       "        vertical-align: middle;\n",
       "    }\n",
       "\n",
       "    .dataframe tbody tr th {\n",
       "        vertical-align: top;\n",
       "    }\n",
       "\n",
       "    .dataframe thead th {\n",
       "        text-align: right;\n",
       "    }\n",
       "</style>\n",
       "<table border=\"1\" class=\"dataframe\">\n",
       "  <thead>\n",
       "    <tr style=\"text-align: right;\">\n",
       "      <th></th>\n",
       "      <th></th>\n",
       "      <th>projected</th>\n",
       "      <th>target_Value</th>\n",
       "      <th>projected_offset</th>\n",
       "    </tr>\n",
       "    <tr>\n",
       "      <th>GEOID</th>\n",
       "      <th>Year</th>\n",
       "      <th></th>\n",
       "      <th></th>\n",
       "      <th></th>\n",
       "    </tr>\n",
       "  </thead>\n",
       "  <tbody>\n",
       "    <tr>\n",
       "      <th rowspan=\"5\" valign=\"top\">56045</th>\n",
       "      <th>2014</th>\n",
       "      <td>0.400217</td>\n",
       "      <td>-4.969848</td>\n",
       "      <td>-1.659131</td>\n",
       "    </tr>\n",
       "    <tr>\n",
       "      <th>2015</th>\n",
       "      <td>0.442177</td>\n",
       "      <td>-4.980827</td>\n",
       "      <td>-1.617171</td>\n",
       "    </tr>\n",
       "    <tr>\n",
       "      <th>2016</th>\n",
       "      <td>0.330661</td>\n",
       "      <td>-4.991814</td>\n",
       "      <td>-1.728687</td>\n",
       "    </tr>\n",
       "    <tr>\n",
       "      <th>2017</th>\n",
       "      <td>0.000000</td>\n",
       "      <td>-5.002815</td>\n",
       "      <td>-2.059348</td>\n",
       "    </tr>\n",
       "    <tr>\n",
       "      <th>2018</th>\n",
       "      <td>0.000000</td>\n",
       "      <td>-5.013837</td>\n",
       "      <td>-2.059348</td>\n",
       "    </tr>\n",
       "  </tbody>\n",
       "</table>\n",
       "</div>"
      ],
      "text/plain": [
       "            projected  target_Value  projected_offset\n",
       "GEOID Year                                           \n",
       "56045 2014   0.400217     -4.969848         -1.659131\n",
       "      2015   0.442177     -4.980827         -1.617171\n",
       "      2016   0.330661     -4.991814         -1.728687\n",
       "      2017   0.000000     -5.002815         -2.059348\n",
       "      2018   0.000000     -5.013837         -2.059348"
      ]
     },
     "execution_count": 93,
     "metadata": {},
     "output_type": "execute_result"
    }
   ],
   "source": [
    "gmfd.tail()"
   ]
  },
  {
   "cell_type": "code",
   "execution_count": 100,
   "metadata": {},
   "outputs": [],
   "source": [
    "# Remove spurious years\n",
    "gmfd.drop([\"2017\", \"2018\"], level=1, axis=0, inplace = True)"
   ]
  },
  {
   "cell_type": "code",
   "execution_count": 101,
   "metadata": {},
   "outputs": [
    {
     "data": {
      "image/png": "[encoded data removed]",
      "text/plain": [
       "<Figure size 1080x432 with 1 Axes>"
      ]
     },
     "metadata": {
      "needs_background": "light"
     },
     "output_type": "display_data"
    }
   ],
   "source": [
    "# Testing\n",
    "fig, ax = plt.subplots(figsize = (15,6))\n",
    "gmfd.query(\"GEOID == '17019'\").reset_index().plot(x = \"Year\", y = \"projected_offset\", ax = ax, label = \"model\")\n",
    "gmfd.query(\"GEOID == '17019'\").reset_index().plot(x = \"Year\", y = \"target_Value\", ax = ax, label = \"USDA\")\n",
    "plt.legend()\n",
    "plt.show()"
   ]
  },
  {
   "cell_type": "code",
   "execution_count": 102,
   "metadata": {},
   "outputs": [],
   "source": [
    "# Save\n",
    "gmfd.to_csv(\"./output/yield_historical_gmfd_offset.csv\")"
   ]
  },
  {
   "cell_type": "code",
   "execution_count": null,
   "metadata": {},
   "outputs": [],
   "source": []
  }
 ],
 "metadata": {
  "kernelspec": {
   "display_name": "Python 3",
   "language": "python",
   "name": "python3"
  },
  "language_info": {
   "codemirror_mode": {
    "name": "ipython",
    "version": 3
   },
   "file_extension": ".py",
   "mimetype": "text/x-python",
   "name": "python",
   "nbconvert_exporter": "python",
   "pygments_lexer": "ipython3",
   "version": "3.7.2"
  }
 },
 "nbformat": 4,
 "nbformat_minor": 2
}
