{
 "cells": [
  {
   "cell_type": "markdown",
   "metadata": {},
   "source": [
    "# Processing model results"
   ]
  },
  {
   "cell_type": "code",
   "execution_count": 1,
   "metadata": {},
   "outputs": [],
   "source": [
    "import pandas as pd\n",
    "import matplotlib.pyplot as plt\n",
    "import numpy as np\n",
    "import xarray as xr\n",
    "\n",
    "%matplotlib inline\n",
    "plt.rcParams.update({'font.size': 24})\n",
    "\n",
    "# import seaborn as sns\n",
    "# sns.set()"
   ]
  },
  {
   "cell_type": "markdown",
   "metadata": {},
   "source": [
    "### GMFD"
   ]
  },
  {
   "cell_type": "code",
   "execution_count": null,
   "metadata": {},
   "outputs": [],
   "source": [
    "# Load GMFD data\n",
    "gmfd = pd.read_csv(\"./data/yield_historical_gmfd.csv\")\n",
    "gmfd[\"GEOID\"] = gmfd[\"GEOID\"].astype(str).str.zfill(5)\n",
    "gmfd.set_index([\"GEOID\", \"Year\"], inplace = True)\n",
    "gmfd.drop(index = [2017, 2018], level = 1, inplace = True)"
   ]
  },
  {
   "cell_type": "code",
   "execution_count": null,
   "metadata": {},
   "outputs": [],
   "source": [
    "gmfd.tail()"
   ]
  },
  {
   "cell_type": "code",
   "execution_count": null,
   "metadata": {},
   "outputs": [],
   "source": [
    "# Read in USDA data\n",
    "usda = pd.read_csv(\"./output/USDA_county_yields_w_state_trends.csv\")\n",
    "usda[\"state_fips_code\"] = usda[\"state_fips_code\"].astype(str).str.zfill(2)\n",
    "usda[\"county_code\"] = usda[\"county_code\"].astype(str).str.zfill(3)\n",
    "usda[\"GEOID\"] = usda[\"state_fips_code\"] + usda[\"county_code\"]\n",
    "usda[\"GEOID\"] = usda[\"GEOID\"].astype(str).str.zfill(5)\n",
    "usda.set_index([\"GEOID\", \"year\"], inplace = True)"
   ]
  },
  {
   "cell_type": "code",
   "execution_count": null,
   "metadata": {},
   "outputs": [],
   "source": [
    "usda.head()"
   ]
  },
  {
   "cell_type": "code",
   "execution_count": null,
   "metadata": {
    "scrolled": false
   },
   "outputs": [],
   "source": [
    "# Testing\n",
    "fig, ax = plt.subplots(figsize = (15,6))\n",
    "gmfd.query(\"GEOID == '01007'\").reset_index().plot(x = \"Year\", y = \"projected\", ax = ax, label = \"model\")\n",
    "usda.query(\"GEOID == '01007' and year >= 1960\").reset_index().plot(x = \"year\", y = \"target_Value\", ax = ax, label = \"USDA\")\n",
    "plt.legend()\n",
    "plt.show()"
   ]
  },
  {
   "cell_type": "code",
   "execution_count": null,
   "metadata": {},
   "outputs": [],
   "source": [
    "# Offset by means (equivalent to minimising R^2)\n",
    "gmfd[\"projected_offset\"] = 0.0\n",
    "\n",
    "for geoid in usda.index.unique(level = \"GEOID\"):\n",
    "    if geoid in gmfd.index:\n",
    "        model_mean = gmfd.loc[geoid][\"projected\"].mean()\n",
    "        data_mean = usda.loc[geoid].query(\"year >= 1960 and year <= 2016\")[\"target_Value\"].mean()\n",
    "    \n",
    "        gmfd.loc[geoid][\"projected_offset\"] = gmfd.loc[geoid][\"projected\"] - model_mean + data_mean"
   ]
  },
  {
   "cell_type": "code",
   "execution_count": null,
   "metadata": {},
   "outputs": [],
   "source": [
    "gmfd.head()"
   ]
  },
  {
   "cell_type": "code",
   "execution_count": null,
   "metadata": {},
   "outputs": [],
   "source": [
    "# Testing\n",
    "fig, ax = plt.subplots(figsize = (15,6))\n",
    "gmfd.query(\"GEOID == '01007'\").reset_index().plot(x = \"Year\", y = \"projected_offset\", ax = ax, label = \"model\")\n",
    "usda.query(\"GEOID == '01007' and year >= 1960 and year <= 2016\").reset_index().plot(x = \"year\", y = \"target_Value\", ax = ax, label = \"USDA\")\n",
    "plt.legend()\n",
    "plt.show()"
   ]
  },
  {
   "cell_type": "code",
   "execution_count": null,
   "metadata": {},
   "outputs": [],
   "source": [
    "# Save\n",
    "gmfd.to_csv(\"./output/GMFD/yield_historical_gmfd_offset.csv\")"
   ]
  },
  {
   "cell_type": "markdown",
   "metadata": {},
   "source": [
    "# NEX"
   ]
  },
  {
   "cell_type": "code",
   "execution_count": null,
   "metadata": {},
   "outputs": [],
   "source": [
    "# Read in USDA data for \"target value\"\n",
    "usda = pd.read_csv(\"./output/USDA_county_yields_w_county_trends.csv\")\n",
    "usda[\"state_fips_code\"] = usda[\"state_fips_code\"].astype(str).str.zfill(2)\n",
    "usda[\"county_code\"] = usda[\"county_code\"].astype(str).str.zfill(3)\n",
    "usda[\"GEOID\"] = usda[\"state_fips_code\"] + usda[\"county_code\"]\n",
    "usda[\"GEOID\"] = usda[\"GEOID\"].astype(str).str.zfill(5)\n",
    "usda.set_index([\"GEOID\",\"year\"], inplace = True)"
   ]
  },
  {
   "cell_type": "code",
   "execution_count": null,
   "metadata": {},
   "outputs": [],
   "source": [
    "usda.head()"
   ]
  },
  {
   "cell_type": "code",
   "execution_count": null,
   "metadata": {},
   "outputs": [],
   "source": [
    "nex_hind = [\"yield_historical_r1i1p1_ACCESS1-0.csv\",\n",
    "\"yield_historical_r1i1p1_BNU-ESM.csv\",\n",
    "\"yield_historical_r1i1p1_CCSM4.csv\",\n",
    "\"yield_historical_r1i1p1_CESM1-BGC.csv\",\n",
    "\"yield_historical_r1i1p1_CNRM-CM5.csv\",\n",
    "\"yield_historical_r1i1p1_CSIRO-Mk3-6-0.csv\",\n",
    "\"yield_historical_r1i1p1_CanESM2.csv\",\n",
    "\"yield_historical_r1i1p1_GFDL-CM3.csv\",\n",
    "\"yield_historical_r1i1p1_GFDL-ESM2G.csv\",\n",
    "\"yield_historical_r1i1p1_GFDL-ESM2M.csv\",\n",
    "\"yield_historical_r1i1p1_IPSL-CM5A-LR.csv\",\n",
    "\"yield_historical_r1i1p1_IPSL-CM5A-MR.csv\",\n",
    "\"yield_historical_r1i1p1_MIROC-ESM-CHEM.csv\",\n",
    "\"yield_historical_r1i1p1_MIROC-ESM.csv\",\n",
    "\"yield_historical_r1i1p1_MIROC5.csv\",\n",
    "\"yield_historical_r1i1p1_MPI-ESM-LR.csv\",\n",
    "\"yield_historical_r1i1p1_MPI-ESM-MR.csv\",\n",
    "\"yield_historical_r1i1p1_MRI-CGCM3.csv\",\n",
    "\"yield_historical_r1i1p1_NorESM1-M.csv\",\n",
    "\"yield_historical_r1i1p1_bcc-csm1-1.csv\",\n",
    "\"yield_historical_r1i1p1_inmcm4.csv\"]\n",
    "\n",
    "nex_proj = [\"yield_rcp85_r1i1p1_ACCESS1-0.csv\",\n",
    "\"yield_rcp85_r1i1p1_BNU-ESM.csv\",\n",
    "\"yield_rcp85_r1i1p1_CCSM4.csv\",\n",
    "\"yield_rcp85_r1i1p1_CESM1-BGC.csv\",\n",
    "\"yield_rcp85_r1i1p1_CNRM-CM5.csv\",\n",
    "\"yield_rcp85_r1i1p1_CSIRO-Mk3-6-0.csv\",\n",
    "\"yield_rcp85_r1i1p1_CanESM2.csv\",\n",
    "\"yield_rcp85_r1i1p1_GFDL-CM3.csv\",\n",
    "\"yield_rcp85_r1i1p1_GFDL-ESM2G.csv\",\n",
    "\"yield_rcp85_r1i1p1_GFDL-ESM2M.csv\",\n",
    "\"yield_rcp85_r1i1p1_IPSL-CM5A-LR.csv\",\n",
    "\"yield_rcp85_r1i1p1_IPSL-CM5A-MR.csv\",\n",
    "\"yield_rcp85_r1i1p1_MIROC-ESM-CHEM.csv\",\n",
    "\"yield_rcp85_r1i1p1_MIROC-ESM.csv\",\n",
    "\"yield_rcp85_r1i1p1_MIROC5.csv\",\n",
    "\"yield_rcp85_r1i1p1_MPI-ESM-LR.csv\",\n",
    "\"yield_rcp85_r1i1p1_MPI-ESM-MR.csv\",\n",
    "\"yield_rcp85_r1i1p1_MRI-CGCM3.csv\",\n",
    "\"yield_rcp85_r1i1p1_NorESM1-M.csv\",\n",
    "\"yield_rcp85_r1i1p1_bcc-csm1-1.csv\",\n",
    "\"yield_rcp85_r1i1p1_inmcm4.csv\"]"
   ]
  },
  {
   "cell_type": "code",
   "execution_count": null,
   "metadata": {},
   "outputs": [],
   "source": [
    "# Function to subtract means\n",
    "def run_offset(name):\n",
    "    # Read in data\n",
    "    data = pd.read_csv(\"./data/NEX/\" + name)\n",
    "    \n",
    "    # Set columns to contain offsetted results\n",
    "    data[\"projected_offset\"] = 0.0\n",
    "    \n",
    "    # Re-index data and merge with \"reported\" to delete zero yields later\n",
    "    data[\"GEOID\"] = data[\"GEOID\"].astype(str).str.zfill(5)\n",
    "    data.set_index([\"GEOID\",\"Year\"], inplace = True)\n",
    "\n",
    "    for geoid in usda.index.unique(level = \"GEOID\"):\n",
    "        if geoid in data.index:\n",
    "            model_mean = data.loc[geoid].query(\"Year >= 1950 and Year <= 2005\")[\"projected\"].mean()\n",
    "            data_mean = usda.loc[geoid].query(\"year >= 1950 and year <= 2005\")[\"target_Value\"].mean()\n",
    "    \n",
    "            data.loc[geoid][\"projected_offset\"] = data.loc[geoid][\"projected\"] - model_mean + data_mean\n",
    "    \n",
    "    # Save\n",
    "    data.to_csv(\"./output/NEX/res_\" + name)"
   ]
  },
  {
   "cell_type": "code",
   "execution_count": null,
   "metadata": {},
   "outputs": [],
   "source": [
    "# Run all\n",
    "for nex in nex_hind:\n",
    "    run_offset(nex)\n",
    "    \n",
    "for nex in nex_proj:\n",
    "    run_offset(nex)"
   ]
  },
  {
   "cell_type": "markdown",
   "metadata": {},
   "source": [
    "# CMIP"
   ]
  },
  {
   "cell_type": "code",
   "execution_count": 2,
   "metadata": {},
   "outputs": [],
   "source": [
    "# Read in USDA data for \"target value\"\n",
    "usda = pd.read_csv(\"./output/USDA_county_yields_w_county_trends.csv\")\n",
    "usda[\"state_fips_code\"] = usda[\"state_fips_code\"].astype(str).str.zfill(2)\n",
    "usda[\"county_code\"] = usda[\"county_code\"].astype(str).str.zfill(3)\n",
    "usda[\"GEOID\"] = usda[\"state_fips_code\"] + usda[\"county_code\"]\n",
    "usda[\"GEOID\"] = usda[\"GEOID\"].astype(str).str.zfill(5)\n",
    "usda.set_index([\"GEOID\",\"year\"], inplace = True)"
   ]
  },
  {
   "cell_type": "code",
   "execution_count": 3,
   "metadata": {},
   "outputs": [
    {
     "data": {
      "text/html": [
       "<div>\n",
       "<style scoped>\n",
       "    .dataframe tbody tr th:only-of-type {\n",
       "        vertical-align: middle;\n",
       "    }\n",
       "\n",
       "    .dataframe tbody tr th {\n",
       "        vertical-align: top;\n",
       "    }\n",
       "\n",
       "    .dataframe thead th {\n",
       "        text-align: right;\n",
       "    }\n",
       "</style>\n",
       "<table border=\"1\" class=\"dataframe\">\n",
       "  <thead>\n",
       "    <tr style=\"text-align: right;\">\n",
       "      <th></th>\n",
       "      <th></th>\n",
       "      <th>state_fips_code</th>\n",
       "      <th>county_code</th>\n",
       "      <th>asd_code</th>\n",
       "      <th>Value</th>\n",
       "      <th>area</th>\n",
       "      <th>log_Value</th>\n",
       "      <th>lowess_log_Value</th>\n",
       "      <th>target_Value</th>\n",
       "    </tr>\n",
       "    <tr>\n",
       "      <th>GEOID</th>\n",
       "      <th>year</th>\n",
       "      <th></th>\n",
       "      <th></th>\n",
       "      <th></th>\n",
       "      <th></th>\n",
       "      <th></th>\n",
       "      <th></th>\n",
       "      <th></th>\n",
       "      <th></th>\n",
       "    </tr>\n",
       "  </thead>\n",
       "  <tbody>\n",
       "    <tr>\n",
       "      <th>01001</th>\n",
       "      <th>1950</th>\n",
       "      <td>01</td>\n",
       "      <td>001</td>\n",
       "      <td>40</td>\n",
       "      <td>17.0</td>\n",
       "      <td>29600.0</td>\n",
       "      <td>2.833213</td>\n",
       "      <td>2.922636</td>\n",
       "      <td>-0.089422</td>\n",
       "    </tr>\n",
       "    <tr>\n",
       "      <th>01011</th>\n",
       "      <th>1950</th>\n",
       "      <td>01</td>\n",
       "      <td>011</td>\n",
       "      <td>40</td>\n",
       "      <td>11.0</td>\n",
       "      <td>24200.0</td>\n",
       "      <td>2.397895</td>\n",
       "      <td>2.684326</td>\n",
       "      <td>-0.286430</td>\n",
       "    </tr>\n",
       "    <tr>\n",
       "      <th>01047</th>\n",
       "      <th>1950</th>\n",
       "      <td>01</td>\n",
       "      <td>047</td>\n",
       "      <td>40</td>\n",
       "      <td>13.0</td>\n",
       "      <td>44200.0</td>\n",
       "      <td>2.564949</td>\n",
       "      <td>2.724326</td>\n",
       "      <td>-0.159377</td>\n",
       "    </tr>\n",
       "    <tr>\n",
       "      <th>01051</th>\n",
       "      <th>1950</th>\n",
       "      <td>01</td>\n",
       "      <td>051</td>\n",
       "      <td>40</td>\n",
       "      <td>23.0</td>\n",
       "      <td>38900.0</td>\n",
       "      <td>3.135494</td>\n",
       "      <td>3.057709</td>\n",
       "      <td>0.077785</td>\n",
       "    </tr>\n",
       "    <tr>\n",
       "      <th>01063</th>\n",
       "      <th>1950</th>\n",
       "      <td>01</td>\n",
       "      <td>063</td>\n",
       "      <td>40</td>\n",
       "      <td>16.0</td>\n",
       "      <td>23900.0</td>\n",
       "      <td>2.772589</td>\n",
       "      <td>2.724703</td>\n",
       "      <td>0.047885</td>\n",
       "    </tr>\n",
       "  </tbody>\n",
       "</table>\n",
       "</div>"
      ],
      "text/plain": [
       "           state_fips_code county_code  asd_code  Value     area  log_Value  \\\n",
       "GEOID year                                                                    \n",
       "01001 1950              01         001        40   17.0  29600.0   2.833213   \n",
       "01011 1950              01         011        40   11.0  24200.0   2.397895   \n",
       "01047 1950              01         047        40   13.0  44200.0   2.564949   \n",
       "01051 1950              01         051        40   23.0  38900.0   3.135494   \n",
       "01063 1950              01         063        40   16.0  23900.0   2.772589   \n",
       "\n",
       "            lowess_log_Value  target_Value  \n",
       "GEOID year                                  \n",
       "01001 1950          2.922636     -0.089422  \n",
       "01011 1950          2.684326     -0.286430  \n",
       "01047 1950          2.724326     -0.159377  \n",
       "01051 1950          3.057709      0.077785  \n",
       "01063 1950          2.724703      0.047885  "
      ]
     },
     "execution_count": 3,
     "metadata": {},
     "output_type": "execute_result"
    }
   ],
   "source": [
    "usda.head()"
   ]
  },
  {
   "cell_type": "code",
   "execution_count": 4,
   "metadata": {},
   "outputs": [],
   "source": [
    "cmip_all = [\"yield_ACCESS1-0.historical+rcp85.csv\",\n",
    "\"yield_BNU-ESM.historical+rcp85.csv\",\n",
    "\"yield_CCSM4_historical+rcp85.csv\",\n",
    "\"yield_CESM1-BGC.historical+rcp85.csv\",\n",
    "\"yield_CNRM-CM5.historical+rcp85.csv\",\n",
    "\"yield_CSIRO-Mk3-6-0.historical+rcp85.csv\",\n",
    "\"yield_CanESM2.historical+rcp85.csv\",\n",
    "\"yield_GFDL-CM3.historical+rcp85.csv\",\n",
    "\"yield_GFDL-ESM2G.historical+rcp85.csv\",\n",
    "\"yield_GFDL-ESM2M.historical+rcp85.csv\",\n",
    "\"yield_IPSL-CM5A-LR.historical+rcp85.csv\",\n",
    "\"yield_IPSL-CM5A-MR.historical+rcp85.csv\",\n",
    "\"yield_MIROC-ESM-CHEM.historical+rcp85.csv\",\n",
    "\"yield_MIROC-ESM.historical+rcp85.csv\",\n",
    "\"yield_MIROC5.historical+rcp85.csv\",\n",
    "\"yield_MPI-ESM-LR.historical+rcp85.csv\",\n",
    "\"yield_MPI-ESM-MR.historical+rcp85.csv\",\n",
    "\"yield_MRI-CGCM3.historical+rcp85.csv\",\n",
    "\"yield_NorESM1-M.historical+rcp85.csv\",\n",
    "\"yield_bcc-csm1-1_historical+rcp85.csv\",\n",
    "\"yield_inmcm4.historical+rcp85.csv\"]"
   ]
  },
  {
   "cell_type": "code",
   "execution_count": 5,
   "metadata": {},
   "outputs": [],
   "source": [
    "# Function to subtract means\n",
    "def run_offset(name):\n",
    "    # Read in data\n",
    "    data = pd.read_csv(\"./data/CMIP/\" + name)\n",
    "    \n",
    "    # Set columns to contain offsetted results\n",
    "    data[\"projected_offset\"] = 0.0\n",
    "    \n",
    "    # Re-index data and merge with \"reported\" to delete zero yields later\n",
    "    data[\"GEOID\"] = data[\"GEOID\"].astype(str).str.zfill(5)\n",
    "    data.set_index([\"GEOID\",\"Year\"], inplace = True)\n",
    "\n",
    "    for geoid in usda.index.unique(level = \"GEOID\"):\n",
    "        if geoid in data.index:\n",
    "            model_mean = data.loc[geoid].query(\"Year >= 1950 and Year <= 2005\")[\"projected\"].mean()\n",
    "            data_mean = usda.loc[geoid].query(\"year >= 1950 and year <= 2005\")[\"target_Value\"].mean()\n",
    "    \n",
    "            data.loc[geoid][\"projected_offset\"] = data.loc[geoid][\"projected\"] - model_mean + data_mean\n",
    "    \n",
    "    # Save\n",
    "    data.to_csv(\"./output/CMIP/res_\" + name)"
   ]
  },
  {
   "cell_type": "code",
   "execution_count": 6,
   "metadata": {},
   "outputs": [],
   "source": [
    "# Run all\n",
    "for cmip in cmip_all:\n",
    "    run_offset(cmip)"
   ]
  },
  {
   "cell_type": "code",
   "execution_count": null,
   "metadata": {},
   "outputs": [],
   "source": []
  }
 ],
 "metadata": {
  "kernelspec": {
   "display_name": "Python 3",
   "language": "python",
   "name": "python3"
  },
  "language_info": {
   "codemirror_mode": {
    "name": "ipython",
    "version": 3
   },
   "file_extension": ".py",
   "mimetype": "text/x-python",
   "name": "python",
   "nbconvert_exporter": "python",
   "pygments_lexer": "ipython3",
   "version": "3.7.2"
  }
 },
 "nbformat": 4,
 "nbformat_minor": 2
}
