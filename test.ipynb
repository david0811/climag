{
 "cells": [
  {
   "cell_type": "code",
   "execution_count": 1,
   "metadata": {},
   "outputs": [],
   "source": [
    "import pandas as pd\n",
    "import numpy as np\n",
    "import xarray as xr"
   ]
  },
  {
   "cell_type": "code",
   "execution_count": 2,
   "metadata": {},
   "outputs": [],
   "source": [
    "# NEX data \n",
    "gdd = xr.open_dataset(\"../data/netCDF/GDD_10-29C_gs_MIROC5.historical+rcp85.nc\")\n",
    "kdd = xr.open_dataset(\"../data/netCDF/GDD_29C_gs_MIROC5.historical+rcp85.nc\")\n",
    "prcp = xr.open_dataset(\"../data/netCDF/cuml_precip_gs_MIROC5.historical+rcp85.nc\")"
   ]
  },
  {
   "cell_type": "code",
   "execution_count": 20,
   "metadata": {},
   "outputs": [
    {
     "data": {
      "text/plain": [
       "<xarray.Dataset>\n",
       "Dimensions:  (lat: 128, lon: 256, time: 150)\n",
       "Coordinates:\n",
       "  * lat      (lat) float64 -88.93 -87.54 -86.14 -84.74 ... 86.14 87.54 88.93\n",
       "  * lon      (lon) float64 0.0 1.406 2.812 4.219 ... 354.4 355.8 357.2 358.6\n",
       "  * time     (time) int32 1950 1951 1952 1953 1954 ... 2095 2096 2097 2098 2099\n",
       "Data variables:\n",
       "    GDD      (time, lat, lon) float64 0.0 0.0 0.0 0.0 0.0 ... 0.0 0.0 0.0 0.0\n",
       "    impact   (time, lat, lon) float64 0.0003973 0.0003942 ... 0.002847 0.002867\n",
       "Attributes:\n",
       "    description:  Growing degree days"
      ]
     },
     "execution_count": 20,
     "metadata": {},
     "output_type": "execute_result"
    }
   ],
   "source": [
    "gdd"
   ]
  },
  {
   "cell_type": "code",
   "execution_count": 5,
   "metadata": {},
   "outputs": [
    {
     "data": {
      "text/plain": [
       "<xarray.Dataset>\n",
       "Dimensions:  (lat: 128, lon: 256, time: 250)\n",
       "Coordinates:\n",
       "  * lat      (lat) float64 -88.93 -87.54 -86.14 -84.74 ... 86.14 87.54 88.93\n",
       "  * lon      (lon) float64 0.0 1.406 2.812 4.219 ... 354.4 355.8 357.2 358.6\n",
       "  * time     (time) int32 1850 1851 1852 1853 1854 ... 2095 2096 2097 2098 2099\n",
       "Data variables:\n",
       "    GDD      (time, lat, lon) float64 ...\n",
       "Attributes:\n",
       "    description:  Growing degree days"
      ]
     },
     "execution_count": 5,
     "metadata": {},
     "output_type": "execute_result"
    }
   ],
   "source": [
    "kdd"
   ]
  },
  {
   "cell_type": "code",
   "execution_count": 6,
   "metadata": {},
   "outputs": [
    {
     "data": {
      "text/plain": [
       "<xarray.Dataset>\n",
       "Dimensions:  (lat: 128, lon: 256, time: 251)\n",
       "Coordinates:\n",
       "  * lat      (lat) float64 -88.93 -87.54 -86.14 -84.74 ... 86.14 87.54 88.93\n",
       "  * lon      (lon) float64 0.0 1.406 2.812 4.219 ... 354.4 355.8 357.2 358.6\n",
       "  * time     (time) int32 1850 1851 1852 1853 1854 ... 2096 2097 2098 2099 2100\n",
       "Data variables:\n",
       "    prcp     (time, lat, lon) float64 ...\n",
       "Attributes:\n",
       "    description:  Growing season total precipitation"
      ]
     },
     "execution_count": 6,
     "metadata": {},
     "output_type": "execute_result"
    }
   ],
   "source": [
    "prcp"
   ]
  },
  {
   "cell_type": "code",
   "execution_count": 8,
   "metadata": {},
   "outputs": [],
   "source": [
    "tbound = [1950,2099]\n",
    "gdd = gdd.sel(time = slice(*tbound))\n",
    "kdd = kdd.sel(time = slice(*tbound))\n",
    "prcp = prcp.sel(time = slice(*tbound))"
   ]
  },
  {
   "cell_type": "code",
   "execution_count": 15,
   "metadata": {},
   "outputs": [],
   "source": [
    "gdd[\"impact\"] = (0.5 * gdd[\"GDD\"] - 0.2 * kdd[\"GDD\"] + 0.1 * prcp[\"prcp\"]) * 0.256"
   ]
  },
  {
   "cell_type": "code",
   "execution_count": 16,
   "metadata": {},
   "outputs": [
    {
     "data": {
      "text/plain": [
       "<xarray.Dataset>\n",
       "Dimensions:  ()\n",
       "Coordinates:\n",
       "    lat      float64 51.13\n",
       "    lon      float64 309.4\n",
       "    time     int32 2020\n",
       "Data variables:\n",
       "    GDD      float64 0.02421\n",
       "    impact   float64 0.01718\n",
       "Attributes:\n",
       "    description:  Growing degree days"
      ]
     },
     "execution_count": 16,
     "metadata": {},
     "output_type": "execute_result"
    }
   ],
   "source": [
    "gdd.isel(lat = 100, lon = 220, time = 70)"
   ]
  },
  {
   "cell_type": "code",
   "execution_count": 19,
   "metadata": {},
   "outputs": [
    {
     "data": {
      "text/plain": [
       "<xarray.DataArray ()>\n",
       "array(0.01718)\n",
       "Coordinates:\n",
       "    lat      float64 51.13\n",
       "    lon      float64 309.4\n",
       "    time     int32 2020"
      ]
     },
     "execution_count": 19,
     "metadata": {},
     "output_type": "execute_result"
    }
   ],
   "source": [
    "(0.5 * gdd.isel(lat = 100, lon = 220, time = 70)[\"GDD\"] * 0.256) + (0.1 * prcp.isel(lat = 100, lon = 220, time = 70)[\"prcp\"] * 0.256) + (-0.2 * kdd.isel(lat = 100, lon = 220, time = 70)[\"GDD\"] * 0.256)"
   ]
  },
  {
   "cell_type": "code",
   "execution_count": null,
   "metadata": {},
   "outputs": [],
   "source": []
  }
 ],
 "metadata": {
  "kernelspec": {
   "display_name": "Python 3",
   "language": "python",
   "name": "python3"
  },
  "language_info": {
   "codemirror_mode": {
    "name": "ipython",
    "version": 3
   },
   "file_extension": ".py",
   "mimetype": "text/x-python",
   "name": "python",
   "nbconvert_exporter": "python",
   "pygments_lexer": "ipython3",
   "version": "3.7.2"
  }
 },
 "nbformat": 4,
 "nbformat_minor": 2
}
