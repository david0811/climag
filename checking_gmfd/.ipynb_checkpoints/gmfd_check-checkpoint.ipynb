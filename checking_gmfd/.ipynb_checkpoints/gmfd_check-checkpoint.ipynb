{
 "cells": [
  {
   "cell_type": "code",
   "execution_count": 1,
   "metadata": {},
   "outputs": [],
   "source": [
    "import numpy as np\n",
    "import pandas as pd\n",
    "import xarray as xr\n",
    "from scipy import interpolate"
   ]
  },
  {
   "cell_type": "code",
   "execution_count": 2,
   "metadata": {},
   "outputs": [],
   "source": [
    "precip = xr.open_dataset('../netCDF/cuml_precip_gs_GMFD.nc')\n",
    "gdd = xr.open_dataset('../netCDF/GDD_10-29C_gs_GMFD.nc')\n",
    "egdd = xr.open_dataset('../netCDF/GDD_29C_gs_GMFD.nc')"
   ]
  },
  {
   "cell_type": "code",
   "execution_count": 3,
   "metadata": {},
   "outputs": [],
   "source": [
    "weights = pd.read_csv('../data/grids/gmfd/output/counties_GMFD_area.csv')\n",
    "weights['GEOID'] = weights['GEOID'].astype(str).str.zfill(5)"
   ]
  },
  {
   "cell_type": "code",
   "execution_count": 4,
   "metadata": {},
   "outputs": [],
   "source": [
    "final = precip.copy()"
   ]
  },
  {
   "cell_type": "code",
   "execution_count": 5,
   "metadata": {},
   "outputs": [
    {
     "data": {
      "text/html": [
       "<pre>&lt;xarray.Dataset&gt;\n",
       "Dimensions:  (lat: 600, lon: 1440, time: 61)\n",
       "Coordinates:\n",
       "  * lat      (lat) float64 -59.88 -59.62 -59.38 -59.12 ... 89.38 89.62 89.88\n",
       "  * lon      (lon) float64 0.125 0.375 0.625 0.875 ... 359.1 359.4 359.6 359.9\n",
       "  * time     (time) int32 1956 1957 1958 1959 1960 ... 2012 2013 2014 2015 2016\n",
       "Data variables:\n",
       "    prcp     (time, lat, lon) float64 ...\n",
       "Attributes:\n",
       "    description:  Growing season total precipitation</pre>"
      ],
      "text/plain": [
       "<xarray.Dataset>\n",
       "Dimensions:  (lat: 600, lon: 1440, time: 61)\n",
       "Coordinates:\n",
       "  * lat      (lat) float64 -59.88 -59.62 -59.38 -59.12 ... 89.38 89.62 89.88\n",
       "  * lon      (lon) float64 0.125 0.375 0.625 0.875 ... 359.1 359.4 359.6 359.9\n",
       "  * time     (time) int32 1956 1957 1958 1959 1960 ... 2012 2013 2014 2015 2016\n",
       "Data variables:\n",
       "    prcp     (time, lat, lon) float64 ...\n",
       "Attributes:\n",
       "    description:  Growing season total precipitation"
      ]
     },
     "execution_count": 5,
     "metadata": {},
     "output_type": "execute_result"
    }
   ],
   "source": [
    "final"
   ]
  },
  {
   "cell_type": "code",
   "execution_count": 6,
   "metadata": {},
   "outputs": [
    {
     "name": "stdout",
     "output_type": "stream",
     "text": [
      "East/West divide is at longitude point: 1040\n"
     ]
    }
   ],
   "source": [
    "# Impact functions\n",
    "east_west_meridian = np.argmax(final[\"lon\"].values > 260.)\n",
    "print(\"East/West divide is at longitude point: \" + str(east_west_meridian))\n",
    "\n",
    "Ealpha = 0.00031309187\n",
    "Ebeta = -0.0061613785\n",
    "\n",
    "Walpha = 0.00026968688416391184\n",
    "Wbeta = -0.00299402820671972\n",
    "\n",
    "Eprecip_x = np.load(\"../data/response/output/maize_east_precip_x.npy\")\n",
    "Eprecip_y = np.load(\"../data/response/output/maize_east_precip_y.npy\")\n",
    "\n",
    "Wprecip_x = np.load(\"../data/response/output/maize_west_precip_x.npy\")\n",
    "Wprecip_y = np.load(\"../data/response/output/maize_west_precip_y.npy\")\n",
    "\n",
    "Eprecip_interp = interpolate.interp1d(np.insert(Eprecip_x, 0, 0., axis=0), np.insert(Eprecip_y[:,0], 0, 0., axis=0), fill_value = \"extrapolate\", bounds_error = False)\n",
    "Wprecip_interp = interpolate.interp1d(np.insert(Wprecip_x, 0, 0., axis=0), np.insert(Wprecip_y[:,0], 0, 0., axis=0), fill_value = \"extrapolate\", bounds_error = False)\n",
    "\n",
    "# Apply impact functions\n",
    "final[\"Eimpact\"] = (Ealpha * gdd[\"GDD\"]) + (Ebeta * egdd[\"GDD\"]) + Eprecip_interp(precip[\"prcp\"])\n",
    "final[\"Wimpact\"] = (Walpha * gdd[\"GDD\"]) + (Wbeta * egdd[\"GDD\"]) + Wprecip_interp(precip[\"prcp\"])"
   ]
  },
  {
   "cell_type": "code",
   "execution_count": 7,
   "metadata": {},
   "outputs": [],
   "source": [
    "# Set time range\n",
    "yearMin = 1956\n",
    "yearMax = 2016\n",
    "tbound = [yearMin,yearMax]\n",
    "\n",
    "# Build index structure for dataframe\n",
    "unique_geoids = np.load(\"../data/USDA/usda_grab/output/unique_geoids.npy\", allow_pickle=True)\n",
    "years = np.arange(yearMin, yearMax+1, 1)\n",
    "\n",
    "unique_geoids = [[unique_geoid]*len(years) for unique_geoid in unique_geoids]\n",
    "unique_geoids = np.ndarray.flatten(np.asarray(unique_geoids))\n",
    "\n",
    "years = [years] * len(unique_geoids)\n",
    "years = np.ndarray.flatten(np.asarray(years))\n",
    "\n",
    "tuples = list(zip(*[unique_geoids, years]))\n",
    "\n",
    "index = pd.MultiIndex.from_tuples(tuples)\n",
    "\n",
    "# Build empty dataframe with complete indexing\n",
    "proj_final = pd.DataFrame(index = index)\n",
    "proj_final.index.names = [\"GEOID\", \"Year\"]\n",
    "proj_final[\"projected\"] = 0."
   ]
  },
  {
   "cell_type": "code",
   "execution_count": 8,
   "metadata": {},
   "outputs": [
    {
     "data": {
      "text/html": [
       "<pre>&lt;xarray.Dataset&gt;\n",
       "Dimensions:  (lat: 600, lon: 1440, time: 61)\n",
       "Coordinates:\n",
       "  * lat      (lat) float64 -59.88 -59.62 -59.38 -59.12 ... 89.38 89.62 89.88\n",
       "  * lon      (lon) float64 0.125 0.375 0.625 0.875 ... 359.1 359.4 359.6 359.9\n",
       "  * time     (time) int32 1956 1957 1958 1959 1960 ... 2012 2013 2014 2015 2016\n",
       "Data variables:\n",
       "    prcp     (time, lat, lon) float64 ...\n",
       "    Eimpact  (time, lat, lon) float64 0.2522 0.2508 0.2494 ... 0.1033 0.1031\n",
       "    Wimpact  (time, lat, lon) float64 0.1834 0.1823 0.1812 ... 0.07162 0.07147\n",
       "Attributes:\n",
       "    description:  Growing season total precipitation</pre>"
      ],
      "text/plain": [
       "<xarray.Dataset>\n",
       "Dimensions:  (lat: 600, lon: 1440, time: 61)\n",
       "Coordinates:\n",
       "  * lat      (lat) float64 -59.88 -59.62 -59.38 -59.12 ... 89.38 89.62 89.88\n",
       "  * lon      (lon) float64 0.125 0.375 0.625 0.875 ... 359.1 359.4 359.6 359.9\n",
       "  * time     (time) int32 1956 1957 1958 1959 1960 ... 2012 2013 2014 2015 2016\n",
       "Data variables:\n",
       "    prcp     (time, lat, lon) float64 ...\n",
       "    Eimpact  (time, lat, lon) float64 0.2522 0.2508 0.2494 ... 0.1033 0.1031\n",
       "    Wimpact  (time, lat, lon) float64 0.1834 0.1823 0.1812 ... 0.07162 0.07147\n",
       "Attributes:\n",
       "    description:  Growing season total precipitation"
      ]
     },
     "execution_count": 8,
     "metadata": {},
     "output_type": "execute_result"
    }
   ],
   "source": [
    "final"
   ]
  },
  {
   "cell_type": "code",
   "execution_count": 9,
   "metadata": {},
   "outputs": [
    {
     "data": {
      "text/html": [
       "<div>\n",
       "<style scoped>\n",
       "    .dataframe tbody tr th:only-of-type {\n",
       "        vertical-align: middle;\n",
       "    }\n",
       "\n",
       "    .dataframe tbody tr th {\n",
       "        vertical-align: top;\n",
       "    }\n",
       "\n",
       "    .dataframe thead th {\n",
       "        text-align: right;\n",
       "    }\n",
       "</style>\n",
       "<table border=\"1\" class=\"dataframe\">\n",
       "  <thead>\n",
       "    <tr style=\"text-align: right;\">\n",
       "      <th></th>\n",
       "      <th>STATEFP</th>\n",
       "      <th>COUNTYFP</th>\n",
       "      <th>GEOID</th>\n",
       "      <th>latitude</th>\n",
       "      <th>longitude</th>\n",
       "      <th>area_frac</th>\n",
       "    </tr>\n",
       "  </thead>\n",
       "  <tbody>\n",
       "    <tr>\n",
       "      <th>0</th>\n",
       "      <td>31</td>\n",
       "      <td>39</td>\n",
       "      <td>31039</td>\n",
       "      <td>407</td>\n",
       "      <td>1053</td>\n",
       "      <td>0.301500</td>\n",
       "    </tr>\n",
       "    <tr>\n",
       "      <th>1</th>\n",
       "      <td>31</td>\n",
       "      <td>39</td>\n",
       "      <td>31039</td>\n",
       "      <td>408</td>\n",
       "      <td>1051</td>\n",
       "      <td>0.010968</td>\n",
       "    </tr>\n",
       "    <tr>\n",
       "      <th>2</th>\n",
       "      <td>31</td>\n",
       "      <td>39</td>\n",
       "      <td>31039</td>\n",
       "      <td>408</td>\n",
       "      <td>1052</td>\n",
       "      <td>0.139981</td>\n",
       "    </tr>\n",
       "    <tr>\n",
       "      <th>3</th>\n",
       "      <td>31</td>\n",
       "      <td>39</td>\n",
       "      <td>31039</td>\n",
       "      <td>408</td>\n",
       "      <td>1053</td>\n",
       "      <td>0.108643</td>\n",
       "    </tr>\n",
       "    <tr>\n",
       "      <th>4</th>\n",
       "      <td>31</td>\n",
       "      <td>39</td>\n",
       "      <td>31039</td>\n",
       "      <td>406</td>\n",
       "      <td>1051</td>\n",
       "      <td>0.000866</td>\n",
       "    </tr>\n",
       "    <tr>\n",
       "      <th>...</th>\n",
       "      <td>...</td>\n",
       "      <td>...</td>\n",
       "      <td>...</td>\n",
       "      <td>...</td>\n",
       "      <td>...</td>\n",
       "      <td>...</td>\n",
       "    </tr>\n",
       "    <tr>\n",
       "      <th>31484</th>\n",
       "      <td>30</td>\n",
       "      <td>19</td>\n",
       "      <td>30019</td>\n",
       "      <td>434</td>\n",
       "      <td>1015</td>\n",
       "      <td>0.008692</td>\n",
       "    </tr>\n",
       "    <tr>\n",
       "      <th>31485</th>\n",
       "      <td>30</td>\n",
       "      <td>19</td>\n",
       "      <td>30019</td>\n",
       "      <td>435</td>\n",
       "      <td>1019</td>\n",
       "      <td>0.112881</td>\n",
       "    </tr>\n",
       "    <tr>\n",
       "      <th>31486</th>\n",
       "      <td>30</td>\n",
       "      <td>19</td>\n",
       "      <td>30019</td>\n",
       "      <td>435</td>\n",
       "      <td>1016</td>\n",
       "      <td>0.138043</td>\n",
       "    </tr>\n",
       "    <tr>\n",
       "      <th>31487</th>\n",
       "      <td>30</td>\n",
       "      <td>19</td>\n",
       "      <td>30019</td>\n",
       "      <td>435</td>\n",
       "      <td>1018</td>\n",
       "      <td>0.137948</td>\n",
       "    </tr>\n",
       "    <tr>\n",
       "      <th>31488</th>\n",
       "      <td>30</td>\n",
       "      <td>19</td>\n",
       "      <td>30019</td>\n",
       "      <td>435</td>\n",
       "      <td>1017</td>\n",
       "      <td>0.138083</td>\n",
       "    </tr>\n",
       "  </tbody>\n",
       "</table>\n",
       "<p>31489 rows × 6 columns</p>\n",
       "</div>"
      ],
      "text/plain": [
       "       STATEFP  COUNTYFP  GEOID  latitude  longitude  area_frac\n",
       "0           31        39  31039       407       1053   0.301500\n",
       "1           31        39  31039       408       1051   0.010968\n",
       "2           31        39  31039       408       1052   0.139981\n",
       "3           31        39  31039       408       1053   0.108643\n",
       "4           31        39  31039       406       1051   0.000866\n",
       "...        ...       ...    ...       ...        ...        ...\n",
       "31484       30        19  30019       434       1015   0.008692\n",
       "31485       30        19  30019       435       1019   0.112881\n",
       "31486       30        19  30019       435       1016   0.138043\n",
       "31487       30        19  30019       435       1018   0.137948\n",
       "31488       30        19  30019       435       1017   0.138083\n",
       "\n",
       "[31489 rows x 6 columns]"
      ]
     },
     "execution_count": 9,
     "metadata": {},
     "output_type": "execute_result"
    }
   ],
   "source": [
    "weights"
   ]
  },
  {
   "cell_type": "code",
   "execution_count": 22,
   "metadata": {},
   "outputs": [],
   "source": [
    "# Calulate projections\n",
    "for geoid in proj_final.index.unique(level = \"GEOID\"):\n",
    "    pd_temp = weights[weights.GEOID == geoid]\n",
    "    for year in proj_final.index.unique(level = \"Year\"):\n",
    "        temp = 0\n",
    "        for index, row in pd_temp.iterrows():\n",
    "            if row[\"longitude\"] >= east_west_meridian:\n",
    "                temp += (final.isel(lat = row[\"latitude\"], lon = row[\"longitude\"], time = year-yearMin)[\"Eimpact\"] * row[\"area_frac\"])\n",
    "            elif row[\"longitude\"] < east_west_meridian:\n",
    "                temp += (final.isel(lat = row[\"latitude\"], lon = row[\"longitude\"], time = year-yearMin)[\"Wimpact\"] * row[\"area_frac\"])\n",
    "        proj_final.loc[geoid, year][\"projected\"] = temp"
   ]
  },
  {
   "cell_type": "code",
   "execution_count": 25,
   "metadata": {},
   "outputs": [],
   "source": [
    "proj_final.to_csv('gmfd_yield_area_weights.csv')"
   ]
  },
  {
   "cell_type": "code",
   "execution_count": null,
   "metadata": {},
   "outputs": [],
   "source": []
  }
 ],
 "metadata": {
  "kernelspec": {
   "display_name": "Python 3",
   "language": "python",
   "name": "python3"
  },
  "language_info": {
   "codemirror_mode": {
    "name": "ipython",
    "version": 3
   },
   "file_extension": ".py",
   "mimetype": "text/x-python",
   "name": "python",
   "nbconvert_exporter": "python",
   "pygments_lexer": "ipython3",
   "version": "3.7.6"
  }
 },
 "nbformat": 4,
 "nbformat_minor": 4
}
